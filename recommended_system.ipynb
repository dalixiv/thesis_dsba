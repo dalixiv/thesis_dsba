{
  "cells": [
    {
      "cell_type": "code",
      "execution_count": 4,
      "outputs": [],
      "source": [
        "#!pip install surprise"
      ],
      "metadata": {
        "pycharm": {
          "name": "#%%\n"
        },
        "id": "-Mlak0BLRohB"
      }
    },
    {
      "cell_type": "code",
      "execution_count": 3,
      "metadata": {
        "id": "Hh1hOV1iV4ka",
        "pycharm": {
          "name": "#%%\n"
        }
      },
      "outputs": [],
      "source": [
        "import pandas as pd\n",
        "import scipy.sparse as sparse\n",
        "import numpy as np\n",
        "from scipy.sparse.linalg import spsolve\n",
        "from collections import defaultdict\n",
        "from surprise.model_selection import train_test_split\n",
        "import io \n",
        "\n",
        "from surprise import KNNBaseline\n",
        "from surprise import Dataset\n",
        "from surprise import get_dataset_dir\n",
        "from surprise import NormalPredictor\n",
        "from surprise import Dataset\n",
        "from surprise import Reader\n",
        "from surprise.model_selection import cross_validate"
      ]
    },
    {
      "cell_type": "code",
      "execution_count": 5,
      "outputs": [],
      "source": [
        "path = 'clustered_clients.csv'\n",
        "df = pd.read_csv(path)"
      ],
      "metadata": {
        "pycharm": {
          "name": "#%%\n"
        },
        "id": "Beu7shWvRohD"
      }
    },
    {
      "cell_type": "code",
      "execution_count": 6,
      "outputs": [],
      "source": [
        "#add id for each client\n",
        "path_id = 'vitrina_clients_vkr.xlsx'\n",
        "with open(path_id, 'rb') as f:\n",
        "    df_initial = pd.read_excel(io.BytesIO(f.read()), sheet_name='Sheet1', nrows=200,engine='openpyxl')\n",
        "\n",
        "\n",
        "# df_initial = pd.read_excel(path, sheet_name='Sheet1', nrows=200,engine='openpyxl')\n",
        "id_col = df_initial['client_id']\n"
      ],
      "metadata": {
        "pycharm": {
          "name": "#%%\n"
        },
        "id": "YtN9sV1uRohD"
      }
    },
    {
      "cell_type": "code",
      "execution_count": 7,
      "outputs": [],
      "source": [
        "df['client_id'] = id_col"
      ],
      "metadata": {
        "pycharm": {
          "name": "#%%\n"
        },
        "id": "ymm-hdYPRohE"
      }
    },
    {
      "cell_type": "code",
      "execution_count": 8,
      "outputs": [],
      "source": [
        "df = df[:10000]"
      ],
      "metadata": {
        "pycharm": {
          "name": "#%%\n"
        },
        "id": "jxpfChweRohE"
      }
    },
    {
      "cell_type": "code",
      "execution_count": 9,
      "outputs": [
        {
          "output_type": "stream",
          "name": "stdout",
          "text": [
            "<class 'pandas.core.frame.DataFrame'>\n",
            "RangeIndex: 10000 entries, 0 to 9999\n",
            "Data columns (total 41 columns):\n",
            " #   Column                     Non-Null Count  Dtype  \n",
            "---  ------                     --------------  -----  \n",
            " 0   DistinctCountOrders        10000 non-null  int64  \n",
            " 1   AverageOrderSum            10000 non-null  float64\n",
            " 2   AvgBill                    10000 non-null  float64\n",
            " 3   AverageNumItemsInOrder     10000 non-null  float64\n",
            " 4   RevenueClient              10000 non-null  float64\n",
            " 5   TotalNumberItemsOrdered    10000 non-null  int64  \n",
            " 6   AverageMarginOrder         10000 non-null  float64\n",
            " 7   cnt_purchased_orders       10000 non-null  int64  \n",
            " 8   AvgOrderSumPurchased       10000 non-null  float64\n",
            " 9   AvgNumItemsOrderPurchased  10000 non-null  float64\n",
            " 10  RevenueClientPurchased     10000 non-null  float64\n",
            " 11  PurchasedItems             10000 non-null  float64\n",
            " 12  AvgMarginPurchased         10000 non-null  float64\n",
            " 13  SharePurchasedOrders       10000 non-null  float64\n",
            " 14  ДЕТСКОЕ ПИТАНИЕ            10000 non-null  float64\n",
            " 15  ЖЕНСКИЕ ШТУЧКИ             10000 non-null  float64\n",
            " 16  ИГРУШКИ                    10000 non-null  float64\n",
            " 17  КАНЦТОВАРЫ, КНИГИ, ДИСКИ   10000 non-null  float64\n",
            " 18  КОСМЕТИКА/ГИГИЕНА          10000 non-null  float64\n",
            " 19  КРУПНОГАБАРИТНЫЙ ТОВАР     10000 non-null  float64\n",
            " 20  ОБУВЬ                      10000 non-null  float64\n",
            " 21  ПОДГУЗНИКИ                 10000 non-null  float64\n",
            " 22  СОПУТСТВУЮЩИЕ ТОВАРЫ       10000 non-null  float64\n",
            " 23  ТЕКСТИЛЬ, ТРИКОТАЖ         10000 non-null  float64\n",
            " 24  ТЕХНИКА И ТОВАРЫ ДЛЯ ДОМА  10000 non-null  float64\n",
            " 25  ТОВАРЫ ДЛЯ ЖИВОТНЫХ        10000 non-null  float64\n",
            " 26  ТОВАРЫ ДЛЯ КОРМЛЕНИЯ       10000 non-null  float64\n",
            " 27  ИГРУШКИ.1                  10000 non-null  float64\n",
            " 28  ИНОЕ                       10000 non-null  float64\n",
            " 29  КГТ                        10000 non-null  float64\n",
            " 30  ОДЕЖДА                     10000 non-null  float64\n",
            " 31  ППКП                       10000 non-null  float64\n",
            " 32  CENTRAL                    10000 non-null  float64\n",
            " 33  FAR EAST                   10000 non-null  float64\n",
            " 34  NORTH                      10000 non-null  float64\n",
            " 35  PRIVOLZIE                  10000 non-null  float64\n",
            " 36  SIBERIA                    10000 non-null  float64\n",
            " 37  SOUTHERN                   10000 non-null  float64\n",
            " 38  URAL                       10000 non-null  float64\n",
            " 39  Cluster                    10000 non-null  object \n",
            " 40  client_id                  200 non-null    object \n",
            "dtypes: float64(36), int64(3), object(2)\n",
            "memory usage: 3.1+ MB\n"
          ]
        }
      ],
      "source": [
        "df.info()"
      ],
      "metadata": {
        "pycharm": {
          "name": "#%%\n"
        },
        "colab": {
          "base_uri": "https://localhost:8080/"
        },
        "id": "ghnU3GpnRohE",
        "outputId": "d5752237-0040-4e1d-d114-baa52863faef"
      }
    },
    {
      "cell_type": "code",
      "execution_count": null,
      "outputs": [],
      "source": [
        "# df.to_csv('hybrid_rc/data/processed/clustered_clients200.csv')"
      ],
      "metadata": {
        "pycharm": {
          "name": "#%%\n"
        },
        "id": "QCISDWTGRohF"
      }
    },
    {
      "cell_type": "code",
      "execution_count": 10,
      "metadata": {
        "id": "rWudL4aLXWeu",
        "pycharm": {
          "name": "#%%\n"
        },
        "colab": {
          "base_uri": "https://localhost:8080/"
        },
        "outputId": "f5e0285d-265d-4de4-a989-f8ca481ea8f2"
      },
      "outputs": [
        {
          "output_type": "stream",
          "name": "stdout",
          "text": [
            "<class 'pandas.core.frame.DataFrame'>\n",
            "RangeIndex: 10000 entries, 0 to 9999\n",
            "Data columns (total 41 columns):\n",
            " #   Column                     Non-Null Count  Dtype  \n",
            "---  ------                     --------------  -----  \n",
            " 0   DistinctCountOrders        10000 non-null  int64  \n",
            " 1   AverageOrderSum            10000 non-null  float64\n",
            " 2   AvgBill                    10000 non-null  float64\n",
            " 3   AverageNumItemsInOrder     10000 non-null  float64\n",
            " 4   RevenueClient              10000 non-null  float64\n",
            " 5   TotalNumberItemsOrdered    10000 non-null  int64  \n",
            " 6   AverageMarginOrder         10000 non-null  float64\n",
            " 7   cnt_purchased_orders       10000 non-null  int64  \n",
            " 8   AvgOrderSumPurchased       10000 non-null  float64\n",
            " 9   AvgNumItemsOrderPurchased  10000 non-null  float64\n",
            " 10  RevenueClientPurchased     10000 non-null  float64\n",
            " 11  PurchasedItems             10000 non-null  float64\n",
            " 12  AvgMarginPurchased         10000 non-null  float64\n",
            " 13  SharePurchasedOrders       10000 non-null  float64\n",
            " 14  ДЕТСКОЕ ПИТАНИЕ            10000 non-null  float64\n",
            " 15  ЖЕНСКИЕ ШТУЧКИ             10000 non-null  float64\n",
            " 16  ИГРУШКИ                    10000 non-null  float64\n",
            " 17  КАНЦТОВАРЫ, КНИГИ, ДИСКИ   10000 non-null  float64\n",
            " 18  КОСМЕТИКА/ГИГИЕНА          10000 non-null  float64\n",
            " 19  КРУПНОГАБАРИТНЫЙ ТОВАР     10000 non-null  float64\n",
            " 20  ОБУВЬ                      10000 non-null  float64\n",
            " 21  ПОДГУЗНИКИ                 10000 non-null  float64\n",
            " 22  СОПУТСТВУЮЩИЕ ТОВАРЫ       10000 non-null  float64\n",
            " 23  ТЕКСТИЛЬ, ТРИКОТАЖ         10000 non-null  float64\n",
            " 24  ТЕХНИКА И ТОВАРЫ ДЛЯ ДОМА  10000 non-null  float64\n",
            " 25  ТОВАРЫ ДЛЯ ЖИВОТНЫХ        10000 non-null  float64\n",
            " 26  ТОВАРЫ ДЛЯ КОРМЛЕНИЯ       10000 non-null  float64\n",
            " 27  ИГРУШКИ.1                  10000 non-null  float64\n",
            " 28  ИНОЕ                       10000 non-null  float64\n",
            " 29  КГТ                        10000 non-null  float64\n",
            " 30  ОДЕЖДА                     10000 non-null  float64\n",
            " 31  ППКП                       10000 non-null  float64\n",
            " 32  CENTRAL                    10000 non-null  float64\n",
            " 33  FAR EAST                   10000 non-null  float64\n",
            " 34  NORTH                      10000 non-null  float64\n",
            " 35  PRIVOLZIE                  10000 non-null  float64\n",
            " 36  SIBERIA                    10000 non-null  float64\n",
            " 37  SOUTHERN                   10000 non-null  float64\n",
            " 38  URAL                       10000 non-null  float64\n",
            " 39  Cluster                    10000 non-null  object \n",
            " 40  client_id                  200 non-null    object \n",
            "dtypes: float64(36), int64(3), object(2)\n",
            "memory usage: 3.1+ MB\n"
          ]
        }
      ],
      "source": [
        "df.info()"
      ]
    },
    {
      "cell_type": "code",
      "execution_count": 11,
      "outputs": [
        {
          "output_type": "stream",
          "name": "stderr",
          "text": [
            "<ipython-input-11-0d2de1d4dbec>:6: DeprecationWarning: `np.object` is a deprecated alias for the builtin `object`. To silence this warning, use `object` by itself. Doing this will not modify any behavior and is safe. \n",
            "Deprecated in NumPy 1.20; for more details and guidance: https://numpy.org/devdocs/release/1.20.0-notes.html#deprecations\n",
            "  elif type(df[col][0]) == np.object:\n"
          ]
        }
      ],
      "source": [
        "for col in df.columns:\n",
        "    if type(df[col][0]) == np.float64:\n",
        "        df[col] = df[col].astype('float16')\n",
        "    elif type(df[col][0]) == np.int64:\n",
        "        df[col] = df[col].astype('int16')\n",
        "    elif type(df[col][0]) == np.object:\n",
        "        df[col] = df[col].astype('category')\n",
        "    else:\n",
        "        pass"
      ],
      "metadata": {
        "pycharm": {
          "name": "#%%\n"
        },
        "colab": {
          "base_uri": "https://localhost:8080/"
        },
        "id": "MYbtaaS_RohF",
        "outputId": "09c5f8af-eea4-435a-824f-1ffdcfdccbdf"
      }
    },
    {
      "cell_type": "code",
      "execution_count": 12,
      "outputs": [
        {
          "output_type": "stream",
          "name": "stdout",
          "text": [
            "<class 'pandas.core.frame.DataFrame'>\n",
            "RangeIndex: 10000 entries, 0 to 9999\n",
            "Data columns (total 41 columns):\n",
            " #   Column                     Non-Null Count  Dtype  \n",
            "---  ------                     --------------  -----  \n",
            " 0   DistinctCountOrders        10000 non-null  int16  \n",
            " 1   AverageOrderSum            10000 non-null  float16\n",
            " 2   AvgBill                    10000 non-null  float16\n",
            " 3   AverageNumItemsInOrder     10000 non-null  float16\n",
            " 4   RevenueClient              10000 non-null  float16\n",
            " 5   TotalNumberItemsOrdered    10000 non-null  int16  \n",
            " 6   AverageMarginOrder         10000 non-null  float16\n",
            " 7   cnt_purchased_orders       10000 non-null  int16  \n",
            " 8   AvgOrderSumPurchased       10000 non-null  float16\n",
            " 9   AvgNumItemsOrderPurchased  10000 non-null  float16\n",
            " 10  RevenueClientPurchased     10000 non-null  float16\n",
            " 11  PurchasedItems             10000 non-null  float16\n",
            " 12  AvgMarginPurchased         10000 non-null  float16\n",
            " 13  SharePurchasedOrders       10000 non-null  float16\n",
            " 14  ДЕТСКОЕ ПИТАНИЕ            10000 non-null  float16\n",
            " 15  ЖЕНСКИЕ ШТУЧКИ             10000 non-null  float16\n",
            " 16  ИГРУШКИ                    10000 non-null  float16\n",
            " 17  КАНЦТОВАРЫ, КНИГИ, ДИСКИ   10000 non-null  float16\n",
            " 18  КОСМЕТИКА/ГИГИЕНА          10000 non-null  float16\n",
            " 19  КРУПНОГАБАРИТНЫЙ ТОВАР     10000 non-null  float16\n",
            " 20  ОБУВЬ                      10000 non-null  float16\n",
            " 21  ПОДГУЗНИКИ                 10000 non-null  float16\n",
            " 22  СОПУТСТВУЮЩИЕ ТОВАРЫ       10000 non-null  float16\n",
            " 23  ТЕКСТИЛЬ, ТРИКОТАЖ         10000 non-null  float16\n",
            " 24  ТЕХНИКА И ТОВАРЫ ДЛЯ ДОМА  10000 non-null  float16\n",
            " 25  ТОВАРЫ ДЛЯ ЖИВОТНЫХ        10000 non-null  float16\n",
            " 26  ТОВАРЫ ДЛЯ КОРМЛЕНИЯ       10000 non-null  float16\n",
            " 27  ИГРУШКИ.1                  10000 non-null  float16\n",
            " 28  ИНОЕ                       10000 non-null  float16\n",
            " 29  КГТ                        10000 non-null  float16\n",
            " 30  ОДЕЖДА                     10000 non-null  float16\n",
            " 31  ППКП                       10000 non-null  float16\n",
            " 32  CENTRAL                    10000 non-null  float16\n",
            " 33  FAR EAST                   10000 non-null  float16\n",
            " 34  NORTH                      10000 non-null  float16\n",
            " 35  PRIVOLZIE                  10000 non-null  float16\n",
            " 36  SIBERIA                    10000 non-null  float16\n",
            " 37  SOUTHERN                   10000 non-null  float16\n",
            " 38  URAL                       10000 non-null  float16\n",
            " 39  Cluster                    10000 non-null  object \n",
            " 40  client_id                  200 non-null    object \n",
            "dtypes: float16(36), int16(3), object(2)\n",
            "memory usage: 918.1+ KB\n"
          ]
        }
      ],
      "source": [
        "df.info()"
      ],
      "metadata": {
        "pycharm": {
          "name": "#%%\n"
        },
        "colab": {
          "base_uri": "https://localhost:8080/"
        },
        "id": "EsXIkPZyRohG",
        "outputId": "a0dc8241-1115-412b-c3ae-01313a505651"
      }
    },
    {
      "cell_type": "code",
      "execution_count": 13,
      "outputs": [
        {
          "output_type": "execute_result",
          "data": {
            "text/plain": [
              "   DistinctCountOrders  AverageOrderSum  AvgBill  AverageNumItemsInOrder  \\\n",
              "0                  100           1759.0   1723.0                2.439453   \n",
              "1                   66            580.5    524.0                3.787109   \n",
              "2                   54            823.0    807.0                2.703125   \n",
              "3                   59           3608.0   3482.0                4.167969   \n",
              "4                   46           2670.0   2632.0                1.717773   \n",
              "\n",
              "   RevenueClient  TotalNumberItemsOrdered  AverageMarginOrder  \\\n",
              "0            inf                      244            219.0000   \n",
              "1        34592.0                      250            144.1250   \n",
              "2        43584.0                      146             95.8125   \n",
              "3            inf                      246            429.0000   \n",
              "4            inf                       79            310.7500   \n",
              "\n",
              "   cnt_purchased_orders  AvgOrderSumPurchased  AvgNumItemsOrderPurchased  ...  \\\n",
              "0                    80                1575.0                   2.275391  ...   \n",
              "1                    60                 542.0                   2.867188  ...   \n",
              "2                    53                 816.0                   2.679688  ...   \n",
              "3                    45                3218.0                   2.222656  ...   \n",
              "4                    40                2690.0                   1.799805  ...   \n",
              "\n",
              "       ППКП  CENTRAL  FAR EAST  NORTH  PRIVOLZIE  SIBERIA  SOUTHERN  URAL  \\\n",
              "0  0.024597      1.0       0.0    0.0        0.0      0.0       0.0   0.0   \n",
              "1  0.459961      0.0       0.0    0.0        1.0      0.0       0.0   0.0   \n",
              "2  0.006851      1.0       0.0    0.0        0.0      0.0       0.0   0.0   \n",
              "3  0.105713      1.0       0.0    0.0        0.0      0.0       0.0   0.0   \n",
              "4  0.088623      1.0       0.0    0.0        0.0      0.0       0.0   0.0   \n",
              "\n",
              "     Cluster                client_id  \n",
              "0  Cluster 3  55575053-54505550565678  \n",
              "1  Cluster 1  55575048-48524956565375  \n",
              "2  Cluster 1  55575555-57524953505673  \n",
              "3  Cluster 3  55574953-50505150484978  \n",
              "4  Cluster 3  55575054-51515151484875  \n",
              "\n",
              "[5 rows x 41 columns]"
            ],
            "text/html": [
              "\n",
              "  <div id=\"df-36282026-32f0-4f3c-b0ae-496db41a3387\">\n",
              "    <div class=\"colab-df-container\">\n",
              "      <div>\n",
              "<style scoped>\n",
              "    .dataframe tbody tr th:only-of-type {\n",
              "        vertical-align: middle;\n",
              "    }\n",
              "\n",
              "    .dataframe tbody tr th {\n",
              "        vertical-align: top;\n",
              "    }\n",
              "\n",
              "    .dataframe thead th {\n",
              "        text-align: right;\n",
              "    }\n",
              "</style>\n",
              "<table border=\"1\" class=\"dataframe\">\n",
              "  <thead>\n",
              "    <tr style=\"text-align: right;\">\n",
              "      <th></th>\n",
              "      <th>DistinctCountOrders</th>\n",
              "      <th>AverageOrderSum</th>\n",
              "      <th>AvgBill</th>\n",
              "      <th>AverageNumItemsInOrder</th>\n",
              "      <th>RevenueClient</th>\n",
              "      <th>TotalNumberItemsOrdered</th>\n",
              "      <th>AverageMarginOrder</th>\n",
              "      <th>cnt_purchased_orders</th>\n",
              "      <th>AvgOrderSumPurchased</th>\n",
              "      <th>AvgNumItemsOrderPurchased</th>\n",
              "      <th>...</th>\n",
              "      <th>ППКП</th>\n",
              "      <th>CENTRAL</th>\n",
              "      <th>FAR EAST</th>\n",
              "      <th>NORTH</th>\n",
              "      <th>PRIVOLZIE</th>\n",
              "      <th>SIBERIA</th>\n",
              "      <th>SOUTHERN</th>\n",
              "      <th>URAL</th>\n",
              "      <th>Cluster</th>\n",
              "      <th>client_id</th>\n",
              "    </tr>\n",
              "  </thead>\n",
              "  <tbody>\n",
              "    <tr>\n",
              "      <th>0</th>\n",
              "      <td>100</td>\n",
              "      <td>1759.0</td>\n",
              "      <td>1723.0</td>\n",
              "      <td>2.439453</td>\n",
              "      <td>inf</td>\n",
              "      <td>244</td>\n",
              "      <td>219.0000</td>\n",
              "      <td>80</td>\n",
              "      <td>1575.0</td>\n",
              "      <td>2.275391</td>\n",
              "      <td>...</td>\n",
              "      <td>0.024597</td>\n",
              "      <td>1.0</td>\n",
              "      <td>0.0</td>\n",
              "      <td>0.0</td>\n",
              "      <td>0.0</td>\n",
              "      <td>0.0</td>\n",
              "      <td>0.0</td>\n",
              "      <td>0.0</td>\n",
              "      <td>Cluster 3</td>\n",
              "      <td>55575053-54505550565678</td>\n",
              "    </tr>\n",
              "    <tr>\n",
              "      <th>1</th>\n",
              "      <td>66</td>\n",
              "      <td>580.5</td>\n",
              "      <td>524.0</td>\n",
              "      <td>3.787109</td>\n",
              "      <td>34592.0</td>\n",
              "      <td>250</td>\n",
              "      <td>144.1250</td>\n",
              "      <td>60</td>\n",
              "      <td>542.0</td>\n",
              "      <td>2.867188</td>\n",
              "      <td>...</td>\n",
              "      <td>0.459961</td>\n",
              "      <td>0.0</td>\n",
              "      <td>0.0</td>\n",
              "      <td>0.0</td>\n",
              "      <td>1.0</td>\n",
              "      <td>0.0</td>\n",
              "      <td>0.0</td>\n",
              "      <td>0.0</td>\n",
              "      <td>Cluster 1</td>\n",
              "      <td>55575048-48524956565375</td>\n",
              "    </tr>\n",
              "    <tr>\n",
              "      <th>2</th>\n",
              "      <td>54</td>\n",
              "      <td>823.0</td>\n",
              "      <td>807.0</td>\n",
              "      <td>2.703125</td>\n",
              "      <td>43584.0</td>\n",
              "      <td>146</td>\n",
              "      <td>95.8125</td>\n",
              "      <td>53</td>\n",
              "      <td>816.0</td>\n",
              "      <td>2.679688</td>\n",
              "      <td>...</td>\n",
              "      <td>0.006851</td>\n",
              "      <td>1.0</td>\n",
              "      <td>0.0</td>\n",
              "      <td>0.0</td>\n",
              "      <td>0.0</td>\n",
              "      <td>0.0</td>\n",
              "      <td>0.0</td>\n",
              "      <td>0.0</td>\n",
              "      <td>Cluster 1</td>\n",
              "      <td>55575555-57524953505673</td>\n",
              "    </tr>\n",
              "    <tr>\n",
              "      <th>3</th>\n",
              "      <td>59</td>\n",
              "      <td>3608.0</td>\n",
              "      <td>3482.0</td>\n",
              "      <td>4.167969</td>\n",
              "      <td>inf</td>\n",
              "      <td>246</td>\n",
              "      <td>429.0000</td>\n",
              "      <td>45</td>\n",
              "      <td>3218.0</td>\n",
              "      <td>2.222656</td>\n",
              "      <td>...</td>\n",
              "      <td>0.105713</td>\n",
              "      <td>1.0</td>\n",
              "      <td>0.0</td>\n",
              "      <td>0.0</td>\n",
              "      <td>0.0</td>\n",
              "      <td>0.0</td>\n",
              "      <td>0.0</td>\n",
              "      <td>0.0</td>\n",
              "      <td>Cluster 3</td>\n",
              "      <td>55574953-50505150484978</td>\n",
              "    </tr>\n",
              "    <tr>\n",
              "      <th>4</th>\n",
              "      <td>46</td>\n",
              "      <td>2670.0</td>\n",
              "      <td>2632.0</td>\n",
              "      <td>1.717773</td>\n",
              "      <td>inf</td>\n",
              "      <td>79</td>\n",
              "      <td>310.7500</td>\n",
              "      <td>40</td>\n",
              "      <td>2690.0</td>\n",
              "      <td>1.799805</td>\n",
              "      <td>...</td>\n",
              "      <td>0.088623</td>\n",
              "      <td>1.0</td>\n",
              "      <td>0.0</td>\n",
              "      <td>0.0</td>\n",
              "      <td>0.0</td>\n",
              "      <td>0.0</td>\n",
              "      <td>0.0</td>\n",
              "      <td>0.0</td>\n",
              "      <td>Cluster 3</td>\n",
              "      <td>55575054-51515151484875</td>\n",
              "    </tr>\n",
              "  </tbody>\n",
              "</table>\n",
              "<p>5 rows × 41 columns</p>\n",
              "</div>\n",
              "      <button class=\"colab-df-convert\" onclick=\"convertToInteractive('df-36282026-32f0-4f3c-b0ae-496db41a3387')\"\n",
              "              title=\"Convert this dataframe to an interactive table.\"\n",
              "              style=\"display:none;\">\n",
              "        \n",
              "  <svg xmlns=\"http://www.w3.org/2000/svg\" height=\"24px\"viewBox=\"0 0 24 24\"\n",
              "       width=\"24px\">\n",
              "    <path d=\"M0 0h24v24H0V0z\" fill=\"none\"/>\n",
              "    <path d=\"M18.56 5.44l.94 2.06.94-2.06 2.06-.94-2.06-.94-.94-2.06-.94 2.06-2.06.94zm-11 1L8.5 8.5l.94-2.06 2.06-.94-2.06-.94L8.5 2.5l-.94 2.06-2.06.94zm10 10l.94 2.06.94-2.06 2.06-.94-2.06-.94-.94-2.06-.94 2.06-2.06.94z\"/><path d=\"M17.41 7.96l-1.37-1.37c-.4-.4-.92-.59-1.43-.59-.52 0-1.04.2-1.43.59L10.3 9.45l-7.72 7.72c-.78.78-.78 2.05 0 2.83L4 21.41c.39.39.9.59 1.41.59.51 0 1.02-.2 1.41-.59l7.78-7.78 2.81-2.81c.8-.78.8-2.07 0-2.86zM5.41 20L4 18.59l7.72-7.72 1.47 1.35L5.41 20z\"/>\n",
              "  </svg>\n",
              "      </button>\n",
              "      \n",
              "  <style>\n",
              "    .colab-df-container {\n",
              "      display:flex;\n",
              "      flex-wrap:wrap;\n",
              "      gap: 12px;\n",
              "    }\n",
              "\n",
              "    .colab-df-convert {\n",
              "      background-color: #E8F0FE;\n",
              "      border: none;\n",
              "      border-radius: 50%;\n",
              "      cursor: pointer;\n",
              "      display: none;\n",
              "      fill: #1967D2;\n",
              "      height: 32px;\n",
              "      padding: 0 0 0 0;\n",
              "      width: 32px;\n",
              "    }\n",
              "\n",
              "    .colab-df-convert:hover {\n",
              "      background-color: #E2EBFA;\n",
              "      box-shadow: 0px 1px 2px rgba(60, 64, 67, 0.3), 0px 1px 3px 1px rgba(60, 64, 67, 0.15);\n",
              "      fill: #174EA6;\n",
              "    }\n",
              "\n",
              "    [theme=dark] .colab-df-convert {\n",
              "      background-color: #3B4455;\n",
              "      fill: #D2E3FC;\n",
              "    }\n",
              "\n",
              "    [theme=dark] .colab-df-convert:hover {\n",
              "      background-color: #434B5C;\n",
              "      box-shadow: 0px 1px 3px 1px rgba(0, 0, 0, 0.15);\n",
              "      filter: drop-shadow(0px 1px 2px rgba(0, 0, 0, 0.3));\n",
              "      fill: #FFFFFF;\n",
              "    }\n",
              "  </style>\n",
              "\n",
              "      <script>\n",
              "        const buttonEl =\n",
              "          document.querySelector('#df-36282026-32f0-4f3c-b0ae-496db41a3387 button.colab-df-convert');\n",
              "        buttonEl.style.display =\n",
              "          google.colab.kernel.accessAllowed ? 'block' : 'none';\n",
              "\n",
              "        async function convertToInteractive(key) {\n",
              "          const element = document.querySelector('#df-36282026-32f0-4f3c-b0ae-496db41a3387');\n",
              "          const dataTable =\n",
              "            await google.colab.kernel.invokeFunction('convertToInteractive',\n",
              "                                                     [key], {});\n",
              "          if (!dataTable) return;\n",
              "\n",
              "          const docLinkHtml = 'Like what you see? Visit the ' +\n",
              "            '<a target=\"_blank\" href=https://colab.research.google.com/notebooks/data_table.ipynb>data table notebook</a>'\n",
              "            + ' to learn more about interactive tables.';\n",
              "          element.innerHTML = '';\n",
              "          dataTable['output_type'] = 'display_data';\n",
              "          await google.colab.output.renderOutput(dataTable, element);\n",
              "          const docLink = document.createElement('div');\n",
              "          docLink.innerHTML = docLinkHtml;\n",
              "          element.appendChild(docLink);\n",
              "        }\n",
              "      </script>\n",
              "    </div>\n",
              "  </div>\n",
              "  "
            ]
          },
          "metadata": {},
          "execution_count": 13
        }
      ],
      "source": [
        "df.head()"
      ],
      "metadata": {
        "pycharm": {
          "name": "#%%\n"
        },
        "colab": {
          "base_uri": "https://localhost:8080/",
          "height": 403
        },
        "id": "eSz1SiyrRohG",
        "outputId": "39809469-418b-4977-d2a5-8d78efaf3eb1"
      }
    },
    {
      "cell_type": "code",
      "execution_count": 14,
      "outputs": [
        {
          "output_type": "stream",
          "name": "stdout",
          "text": [
            "   DistinctCountOrders  AverageOrderSum  AvgBill  AverageNumItemsInOrder  \\\n",
            "0                  100           1759.0   1723.0                2.439453   \n",
            "1                   66            580.5    524.0                3.787109   \n",
            "2                   54            823.0    807.0                2.703125   \n",
            "3                   59           3608.0   3482.0                4.167969   \n",
            "4                   46           2670.0   2632.0                1.717773   \n",
            "\n",
            "   RevenueClient  TotalNumberItemsOrdered  AverageMarginOrder  \\\n",
            "0            inf                      244            219.0000   \n",
            "1        34592.0                      250            144.1250   \n",
            "2        43584.0                      146             95.8125   \n",
            "3            inf                      246            429.0000   \n",
            "4            inf                       79            310.7500   \n",
            "\n",
            "   cnt_purchased_orders  AvgOrderSumPurchased  AvgNumItemsOrderPurchased  ...  \\\n",
            "0                    80                1575.0                   2.275391  ...   \n",
            "1                    60                 542.0                   2.867188  ...   \n",
            "2                    53                 816.0                   2.679688  ...   \n",
            "3                    45                3218.0                   2.222656  ...   \n",
            "4                    40                2690.0                   1.799805  ...   \n",
            "\n",
            "       ППКП  CENTRAL  FAR EAST  NORTH  PRIVOLZIE  SIBERIA  SOUTHERN  URAL  \\\n",
            "0  0.024597      1.0       0.0    0.0        0.0      0.0       0.0   0.0   \n",
            "1  0.459961      0.0       0.0    0.0        1.0      0.0       0.0   0.0   \n",
            "2  0.006851      1.0       0.0    0.0        0.0      0.0       0.0   0.0   \n",
            "3  0.105713      1.0       0.0    0.0        0.0      0.0       0.0   0.0   \n",
            "4  0.088623      1.0       0.0    0.0        0.0      0.0       0.0   0.0   \n",
            "\n",
            "     Cluster                client_id  \n",
            "0  Cluster 3  55575053-54505550565678  \n",
            "1  Cluster 1  55575048-48524956565375  \n",
            "2  Cluster 1  55575555-57524953505673  \n",
            "3  Cluster 3  55574953-50505150484978  \n",
            "4  Cluster 3  55575054-51515151484875  \n",
            "\n",
            "[5 rows x 41 columns]\n"
          ]
        }
      ],
      "source": [
        "print(df.head())"
      ],
      "metadata": {
        "pycharm": {
          "name": "#%%\n"
        },
        "colab": {
          "base_uri": "https://localhost:8080/"
        },
        "id": "gF8FxNszRohG",
        "outputId": "96a6e74e-0c6f-4405-a393-60435c9b934b"
      }
    },
    {
      "cell_type": "code",
      "execution_count": 15,
      "metadata": {
        "colab": {
          "base_uri": "https://localhost:8080/"
        },
        "id": "yt_YKECIZeJT",
        "outputId": "ed540d69-c317-4530-cc52-b7642dc37235",
        "pycharm": {
          "name": "#%%\n"
        }
      },
      "outputs": [
        {
          "output_type": "stream",
          "name": "stdout",
          "text": [
            "DistinctCountOrders            int16\n",
            "AverageOrderSum              float16\n",
            "AvgBill                      float16\n",
            "AverageNumItemsInOrder       float16\n",
            "RevenueClient                float16\n",
            "TotalNumberItemsOrdered        int16\n",
            "AverageMarginOrder           float16\n",
            "cnt_purchased_orders           int16\n",
            "AvgOrderSumPurchased         float16\n",
            "AvgNumItemsOrderPurchased    float16\n",
            "RevenueClientPurchased       float16\n",
            "PurchasedItems               float16\n",
            "AvgMarginPurchased           float16\n",
            "SharePurchasedOrders         float16\n",
            "ДЕТСКОЕ ПИТАНИЕ              float16\n",
            "ЖЕНСКИЕ ШТУЧКИ               float16\n",
            "ИГРУШКИ                      float16\n",
            "КАНЦТОВАРЫ, КНИГИ, ДИСКИ     float16\n",
            "КОСМЕТИКА/ГИГИЕНА            float16\n",
            "КРУПНОГАБАРИТНЫЙ ТОВАР       float16\n",
            "ОБУВЬ                        float16\n",
            "ПОДГУЗНИКИ                   float16\n",
            "СОПУТСТВУЮЩИЕ ТОВАРЫ         float16\n",
            "ТЕКСТИЛЬ, ТРИКОТАЖ           float16\n",
            "ТЕХНИКА И ТОВАРЫ ДЛЯ ДОМА    float16\n",
            "ТОВАРЫ ДЛЯ ЖИВОТНЫХ          float16\n",
            "ТОВАРЫ ДЛЯ КОРМЛЕНИЯ         float16\n",
            "ИГРУШКИ.1                    float16\n",
            "ИНОЕ                         float16\n",
            "КГТ                          float16\n",
            "ОДЕЖДА                       float16\n",
            "ППКП                         float16\n",
            "CENTRAL                      float16\n",
            "FAR EAST                     float16\n",
            "NORTH                        float16\n",
            "PRIVOLZIE                    float16\n",
            "SIBERIA                      float16\n",
            "SOUTHERN                     float16\n",
            "URAL                         float16\n",
            "Cluster                       object\n",
            "client_id                     object\n",
            "dtype: object\n"
          ]
        }
      ],
      "source": [
        "print(df.dtypes)"
      ]
    },
    {
      "cell_type": "code",
      "execution_count": 16,
      "metadata": {
        "id": "HK2sDoMsgexB",
        "pycharm": {
          "name": "#%%\n"
        }
      },
      "outputs": [],
      "source": [
        "choose_column = ['AverageOrderSum']\n",
        "selected_columns = ['client_id', 'Cluster'] + choose_column"
      ]
    },
    {
      "cell_type": "code",
      "execution_count": 17,
      "metadata": {
        "id": "GELnLgU5kokd",
        "pycharm": {
          "name": "#%%\n"
        },
        "colab": {
          "base_uri": "https://localhost:8080/"
        },
        "outputId": "dd7902d5-1d7b-4653-986b-ab8b09975ccf"
      },
      "outputs": [
        {
          "output_type": "execute_result",
          "data": {
            "text/plain": [
              "['client_id', 'Cluster', 'AverageOrderSum']"
            ]
          },
          "metadata": {},
          "execution_count": 17
        }
      ],
      "source": [
        "selected_columns"
      ]
    },
    {
      "cell_type": "code",
      "execution_count": 18,
      "metadata": {
        "id": "hNVJ5gQFkxDy",
        "pycharm": {
          "name": "#%%\n"
        }
      },
      "outputs": [],
      "source": [
        "maxi = df[choose_column].max().max()\n",
        "mini = df[choose_column].min().min()\n",
        "\n",
        "reader = Reader(rating_scale=(mini, maxi))"
      ]
    },
    {
      "cell_type": "code",
      "execution_count": null,
      "outputs": [],
      "source": [
        "# df[selected_columns] = df[selected_columns][:10]"
      ],
      "metadata": {
        "pycharm": {
          "name": "#%%\n"
        },
        "id": "DuR5TnkSRohH"
      }
    },
    {
      "cell_type": "code",
      "execution_count": 19,
      "outputs": [
        {
          "output_type": "stream",
          "name": "stdout",
          "text": [
            "<class 'pandas.core.frame.DataFrame'>\n",
            "RangeIndex: 10000 entries, 0 to 9999\n",
            "Data columns (total 3 columns):\n",
            " #   Column           Non-Null Count  Dtype  \n",
            "---  ------           --------------  -----  \n",
            " 0   client_id        200 non-null    object \n",
            " 1   Cluster          10000 non-null  object \n",
            " 2   AverageOrderSum  10000 non-null  float16\n",
            "dtypes: float16(1), object(2)\n",
            "memory usage: 175.9+ KB\n"
          ]
        }
      ],
      "source": [
        "df[selected_columns].info()"
      ],
      "metadata": {
        "pycharm": {
          "name": "#%%\n"
        },
        "colab": {
          "base_uri": "https://localhost:8080/"
        },
        "id": "5y8QX4VqRohH",
        "outputId": "a1e7d1dd-9126-4747-c0d3-4b1bb1f99c32"
      }
    },
    {
      "cell_type": "code",
      "execution_count": 20,
      "outputs": [],
      "source": [
        "data = Dataset.load_from_df(df[selected_columns], reader)"
      ],
      "metadata": {
        "pycharm": {
          "name": "#%%\n"
        },
        "id": "e3P01U7qRohI"
      }
    },
    {
      "cell_type": "code",
      "execution_count": 21,
      "outputs": [
        {
          "output_type": "execute_result",
          "data": {
            "text/plain": [
              "<surprise.dataset.DatasetAutoFolds at 0x7f4074afafa0>"
            ]
          },
          "metadata": {},
          "execution_count": 21
        }
      ],
      "source": [
        "data"
      ],
      "metadata": {
        "pycharm": {
          "name": "#%%\n"
        },
        "colab": {
          "base_uri": "https://localhost:8080/"
        },
        "id": "oOTD3BhaRohI",
        "outputId": "50619f67-2827-4402-8b12-76dd4dce9302"
      }
    },
    {
      "cell_type": "code",
      "execution_count": 22,
      "metadata": {
        "id": "DbAUZ6uWlWoU",
        "pycharm": {
          "name": "#%%\n"
        }
      },
      "outputs": [],
      "source": [
        "trainset, testset = train_test_split(data, test_size=.25)\n",
        "sim_options = {'name': 'pearson_baseline', 'user_based': False}\n",
        "algo = KNNBaseline(sim_options=sim_options)"
      ]
    },
    {
      "cell_type": "code",
      "execution_count": 23,
      "outputs": [
        {
          "output_type": "stream",
          "name": "stdout",
          "text": [
            "Estimating biases using als...\n",
            "Computing the pearson_baseline similarity matrix...\n",
            "Done computing similarity matrix.\n"
          ]
        },
        {
          "output_type": "execute_result",
          "data": {
            "text/plain": [
              "<surprise.prediction_algorithms.knns.KNNBaseline at 0x7f4074afafd0>"
            ]
          },
          "metadata": {},
          "execution_count": 23
        }
      ],
      "source": [
        "algo.fit(trainset)"
      ],
      "metadata": {
        "pycharm": {
          "name": "#%%\n"
        },
        "colab": {
          "base_uri": "https://localhost:8080/"
        },
        "id": "l5Szi7pdRohI",
        "outputId": "a69aa930-a74f-4760-b5cf-221617052985"
      }
    },
    {
      "cell_type": "code",
      "execution_count": 24,
      "outputs": [],
      "source": [
        "predictions = algo.test(testset)"
      ],
      "metadata": {
        "pycharm": {
          "name": "#%%\n"
        },
        "id": "uhl569D1RohI"
      }
    },
    {
      "cell_type": "code",
      "execution_count": 25,
      "outputs": [],
      "source": [
        "#predictions to dataframe\n",
        "predictions_df = pd.DataFrame(predictions)"
      ],
      "metadata": {
        "pycharm": {
          "name": "#%%\n"
        },
        "id": "PcWgk1ukRohJ"
      }
    },
    {
      "cell_type": "code",
      "execution_count": 26,
      "outputs": [
        {
          "output_type": "execute_result",
          "data": {
            "text/plain": [
              "      uid        iid    r_ui         est  \\\n",
              "0     NaN  Cluster 0  2416.0  1689.39375   \n",
              "1     NaN  Cluster 2  1877.0  3272.10000   \n",
              "2     NaN  Cluster 1  5040.0  7256.65000   \n",
              "3     NaN  Cluster 0  1012.5  1689.39375   \n",
              "4     NaN  Cluster 0  1796.0  1689.39375   \n",
              "...   ...        ...     ...         ...   \n",
              "2495  NaN  Cluster 2  4360.0  3272.10000   \n",
              "2496  NaN  Cluster 2  3330.0  3272.10000   \n",
              "2497  NaN  Cluster 0  1532.0  1689.39375   \n",
              "2498  NaN  Cluster 1  6280.0  7256.65000   \n",
              "2499  NaN  Cluster 2  2948.0  3272.10000   \n",
              "\n",
              "                                        details  \n",
              "0     {'actual_k': 40, 'was_impossible': False}  \n",
              "1     {'actual_k': 40, 'was_impossible': False}  \n",
              "2     {'actual_k': 40, 'was_impossible': False}  \n",
              "3     {'actual_k': 40, 'was_impossible': False}  \n",
              "4     {'actual_k': 40, 'was_impossible': False}  \n",
              "...                                         ...  \n",
              "2495  {'actual_k': 40, 'was_impossible': False}  \n",
              "2496  {'actual_k': 40, 'was_impossible': False}  \n",
              "2497  {'actual_k': 40, 'was_impossible': False}  \n",
              "2498  {'actual_k': 40, 'was_impossible': False}  \n",
              "2499  {'actual_k': 40, 'was_impossible': False}  \n",
              "\n",
              "[2500 rows x 5 columns]"
            ],
            "text/html": [
              "\n",
              "  <div id=\"df-0a275257-6d14-4556-ba68-c83a87f99645\">\n",
              "    <div class=\"colab-df-container\">\n",
              "      <div>\n",
              "<style scoped>\n",
              "    .dataframe tbody tr th:only-of-type {\n",
              "        vertical-align: middle;\n",
              "    }\n",
              "\n",
              "    .dataframe tbody tr th {\n",
              "        vertical-align: top;\n",
              "    }\n",
              "\n",
              "    .dataframe thead th {\n",
              "        text-align: right;\n",
              "    }\n",
              "</style>\n",
              "<table border=\"1\" class=\"dataframe\">\n",
              "  <thead>\n",
              "    <tr style=\"text-align: right;\">\n",
              "      <th></th>\n",
              "      <th>uid</th>\n",
              "      <th>iid</th>\n",
              "      <th>r_ui</th>\n",
              "      <th>est</th>\n",
              "      <th>details</th>\n",
              "    </tr>\n",
              "  </thead>\n",
              "  <tbody>\n",
              "    <tr>\n",
              "      <th>0</th>\n",
              "      <td>NaN</td>\n",
              "      <td>Cluster 0</td>\n",
              "      <td>2416.0</td>\n",
              "      <td>1689.39375</td>\n",
              "      <td>{'actual_k': 40, 'was_impossible': False}</td>\n",
              "    </tr>\n",
              "    <tr>\n",
              "      <th>1</th>\n",
              "      <td>NaN</td>\n",
              "      <td>Cluster 2</td>\n",
              "      <td>1877.0</td>\n",
              "      <td>3272.10000</td>\n",
              "      <td>{'actual_k': 40, 'was_impossible': False}</td>\n",
              "    </tr>\n",
              "    <tr>\n",
              "      <th>2</th>\n",
              "      <td>NaN</td>\n",
              "      <td>Cluster 1</td>\n",
              "      <td>5040.0</td>\n",
              "      <td>7256.65000</td>\n",
              "      <td>{'actual_k': 40, 'was_impossible': False}</td>\n",
              "    </tr>\n",
              "    <tr>\n",
              "      <th>3</th>\n",
              "      <td>NaN</td>\n",
              "      <td>Cluster 0</td>\n",
              "      <td>1012.5</td>\n",
              "      <td>1689.39375</td>\n",
              "      <td>{'actual_k': 40, 'was_impossible': False}</td>\n",
              "    </tr>\n",
              "    <tr>\n",
              "      <th>4</th>\n",
              "      <td>NaN</td>\n",
              "      <td>Cluster 0</td>\n",
              "      <td>1796.0</td>\n",
              "      <td>1689.39375</td>\n",
              "      <td>{'actual_k': 40, 'was_impossible': False}</td>\n",
              "    </tr>\n",
              "    <tr>\n",
              "      <th>...</th>\n",
              "      <td>...</td>\n",
              "      <td>...</td>\n",
              "      <td>...</td>\n",
              "      <td>...</td>\n",
              "      <td>...</td>\n",
              "    </tr>\n",
              "    <tr>\n",
              "      <th>2495</th>\n",
              "      <td>NaN</td>\n",
              "      <td>Cluster 2</td>\n",
              "      <td>4360.0</td>\n",
              "      <td>3272.10000</td>\n",
              "      <td>{'actual_k': 40, 'was_impossible': False}</td>\n",
              "    </tr>\n",
              "    <tr>\n",
              "      <th>2496</th>\n",
              "      <td>NaN</td>\n",
              "      <td>Cluster 2</td>\n",
              "      <td>3330.0</td>\n",
              "      <td>3272.10000</td>\n",
              "      <td>{'actual_k': 40, 'was_impossible': False}</td>\n",
              "    </tr>\n",
              "    <tr>\n",
              "      <th>2497</th>\n",
              "      <td>NaN</td>\n",
              "      <td>Cluster 0</td>\n",
              "      <td>1532.0</td>\n",
              "      <td>1689.39375</td>\n",
              "      <td>{'actual_k': 40, 'was_impossible': False}</td>\n",
              "    </tr>\n",
              "    <tr>\n",
              "      <th>2498</th>\n",
              "      <td>NaN</td>\n",
              "      <td>Cluster 1</td>\n",
              "      <td>6280.0</td>\n",
              "      <td>7256.65000</td>\n",
              "      <td>{'actual_k': 40, 'was_impossible': False}</td>\n",
              "    </tr>\n",
              "    <tr>\n",
              "      <th>2499</th>\n",
              "      <td>NaN</td>\n",
              "      <td>Cluster 2</td>\n",
              "      <td>2948.0</td>\n",
              "      <td>3272.10000</td>\n",
              "      <td>{'actual_k': 40, 'was_impossible': False}</td>\n",
              "    </tr>\n",
              "  </tbody>\n",
              "</table>\n",
              "<p>2500 rows × 5 columns</p>\n",
              "</div>\n",
              "      <button class=\"colab-df-convert\" onclick=\"convertToInteractive('df-0a275257-6d14-4556-ba68-c83a87f99645')\"\n",
              "              title=\"Convert this dataframe to an interactive table.\"\n",
              "              style=\"display:none;\">\n",
              "        \n",
              "  <svg xmlns=\"http://www.w3.org/2000/svg\" height=\"24px\"viewBox=\"0 0 24 24\"\n",
              "       width=\"24px\">\n",
              "    <path d=\"M0 0h24v24H0V0z\" fill=\"none\"/>\n",
              "    <path d=\"M18.56 5.44l.94 2.06.94-2.06 2.06-.94-2.06-.94-.94-2.06-.94 2.06-2.06.94zm-11 1L8.5 8.5l.94-2.06 2.06-.94-2.06-.94L8.5 2.5l-.94 2.06-2.06.94zm10 10l.94 2.06.94-2.06 2.06-.94-2.06-.94-.94-2.06-.94 2.06-2.06.94z\"/><path d=\"M17.41 7.96l-1.37-1.37c-.4-.4-.92-.59-1.43-.59-.52 0-1.04.2-1.43.59L10.3 9.45l-7.72 7.72c-.78.78-.78 2.05 0 2.83L4 21.41c.39.39.9.59 1.41.59.51 0 1.02-.2 1.41-.59l7.78-7.78 2.81-2.81c.8-.78.8-2.07 0-2.86zM5.41 20L4 18.59l7.72-7.72 1.47 1.35L5.41 20z\"/>\n",
              "  </svg>\n",
              "      </button>\n",
              "      \n",
              "  <style>\n",
              "    .colab-df-container {\n",
              "      display:flex;\n",
              "      flex-wrap:wrap;\n",
              "      gap: 12px;\n",
              "    }\n",
              "\n",
              "    .colab-df-convert {\n",
              "      background-color: #E8F0FE;\n",
              "      border: none;\n",
              "      border-radius: 50%;\n",
              "      cursor: pointer;\n",
              "      display: none;\n",
              "      fill: #1967D2;\n",
              "      height: 32px;\n",
              "      padding: 0 0 0 0;\n",
              "      width: 32px;\n",
              "    }\n",
              "\n",
              "    .colab-df-convert:hover {\n",
              "      background-color: #E2EBFA;\n",
              "      box-shadow: 0px 1px 2px rgba(60, 64, 67, 0.3), 0px 1px 3px 1px rgba(60, 64, 67, 0.15);\n",
              "      fill: #174EA6;\n",
              "    }\n",
              "\n",
              "    [theme=dark] .colab-df-convert {\n",
              "      background-color: #3B4455;\n",
              "      fill: #D2E3FC;\n",
              "    }\n",
              "\n",
              "    [theme=dark] .colab-df-convert:hover {\n",
              "      background-color: #434B5C;\n",
              "      box-shadow: 0px 1px 3px 1px rgba(0, 0, 0, 0.15);\n",
              "      filter: drop-shadow(0px 1px 2px rgba(0, 0, 0, 0.3));\n",
              "      fill: #FFFFFF;\n",
              "    }\n",
              "  </style>\n",
              "\n",
              "      <script>\n",
              "        const buttonEl =\n",
              "          document.querySelector('#df-0a275257-6d14-4556-ba68-c83a87f99645 button.colab-df-convert');\n",
              "        buttonEl.style.display =\n",
              "          google.colab.kernel.accessAllowed ? 'block' : 'none';\n",
              "\n",
              "        async function convertToInteractive(key) {\n",
              "          const element = document.querySelector('#df-0a275257-6d14-4556-ba68-c83a87f99645');\n",
              "          const dataTable =\n",
              "            await google.colab.kernel.invokeFunction('convertToInteractive',\n",
              "                                                     [key], {});\n",
              "          if (!dataTable) return;\n",
              "\n",
              "          const docLinkHtml = 'Like what you see? Visit the ' +\n",
              "            '<a target=\"_blank\" href=https://colab.research.google.com/notebooks/data_table.ipynb>data table notebook</a>'\n",
              "            + ' to learn more about interactive tables.';\n",
              "          element.innerHTML = '';\n",
              "          dataTable['output_type'] = 'display_data';\n",
              "          await google.colab.output.renderOutput(dataTable, element);\n",
              "          const docLink = document.createElement('div');\n",
              "          docLink.innerHTML = docLinkHtml;\n",
              "          element.appendChild(docLink);\n",
              "        }\n",
              "      </script>\n",
              "    </div>\n",
              "  </div>\n",
              "  "
            ]
          },
          "metadata": {},
          "execution_count": 26
        }
      ],
      "source": [
        "predictions_df"
      ],
      "metadata": {
        "pycharm": {
          "name": "#%%\n"
        },
        "colab": {
          "base_uri": "https://localhost:8080/",
          "height": 423
        },
        "id": "a-0AN113RohJ",
        "outputId": "a4555e44-ca7b-4733-81f5-4716bd84f4b1"
      }
    },
    {
      "cell_type": "code",
      "execution_count": 27,
      "outputs": [
        {
          "output_type": "execute_result",
          "data": {
            "text/plain": [
              "[3, 2, 0]"
            ]
          },
          "metadata": {},
          "execution_count": 27
        }
      ],
      "source": [
        "#show similar users\n",
        "algo.get_neighbors(1, k=10)"
      ],
      "metadata": {
        "pycharm": {
          "name": "#%%\n"
        },
        "colab": {
          "base_uri": "https://localhost:8080/"
        },
        "id": "6Ag-YQU3RohJ",
        "outputId": "23ac634d-a46a-4910-c502-1cd098baafc5"
      }
    },
    {
      "cell_type": "code",
      "execution_count": null,
      "outputs": [
        {
          "name": "stdout",
          "output_type": "stream",
          "text": [
            "['55575053-54505550565678' '55575048-48524956565375'\n",
            " '55575555-57524953505673' '55574953-50505150484978'\n",
            " '55575054-51515151484875' '55575450-57505256495470'\n",
            " '55575054-50505252535072' '55574857-57555250515173'\n",
            " '55575448-56525355485670' '55575653-54505352545577'\n",
            " '55574951-50524849525479' '55574854-55565252495471'\n",
            " '55574954-56525352555270' '55574851-52514853535175'\n",
            " '55574850-53545452504975' '55575054-55485350545475'\n",
            " '55574851-49545557505179' '55575456-56525152515570'\n",
            " '55575050-57534855495577' '55574856-51575348534875'\n",
            " '55575653-51534851495771' '55575055-48485751575573'\n",
            " '55575054-57494849545177' '55575054-49525757494873'\n",
            " '55574857-48534848515278' '55575555-51575255495676'\n",
            " '55575155-49565654515772' '55574954-56485655505473'\n",
            " '55574948-48575750575679' '55574854-55554856495371'\n",
            " '55575451-54485257525274' '55575349-54575655495273'\n",
            " '55574954-57484849515770' '55575057-54555151565576'\n",
            " '55575555-51505357535179' '55575451-54575349555476'\n",
            " '55575351-53535250495170' '55575148-55494856485173'\n",
            " '55575055-55505351564878' '55575053-55505155535173'\n",
            " '55574953-51495254514970' '55574856-49545552555573'\n",
            " '55574851-54504952525673' '55574851-50515552514977'\n",
            " '55575055-51565557555770' '55575054-57545256554970'\n",
            " '55575054-53555154495074' '55575054-51505249494971'\n",
            " '55575757-54574957515179' '55575653-57555057495470'\n",
            " '55575055-57485748555570' '55575054-57504957554876'\n",
            " '55574957-55525354565775' '55574956-49554853504971'\n",
            " '55574954-55525255534976' '55574952-48524855555674'\n",
            " '55575656-51565655555570' '55575655-55505657505278'\n",
            " '55575451-57574957495779' '55575450-57494848555270'\n",
            " '55575350-55565452525272' '55575057-53555051564973'\n",
            " '55575054-53575353505679' '55575053-49575749485779'\n",
            " '55574956-53565155505072' '55574955-49484953525472'\n",
            " '55574954-55525348545379' '55574954-51535156495579'\n",
            " '55574953-57535250575475' '55574953-48485348545775'\n",
            " '55574950-56554948545476' '55574949-55485249505471'\n",
            " '55574948-55575455525770' '55574856-50544848505379'\n",
            " '55575456-57525753575171' '55575456-55505052545472'\n",
            " '55575453-50505556565671' '55575451-54555752535179'\n",
            " '55575057-54535351505572' '55575054-49575153555073'\n",
            " '55574954-51565053525178' '55574953-54525651545574'\n",
            " '55574948-52495657485470' '55574856-49505152484873'\n",
            " '55574854-55535649535371' '55574852-55525648565273'\n",
            " '55574852-54544848485472' '55575456-48525050535076'\n",
            " '55575450-56494850505572' '55575349-57485052565279'\n",
            " '55575349-55495255485571' '55575348-54495648535378'\n",
            " '55575057-57505448515773' '55575056-54505054485479'\n",
            " '55575054-50495757495478' '55575054-49505057545771'\n",
            " '55575048-48485153555677' '55574956-52555552505770'\n",
            " '55574954-53574855495471' '55574954-49525252564870'\n",
            " '55574953-52484853505075' '55574953-51535256485676'\n",
            " '55574953-50525453565476' '55574953-50514956485370'\n",
            " '55574948-55575352505175' '55574857-52484951495571'\n",
            " '55574857-51495048504875' '55574856-51565048525375'\n",
            " '55574851-57555056545576' '55575653-55524955515473'\n",
            " '55575653-51565551484975' '55575455-49575449575279'\n",
            " '55575348-54485250545574' '55575155-52484949515275'\n",
            " '55575155-50495251524974' '55575057-54515250534971'\n",
            " '55575055-54575454495375' '55575055-53535549534977'\n",
            " '55575054-49525048495176' '55575054-48555155575670'\n",
            " '55575053-48494953504872' '55575048-48525249555077'\n",
            " '55574954-54555253515772' '55574954-48495655495373'\n",
            " '55574948-56565355515277' '55574857-57525550524870'\n",
            " '55574854-48525552485576' '55574853-51505151515570'\n",
            " '55574852-57525157494879' '55575456-53575549535772'\n",
            " '55575452-55565454525170' '55575450-57554952495271'\n",
            " '55575351-51505755564870' '55575155-52485755575170'\n",
            " '55575148-56485651515270' '55575055-54535057545373'\n",
            " '55575054-55484950555173' '55575054-54544954555178'\n",
            " '55575054-54504849555575' '55575054-54495650574971'\n",
            " '55575054-50555557574875' '55575053-56564950555772'\n",
            " '55575053-56554852525473' '55575053-50485353525076'\n",
            " '55575050-50574954565171' '55575048-57535253525074'\n",
            " '55574957-53495656525472' '55574955-50504951535572'\n",
            " '55574954-54565548545572' '55574954-53484949545776'\n",
            " '55574954-51505350495775' '55574954-50485548535477'\n",
            " '55574954-49555552565370' '55574954-49515450535478'\n",
            " '55574953-49565357505376' '55574948-53505454575176'\n",
            " '55574948-52484849555270' '55574948-51575152515770'\n",
            " '55574948-51575055565272' '55574948-49525354535775'\n",
            " '55574948-49504852495273' '55574857-57534956565776'\n",
            " '55574857-57494956544875' '55574853-54544850555577'\n",
            " '55574851-53515351535175' '55574851-50565653535678'\n",
            " '55574851-50564857555273' '55574851-49554957525571'\n",
            " '55574851-48535748494871' '55574851-48485756485678'\n",
            " '55575757-50495253525576' '55575655-57555248485375'\n",
            " '55575650-57485148515170' '55575650-53494848485579'\n",
            " '55575454-49525557515373' '55575453-50575651555670'\n",
            " '55575451-57575748495276' '55575450-50555050555271'\n",
            " '55575350-50535053484877' '55575349-52575754565173'\n",
            " '55575349-52485551555675' '55575348-54494850545378'\n",
            " '55575055-54485751524875' '55575055-54485255555571'\n",
            " '55575055-48514953555770' '55575054-56545152575277'\n",
            " '55575054-55515556565070' '55575054-51544849565270'\n",
            " '55575054-50565148565271' '55575054-49555555495178'\n",
            " '55575048-57575753555575' '55575048-48505048575770'\n",
            " '55575048-48494851485274' '55574957-49515256555273'\n",
            " '55574956-52565654565378' '55574955-49515256575676'\n",
            " '55574954-57534951495470' '55574954-56505554535575'\n",
            " '55574954-55504850565274' '55574954-53495450565178' nan]\n"
          ]
        }
      ],
      "source": [
        "#show unique users\n",
        "print(df['client_id'].unique())"
      ],
      "metadata": {
        "pycharm": {
          "name": "#%%\n"
        },
        "id": "zOo_fnR7RohJ",
        "outputId": "e34e5912-3e92-4820-95d0-105fcde61844"
      }
    },
    {
      "cell_type": "code",
      "execution_count": 28,
      "outputs": [
        {
          "output_type": "stream",
          "name": "stdout",
          "text": [
            "client:  55575053-54505550565678 cluster:  Cluster 3 prediction:  [2, 1, 3]\n",
            "client:  55575048-48524956565375 cluster:  Cluster 1 prediction:  [3, 2, 0]\n",
            "client:  55575555-57524953505673 cluster:  Cluster 1 prediction:  [0, 1, 3]\n",
            "client:  55574953-50505150484978 cluster:  Cluster 3 prediction:  [1, 2, 0]\n",
            "index 4 is out of bounds for axis 0 with size 4\n",
            "index 5 is out of bounds for axis 0 with size 4\n",
            "index 6 is out of bounds for axis 0 with size 4\n",
            "index 7 is out of bounds for axis 0 with size 4\n",
            "index 8 is out of bounds for axis 0 with size 4\n",
            "index 9 is out of bounds for axis 0 with size 4\n"
          ]
        }
      ],
      "source": [
        "for i in range(10):\n",
        "    try:\n",
        "        client = df['client_id'].unique()[i]\n",
        "        print(\"client: \", client, \"cluster: \", df[df['client_id'] == client]['Cluster'].values[0], \"prediction: \",algo.get_neighbors(i, k=10))\n",
        "    except Exception as e:\n",
        "        print(e)\n",
        "        pass\n"
      ],
      "metadata": {
        "pycharm": {
          "name": "#%%\n"
        },
        "colab": {
          "base_uri": "https://localhost:8080/"
        },
        "id": "BoJoX3HVRohJ",
        "outputId": "4e72c0ec-0f21-45af-ef64-2a68b8bd4346"
      }
    },
    {
      "cell_type": "code",
      "execution_count": 29,
      "outputs": [],
      "source": [
        "from surprise import SVD, SVDpp, SlopeOne, NMF, NormalPredictor, KNNBaseline, KNNBasic, KNNWithMeans, KNNWithZScore, BaselineOnly, CoClustering"
      ],
      "metadata": {
        "pycharm": {
          "name": "#%%\n"
        },
        "id": "YQoQcsV7RohK"
      }
    },
    {
      "cell_type": "code",
      "execution_count": 30,
      "outputs": [
        {
          "output_type": "stream",
          "name": "stdout",
          "text": [
            "Attempting:  [<surprise.prediction_algorithms.matrix_factorization.SVD object at 0x7f4081cacf10>, <surprise.prediction_algorithms.matrix_factorization.SVDpp object at 0x7f4081cacbe0>, <surprise.prediction_algorithms.slope_one.SlopeOne object at 0x7f4081cac9a0>, <surprise.prediction_algorithms.matrix_factorization.NMF object at 0x7f4081cacb20>, <surprise.prediction_algorithms.random_pred.NormalPredictor object at 0x7f4081cac9d0>, <surprise.prediction_algorithms.knns.KNNBaseline object at 0x7f4081cacb80>, <surprise.prediction_algorithms.knns.KNNBasic object at 0x7f4081cacc70>, <surprise.prediction_algorithms.knns.KNNWithMeans object at 0x7f4081caca00>, <surprise.prediction_algorithms.knns.KNNWithZScore object at 0x7f4081cac5e0>, <surprise.prediction_algorithms.baseline_only.BaselineOnly object at 0x7f4081cac340>, <surprise.prediction_algorithms.co_clustering.CoClustering object at 0x7f4081cac550>] \n",
            "\n",
            "\n",
            "\n",
            "Starting:  <surprise.prediction_algorithms.matrix_factorization.SVD object at 0x7f4081cacf10>\n",
            "Done:  <surprise.prediction_algorithms.matrix_factorization.SVD object at 0x7f4081cacf10> \n",
            "\n",
            "\n",
            "Starting:  <surprise.prediction_algorithms.matrix_factorization.SVDpp object at 0x7f4081cacbe0>\n",
            "Done:  <surprise.prediction_algorithms.matrix_factorization.SVDpp object at 0x7f4081cacbe0> \n",
            "\n",
            "\n",
            "Starting:  <surprise.prediction_algorithms.slope_one.SlopeOne object at 0x7f4081cac9a0>\n",
            "Done:  <surprise.prediction_algorithms.slope_one.SlopeOne object at 0x7f4081cac9a0> \n",
            "\n",
            "\n",
            "Starting:  <surprise.prediction_algorithms.matrix_factorization.NMF object at 0x7f4081cacb20>\n",
            "Done:  <surprise.prediction_algorithms.matrix_factorization.NMF object at 0x7f4081cacb20> \n",
            "\n",
            "\n",
            "Starting:  <surprise.prediction_algorithms.random_pred.NormalPredictor object at 0x7f4081cac9d0>\n",
            "Done:  <surprise.prediction_algorithms.random_pred.NormalPredictor object at 0x7f4081cac9d0> \n",
            "\n",
            "\n",
            "Starting:  <surprise.prediction_algorithms.knns.KNNBaseline object at 0x7f4081cacb80>\n",
            "Estimating biases using als...\n",
            "Computing the msd similarity matrix...\n",
            "Done computing similarity matrix.\n",
            "Estimating biases using als...\n",
            "Computing the msd similarity matrix...\n",
            "Done computing similarity matrix.\n",
            "Estimating biases using als...\n",
            "Computing the msd similarity matrix...\n",
            "Done computing similarity matrix.\n",
            "Done:  <surprise.prediction_algorithms.knns.KNNBaseline object at 0x7f4081cacb80> \n",
            "\n",
            "\n",
            "Starting:  <surprise.prediction_algorithms.knns.KNNBasic object at 0x7f4081cacc70>\n",
            "Computing the msd similarity matrix...\n",
            "Done computing similarity matrix.\n",
            "Computing the msd similarity matrix...\n",
            "Done computing similarity matrix.\n",
            "Computing the msd similarity matrix...\n",
            "Done computing similarity matrix.\n",
            "Done:  <surprise.prediction_algorithms.knns.KNNBasic object at 0x7f4081cacc70> \n",
            "\n",
            "\n",
            "Starting:  <surprise.prediction_algorithms.knns.KNNWithMeans object at 0x7f4081caca00>\n",
            "Computing the msd similarity matrix...\n",
            "Done computing similarity matrix.\n",
            "Computing the msd similarity matrix...\n",
            "Done computing similarity matrix.\n",
            "Computing the msd similarity matrix...\n",
            "Done computing similarity matrix.\n",
            "Done:  <surprise.prediction_algorithms.knns.KNNWithMeans object at 0x7f4081caca00> \n",
            "\n",
            "\n",
            "Starting:  <surprise.prediction_algorithms.knns.KNNWithZScore object at 0x7f4081cac5e0>\n",
            "Computing the msd similarity matrix...\n",
            "Done computing similarity matrix.\n",
            "Computing the msd similarity matrix...\n",
            "Done computing similarity matrix.\n",
            "Computing the msd similarity matrix...\n",
            "Done computing similarity matrix.\n",
            "Done:  <surprise.prediction_algorithms.knns.KNNWithZScore object at 0x7f4081cac5e0> \n",
            "\n",
            "\n",
            "Starting:  <surprise.prediction_algorithms.baseline_only.BaselineOnly object at 0x7f4081cac340>\n",
            "Estimating biases using als...\n",
            "Estimating biases using als...\n",
            "Estimating biases using als...\n",
            "Done:  <surprise.prediction_algorithms.baseline_only.BaselineOnly object at 0x7f4081cac340> \n",
            "\n",
            "\n",
            "Starting:  <surprise.prediction_algorithms.co_clustering.CoClustering object at 0x7f4081cac550>\n",
            "Done:  <surprise.prediction_algorithms.co_clustering.CoClustering object at 0x7f4081cac550> \n",
            "\n",
            "\n",
            "\n",
            "\tDONE\n",
            "\n"
          ]
        }
      ],
      "source": [
        "benchmark = []\n",
        "# Iterate over all algorithms\n",
        "\n",
        "algorithms = [SVD(), SVDpp(), SlopeOne(), NMF(), NormalPredictor(), KNNBaseline(), KNNBasic(), KNNWithMeans(), KNNWithZScore(), BaselineOnly(), CoClustering()]\n",
        "\n",
        "print (\"Attempting: \", str(algorithms), '\\n\\n\\n')\n",
        "\n",
        "for algorithm in algorithms:\n",
        "    print(\"Starting: \" ,str(algorithm))\n",
        "    # Perform cross validation\n",
        "    results = cross_validate(algorithm, data, measures=['RMSE'], cv=3, verbose=False)\n",
        "    # results = cross_validate(algorithm, data, measures=['RMSE','MAE'], cv=3, verbose=False)\n",
        "\n",
        "    # Get results & append algorithm name\n",
        "    tmp = pd.DataFrame.from_dict(results).mean(axis=0)\n",
        "    tmp = tmp.append(pd.Series([str(algorithm).split(' ')[0].split('.')[-1]], index=['Algorithm']))\n",
        "    benchmark.append(tmp)\n",
        "    print(\"Done: \" ,str(algorithm), \"\\n\\n\")\n",
        "\n",
        "print ('\\n\\tDONE\\n')\n"
      ],
      "metadata": {
        "pycharm": {
          "name": "#%%\n"
        },
        "colab": {
          "base_uri": "https://localhost:8080/"
        },
        "id": "_Gvdwf4iRohK",
        "outputId": "6eb05e1e-9668-4744-f398-7fb4a73c6eb8"
      }
    },
    {
      "cell_type": "code",
      "execution_count": 31,
      "outputs": [
        {
          "output_type": "stream",
          "name": "stdout",
          "text": [
            "                    test_rmse    fit_time  test_time\n",
            "Algorithm                                           \n",
            "SlopeOne          1656.440620    1.508909  11.426521\n",
            "KNNWithZScore     1663.338897    0.270297   4.518291\n",
            "KNNBasic          1666.018831    0.245512   4.396290\n",
            "CoClustering      1675.692480    0.059379   0.023667\n",
            "KNNWithMeans      1687.625716    0.231792   4.673701\n",
            "KNNBaseline       1714.155064    0.266488   4.523497\n",
            "BaselineOnly      1737.442700    0.003916   0.009624\n",
            "NormalPredictor   3101.842893    0.005664   0.027784\n",
            "NMF               3548.368961    0.065093   0.018592\n",
            "SVDpp            43334.581284  113.350895  19.051319\n",
            "SVD              43334.590330    0.164478   0.036649\n"
          ]
        }
      ],
      "source": [
        "print(pd.DataFrame(benchmark).set_index('Algorithm').sort_values('test_rmse'))"
      ],
      "metadata": {
        "pycharm": {
          "name": "#%%\n"
        },
        "colab": {
          "base_uri": "https://localhost:8080/"
        },
        "id": "tdVu2iQtRohK",
        "outputId": "2f8251c2-c5dd-4c2c-cf33-f7a21f05940b"
      }
    },
    {
      "cell_type": "code",
      "execution_count": 32,
      "outputs": [
        {
          "output_type": "stream",
          "name": "stdout",
          "text": [
            "client:  55575053-54505550565678 cluster:  Cluster 3 prediction:  [2, 1, 3]\n"
          ]
        }
      ],
      "source": [
        "#recommendation for client\n",
        "client = df['client_id'].unique()[0]\n",
        "print(\"client: \", client, \"cluster: \", df[df['client_id'] == client]['Cluster'].values[0], \"prediction: \",algo.get_neighbors(0, k=10))\n"
      ],
      "metadata": {
        "pycharm": {
          "name": "#%%\n"
        },
        "colab": {
          "base_uri": "https://localhost:8080/"
        },
        "id": "_iwNJgCbRohK",
        "outputId": "d628a84a-d3fc-4cf4-ecfa-129207575a17"
      }
    },
    {
      "cell_type": "code",
      "execution_count": 33,
      "outputs": [
        {
          "output_type": "stream",
          "name": "stdout",
          "text": [
            "client:  55575048-48524956565375 cluster:  Cluster 1 prediction:  [3, 2, 0]\n"
          ]
        }
      ],
      "source": [
        "#recommendation for client\n",
        "client = df['client_id'].unique()[1]\n",
        "print(\"client: \", client, \"cluster: \", df[df['client_id'] == client]['Cluster'].values[0], \"prediction: \",algo.get_neighbors(1, k=10))\n"
      ],
      "metadata": {
        "pycharm": {
          "name": "#%%\n"
        },
        "colab": {
          "base_uri": "https://localhost:8080/"
        },
        "id": "uG-lvA5PRohL",
        "outputId": "31f7b0f8-e20a-4f50-b56f-2810eeeb43c2"
      }
    }
  ],
  "metadata": {
    "accelerator": "GPU",
    "colab": {
      "provenance": []
    },
    "kernelspec": {
      "display_name": "Python 3",
      "language": "python",
      "name": "python3"
    },
    "language_info": {
      "codemirror_mode": {
        "name": "ipython",
        "version": 3
      },
      "file_extension": ".py",
      "mimetype": "text/x-python",
      "name": "python",
      "nbconvert_exporter": "python",
      "pygments_lexer": "ipython3",
      "version": "3.9.2"
    }
  },
  "nbformat": 4,
  "nbformat_minor": 0
}
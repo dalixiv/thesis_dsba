{
 "cells": [
  {
   "cell_type": "code",
   "execution_count": 66,
   "metadata": {
    "id": "Hh1hOV1iV4ka"
   },
   "outputs": [],
   "source": [
    "import pandas as pd\n",
    "import scipy.sparse as sparse\n",
    "import numpy as np\n",
    "from scipy.sparse.linalg import spsolve\n",
    "from collections import defaultdict\n",
    "from surprise.model_selection import train_test_split\n",
    "import io\n",
    "\n",
    "from surprise import KNNBaseline\n",
    "from surprise import Dataset\n",
    "from surprise import get_dataset_dir\n",
    "from surprise import NormalPredictor\n",
    "from surprise import Dataset\n",
    "from surprise import Reader\n",
    "from surprise.model_selection import cross_validate\n",
    "from TfidfLevenshteinAlgorithm import TfidfLevenshteinAlgorithm"
   ]
  },
  {
   "cell_type": "code",
   "execution_count": 67,
   "metadata": {},
   "outputs": [],
   "source": [
    "path = 'clustered_clients10000.csv'\n",
    "df = pd.read_csv(path)"
   ]
  },
  {
   "cell_type": "code",
   "execution_count": 68,
   "metadata": {},
   "outputs": [
    {
     "name": "stdout",
     "output_type": "stream",
     "text": [
      "<class 'pandas.core.frame.DataFrame'>\n",
      "RangeIndex: 10000 entries, 0 to 9999\n",
      "Data columns (total 43 columns):\n",
      " #   Column                     Non-Null Count  Dtype  \n",
      "---  ------                     --------------  -----  \n",
      " 0   Unnamed: 0.1               10000 non-null  int64  \n",
      " 1   Unnamed: 0                 10000 non-null  int64  \n",
      " 2   client_id                  10000 non-null  object \n",
      " 3   Cluster                    10000 non-null  int64  \n",
      " 4   DistinctCountOrders        10000 non-null  int64  \n",
      " 5   AverageOrderSum            10000 non-null  float64\n",
      " 6   AvgBill                    10000 non-null  float64\n",
      " 7   AverageNumItemsInOrder     10000 non-null  float64\n",
      " 8   RevenueClient              10000 non-null  float64\n",
      " 9   TotalNumberItemsOrdered    10000 non-null  int64  \n",
      " 10  AverageMarginOrder         10000 non-null  float64\n",
      " 11  cnt_purchased_orders       10000 non-null  int64  \n",
      " 12  AvgOrderSumPurchased       10000 non-null  float64\n",
      " 13  AvgNumItemsOrderPurchased  10000 non-null  float64\n",
      " 14  RevenueClientPurchased     10000 non-null  float64\n",
      " 15  PurchasedItems             10000 non-null  float64\n",
      " 16  AvgMarginPurchased         10000 non-null  float64\n",
      " 17  SharePurchasedOrders       10000 non-null  float64\n",
      " 18  ДЕТСКОЕ ПИТАНИЕ            10000 non-null  float64\n",
      " 19  ЖЕНСКИЕ ШТУЧКИ             10000 non-null  float64\n",
      " 20  ИГРУШКИ                    10000 non-null  float64\n",
      " 21  КАНЦТОВАРЫ, КНИГИ, ДИСКИ   10000 non-null  float64\n",
      " 22  КОСМЕТИКА/ГИГИЕНА          10000 non-null  float64\n",
      " 23  КРУПНОГАБАРИТНЫЙ ТОВАР     10000 non-null  float64\n",
      " 24  ОБУВЬ                      10000 non-null  float64\n",
      " 25  ПОДГУЗНИКИ                 10000 non-null  float64\n",
      " 26  СОПУТСТВУЮЩИЕ ТОВАРЫ       10000 non-null  float64\n",
      " 27  ТЕКСТИЛЬ, ТРИКОТАЖ         10000 non-null  float64\n",
      " 28  ТЕХНИКА И ТОВАРЫ ДЛЯ ДОМА  10000 non-null  float64\n",
      " 29  ТОВАРЫ ДЛЯ ЖИВОТНЫХ        10000 non-null  float64\n",
      " 30  ТОВАРЫ ДЛЯ КОРМЛЕНИЯ       10000 non-null  float64\n",
      " 31  ИГРУШКИ.1                  10000 non-null  float64\n",
      " 32  ИНОЕ                       10000 non-null  float64\n",
      " 33  КГТ                        10000 non-null  float64\n",
      " 34  ОДЕЖДА                     10000 non-null  float64\n",
      " 35  ППКП                       10000 non-null  float64\n",
      " 36  CENTRAL                    10000 non-null  float64\n",
      " 37  FAR EAST                   10000 non-null  float64\n",
      " 38  NORTH                      10000 non-null  float64\n",
      " 39  PRIVOLZIE                  10000 non-null  float64\n",
      " 40  SIBERIA                    10000 non-null  float64\n",
      " 41  SOUTHERN                   10000 non-null  float64\n",
      " 42  URAL                       10000 non-null  float64\n",
      "dtypes: float64(36), int64(6), object(1)\n",
      "memory usage: 3.3+ MB\n"
     ]
    }
   ],
   "source": [
    "df.info()"
   ]
  },
  {
   "cell_type": "code",
   "execution_count": 69,
   "metadata": {},
   "outputs": [
    {
     "name": "stderr",
     "output_type": "stream",
     "text": [
      "/var/folders/hz/np5gwl5d697cq7qxk89wms9c0000gp/T/ipykernel_17356/2894629639.py:6: DeprecationWarning: `np.object` is a deprecated alias for the builtin `object`. To silence this warning, use `object` by itself. Doing this will not modify any behavior and is safe. \n",
      "Deprecated in NumPy 1.20; for more details and guidance: https://numpy.org/devdocs/release/1.20.0-notes.html#deprecations\n",
      "  elif type(df[col][0]) == np.object:\n"
     ]
    }
   ],
   "source": [
    "for col in df.columns:\n",
    "    if type(df[col][0]) == np.float64:\n",
    "        df[col] = df[col].astype('float16')\n",
    "    elif type(df[col][0]) == np.int64:\n",
    "        df[col] = df[col].astype('int16')\n",
    "    elif type(df[col][0]) == np.object:\n",
    "        df[col] = df[col].astype('category')\n",
    "    else:\n",
    "        pass"
   ]
  },
  {
   "cell_type": "code",
   "execution_count": 70,
   "metadata": {},
   "outputs": [
    {
     "name": "stdout",
     "output_type": "stream",
     "text": [
      "<class 'pandas.core.frame.DataFrame'>\n",
      "RangeIndex: 10000 entries, 0 to 9999\n",
      "Data columns (total 43 columns):\n",
      " #   Column                     Non-Null Count  Dtype  \n",
      "---  ------                     --------------  -----  \n",
      " 0   Unnamed: 0.1               10000 non-null  int16  \n",
      " 1   Unnamed: 0                 10000 non-null  int16  \n",
      " 2   client_id                  10000 non-null  object \n",
      " 3   Cluster                    10000 non-null  int16  \n",
      " 4   DistinctCountOrders        10000 non-null  int16  \n",
      " 5   AverageOrderSum            10000 non-null  float16\n",
      " 6   AvgBill                    10000 non-null  float16\n",
      " 7   AverageNumItemsInOrder     10000 non-null  float16\n",
      " 8   RevenueClient              10000 non-null  float16\n",
      " 9   TotalNumberItemsOrdered    10000 non-null  int16  \n",
      " 10  AverageMarginOrder         10000 non-null  float16\n",
      " 11  cnt_purchased_orders       10000 non-null  int16  \n",
      " 12  AvgOrderSumPurchased       10000 non-null  float16\n",
      " 13  AvgNumItemsOrderPurchased  10000 non-null  float16\n",
      " 14  RevenueClientPurchased     10000 non-null  float16\n",
      " 15  PurchasedItems             10000 non-null  float16\n",
      " 16  AvgMarginPurchased         10000 non-null  float16\n",
      " 17  SharePurchasedOrders       10000 non-null  float16\n",
      " 18  ДЕТСКОЕ ПИТАНИЕ            10000 non-null  float16\n",
      " 19  ЖЕНСКИЕ ШТУЧКИ             10000 non-null  float16\n",
      " 20  ИГРУШКИ                    10000 non-null  float16\n",
      " 21  КАНЦТОВАРЫ, КНИГИ, ДИСКИ   10000 non-null  float16\n",
      " 22  КОСМЕТИКА/ГИГИЕНА          10000 non-null  float16\n",
      " 23  КРУПНОГАБАРИТНЫЙ ТОВАР     10000 non-null  float16\n",
      " 24  ОБУВЬ                      10000 non-null  float16\n",
      " 25  ПОДГУЗНИКИ                 10000 non-null  float16\n",
      " 26  СОПУТСТВУЮЩИЕ ТОВАРЫ       10000 non-null  float16\n",
      " 27  ТЕКСТИЛЬ, ТРИКОТАЖ         10000 non-null  float16\n",
      " 28  ТЕХНИКА И ТОВАРЫ ДЛЯ ДОМА  10000 non-null  float16\n",
      " 29  ТОВАРЫ ДЛЯ ЖИВОТНЫХ        10000 non-null  float16\n",
      " 30  ТОВАРЫ ДЛЯ КОРМЛЕНИЯ       10000 non-null  float16\n",
      " 31  ИГРУШКИ.1                  10000 non-null  float16\n",
      " 32  ИНОЕ                       10000 non-null  float16\n",
      " 33  КГТ                        10000 non-null  float16\n",
      " 34  ОДЕЖДА                     10000 non-null  float16\n",
      " 35  ППКП                       10000 non-null  float16\n",
      " 36  CENTRAL                    10000 non-null  float16\n",
      " 37  FAR EAST                   10000 non-null  float16\n",
      " 38  NORTH                      10000 non-null  float16\n",
      " 39  PRIVOLZIE                  10000 non-null  float16\n",
      " 40  SIBERIA                    10000 non-null  float16\n",
      " 41  SOUTHERN                   10000 non-null  float16\n",
      " 42  URAL                       10000 non-null  float16\n",
      "dtypes: float16(36), int16(6), object(1)\n",
      "memory usage: 898.6+ KB\n"
     ]
    }
   ],
   "source": [
    "df.info()"
   ]
  },
  {
   "cell_type": "code",
   "execution_count": 71,
   "metadata": {},
   "outputs": [
    {
     "data": {
      "text/html": [
       "<div>\n",
       "<style scoped>\n",
       "    .dataframe tbody tr th:only-of-type {\n",
       "        vertical-align: middle;\n",
       "    }\n",
       "\n",
       "    .dataframe tbody tr th {\n",
       "        vertical-align: top;\n",
       "    }\n",
       "\n",
       "    .dataframe thead th {\n",
       "        text-align: right;\n",
       "    }\n",
       "</style>\n",
       "<table border=\"1\" class=\"dataframe\">\n",
       "  <thead>\n",
       "    <tr style=\"text-align: right;\">\n",
       "      <th></th>\n",
       "      <th>Unnamed: 0.1</th>\n",
       "      <th>Unnamed: 0</th>\n",
       "      <th>client_id</th>\n",
       "      <th>Cluster</th>\n",
       "      <th>DistinctCountOrders</th>\n",
       "      <th>AverageOrderSum</th>\n",
       "      <th>AvgBill</th>\n",
       "      <th>AverageNumItemsInOrder</th>\n",
       "      <th>RevenueClient</th>\n",
       "      <th>TotalNumberItemsOrdered</th>\n",
       "      <th>...</th>\n",
       "      <th>КГТ</th>\n",
       "      <th>ОДЕЖДА</th>\n",
       "      <th>ППКП</th>\n",
       "      <th>CENTRAL</th>\n",
       "      <th>FAR EAST</th>\n",
       "      <th>NORTH</th>\n",
       "      <th>PRIVOLZIE</th>\n",
       "      <th>SIBERIA</th>\n",
       "      <th>SOUTHERN</th>\n",
       "      <th>URAL</th>\n",
       "    </tr>\n",
       "  </thead>\n",
       "  <tbody>\n",
       "    <tr>\n",
       "      <th>0</th>\n",
       "      <td>0</td>\n",
       "      <td>0</td>\n",
       "      <td>55575053-54505550565678</td>\n",
       "      <td>2</td>\n",
       "      <td>100</td>\n",
       "      <td>1759.0</td>\n",
       "      <td>1723.0</td>\n",
       "      <td>2.439453</td>\n",
       "      <td>inf</td>\n",
       "      <td>244</td>\n",
       "      <td>...</td>\n",
       "      <td>0.192627</td>\n",
       "      <td>0.639160</td>\n",
       "      <td>0.024597</td>\n",
       "      <td>1.0</td>\n",
       "      <td>0.0</td>\n",
       "      <td>0.0</td>\n",
       "      <td>0.0</td>\n",
       "      <td>0.0</td>\n",
       "      <td>0.0</td>\n",
       "      <td>0.0</td>\n",
       "    </tr>\n",
       "    <tr>\n",
       "      <th>1</th>\n",
       "      <td>1</td>\n",
       "      <td>1</td>\n",
       "      <td>55575048-48524956565375</td>\n",
       "      <td>1</td>\n",
       "      <td>66</td>\n",
       "      <td>580.5</td>\n",
       "      <td>524.0</td>\n",
       "      <td>3.787109</td>\n",
       "      <td>34592.0</td>\n",
       "      <td>250</td>\n",
       "      <td>...</td>\n",
       "      <td>0.012001</td>\n",
       "      <td>0.320068</td>\n",
       "      <td>0.459961</td>\n",
       "      <td>0.0</td>\n",
       "      <td>0.0</td>\n",
       "      <td>0.0</td>\n",
       "      <td>1.0</td>\n",
       "      <td>0.0</td>\n",
       "      <td>0.0</td>\n",
       "      <td>0.0</td>\n",
       "    </tr>\n",
       "    <tr>\n",
       "      <th>2</th>\n",
       "      <td>2</td>\n",
       "      <td>2</td>\n",
       "      <td>55575555-57524953505673</td>\n",
       "      <td>3</td>\n",
       "      <td>54</td>\n",
       "      <td>823.0</td>\n",
       "      <td>807.0</td>\n",
       "      <td>2.703125</td>\n",
       "      <td>43584.0</td>\n",
       "      <td>146</td>\n",
       "      <td>...</td>\n",
       "      <td>0.000000</td>\n",
       "      <td>0.952148</td>\n",
       "      <td>0.006851</td>\n",
       "      <td>1.0</td>\n",
       "      <td>0.0</td>\n",
       "      <td>0.0</td>\n",
       "      <td>0.0</td>\n",
       "      <td>0.0</td>\n",
       "      <td>0.0</td>\n",
       "      <td>0.0</td>\n",
       "    </tr>\n",
       "    <tr>\n",
       "      <th>3</th>\n",
       "      <td>3</td>\n",
       "      <td>3</td>\n",
       "      <td>55574953-50505150484978</td>\n",
       "      <td>2</td>\n",
       "      <td>59</td>\n",
       "      <td>3608.0</td>\n",
       "      <td>3482.0</td>\n",
       "      <td>4.167969</td>\n",
       "      <td>inf</td>\n",
       "      <td>246</td>\n",
       "      <td>...</td>\n",
       "      <td>0.187012</td>\n",
       "      <td>0.569336</td>\n",
       "      <td>0.105713</td>\n",
       "      <td>1.0</td>\n",
       "      <td>0.0</td>\n",
       "      <td>0.0</td>\n",
       "      <td>0.0</td>\n",
       "      <td>0.0</td>\n",
       "      <td>0.0</td>\n",
       "      <td>0.0</td>\n",
       "    </tr>\n",
       "    <tr>\n",
       "      <th>4</th>\n",
       "      <td>4</td>\n",
       "      <td>4</td>\n",
       "      <td>55575054-51515151484875</td>\n",
       "      <td>2</td>\n",
       "      <td>46</td>\n",
       "      <td>2670.0</td>\n",
       "      <td>2632.0</td>\n",
       "      <td>1.717773</td>\n",
       "      <td>inf</td>\n",
       "      <td>79</td>\n",
       "      <td>...</td>\n",
       "      <td>0.455811</td>\n",
       "      <td>0.405029</td>\n",
       "      <td>0.088623</td>\n",
       "      <td>1.0</td>\n",
       "      <td>0.0</td>\n",
       "      <td>0.0</td>\n",
       "      <td>0.0</td>\n",
       "      <td>0.0</td>\n",
       "      <td>0.0</td>\n",
       "      <td>0.0</td>\n",
       "    </tr>\n",
       "  </tbody>\n",
       "</table>\n",
       "<p>5 rows × 43 columns</p>\n",
       "</div>"
      ],
      "text/plain": [
       "   Unnamed: 0.1  Unnamed: 0                client_id  Cluster  \\\n",
       "0             0           0  55575053-54505550565678        2   \n",
       "1             1           1  55575048-48524956565375        1   \n",
       "2             2           2  55575555-57524953505673        3   \n",
       "3             3           3  55574953-50505150484978        2   \n",
       "4             4           4  55575054-51515151484875        2   \n",
       "\n",
       "   DistinctCountOrders  AverageOrderSum  AvgBill  AverageNumItemsInOrder  \\\n",
       "0                  100           1759.0   1723.0                2.439453   \n",
       "1                   66            580.5    524.0                3.787109   \n",
       "2                   54            823.0    807.0                2.703125   \n",
       "3                   59           3608.0   3482.0                4.167969   \n",
       "4                   46           2670.0   2632.0                1.717773   \n",
       "\n",
       "   RevenueClient  TotalNumberItemsOrdered  ...       КГТ    ОДЕЖДА      ППКП  \\\n",
       "0            inf                      244  ...  0.192627  0.639160  0.024597   \n",
       "1        34592.0                      250  ...  0.012001  0.320068  0.459961   \n",
       "2        43584.0                      146  ...  0.000000  0.952148  0.006851   \n",
       "3            inf                      246  ...  0.187012  0.569336  0.105713   \n",
       "4            inf                       79  ...  0.455811  0.405029  0.088623   \n",
       "\n",
       "   CENTRAL  FAR EAST  NORTH  PRIVOLZIE  SIBERIA  SOUTHERN  URAL  \n",
       "0      1.0       0.0    0.0        0.0      0.0       0.0   0.0  \n",
       "1      0.0       0.0    0.0        1.0      0.0       0.0   0.0  \n",
       "2      1.0       0.0    0.0        0.0      0.0       0.0   0.0  \n",
       "3      1.0       0.0    0.0        0.0      0.0       0.0   0.0  \n",
       "4      1.0       0.0    0.0        0.0      0.0       0.0   0.0  \n",
       "\n",
       "[5 rows x 43 columns]"
      ]
     },
     "execution_count": 71,
     "metadata": {},
     "output_type": "execute_result"
    }
   ],
   "source": [
    "df.head()"
   ]
  },
  {
   "cell_type": "code",
   "execution_count": 72,
   "metadata": {},
   "outputs": [
    {
     "name": "stdout",
     "output_type": "stream",
     "text": [
      "   Unnamed: 0.1  Unnamed: 0                client_id  Cluster  \\\n",
      "0             0           0  55575053-54505550565678        2   \n",
      "1             1           1  55575048-48524956565375        1   \n",
      "2             2           2  55575555-57524953505673        3   \n",
      "3             3           3  55574953-50505150484978        2   \n",
      "4             4           4  55575054-51515151484875        2   \n",
      "\n",
      "   DistinctCountOrders  AverageOrderSum  AvgBill  AverageNumItemsInOrder  \\\n",
      "0                  100           1759.0   1723.0                2.439453   \n",
      "1                   66            580.5    524.0                3.787109   \n",
      "2                   54            823.0    807.0                2.703125   \n",
      "3                   59           3608.0   3482.0                4.167969   \n",
      "4                   46           2670.0   2632.0                1.717773   \n",
      "\n",
      "   RevenueClient  TotalNumberItemsOrdered  ...       КГТ    ОДЕЖДА      ППКП  \\\n",
      "0            inf                      244  ...  0.192627  0.639160  0.024597   \n",
      "1        34592.0                      250  ...  0.012001  0.320068  0.459961   \n",
      "2        43584.0                      146  ...  0.000000  0.952148  0.006851   \n",
      "3            inf                      246  ...  0.187012  0.569336  0.105713   \n",
      "4            inf                       79  ...  0.455811  0.405029  0.088623   \n",
      "\n",
      "   CENTRAL  FAR EAST  NORTH  PRIVOLZIE  SIBERIA  SOUTHERN  URAL  \n",
      "0      1.0       0.0    0.0        0.0      0.0       0.0   0.0  \n",
      "1      0.0       0.0    0.0        1.0      0.0       0.0   0.0  \n",
      "2      1.0       0.0    0.0        0.0      0.0       0.0   0.0  \n",
      "3      1.0       0.0    0.0        0.0      0.0       0.0   0.0  \n",
      "4      1.0       0.0    0.0        0.0      0.0       0.0   0.0  \n",
      "\n",
      "[5 rows x 43 columns]\n"
     ]
    }
   ],
   "source": [
    "print(df.head())"
   ]
  },
  {
   "cell_type": "code",
   "execution_count": 73,
   "metadata": {
    "colab": {
     "base_uri": "https://localhost:8080/"
    },
    "id": "yt_YKECIZeJT",
    "outputId": "055931cc-b4cb-4a33-ff1a-76ca06b0d16f"
   },
   "outputs": [
    {
     "name": "stdout",
     "output_type": "stream",
     "text": [
      "Unnamed: 0.1                   int16\n",
      "Unnamed: 0                     int16\n",
      "client_id                     object\n",
      "Cluster                        int16\n",
      "DistinctCountOrders            int16\n",
      "AverageOrderSum              float16\n",
      "AvgBill                      float16\n",
      "AverageNumItemsInOrder       float16\n",
      "RevenueClient                float16\n",
      "TotalNumberItemsOrdered        int16\n",
      "AverageMarginOrder           float16\n",
      "cnt_purchased_orders           int16\n",
      "AvgOrderSumPurchased         float16\n",
      "AvgNumItemsOrderPurchased    float16\n",
      "RevenueClientPurchased       float16\n",
      "PurchasedItems               float16\n",
      "AvgMarginPurchased           float16\n",
      "SharePurchasedOrders         float16\n",
      "ДЕТСКОЕ ПИТАНИЕ              float16\n",
      "ЖЕНСКИЕ ШТУЧКИ               float16\n",
      "ИГРУШКИ                      float16\n",
      "КАНЦТОВАРЫ, КНИГИ, ДИСКИ     float16\n",
      "КОСМЕТИКА/ГИГИЕНА            float16\n",
      "КРУПНОГАБАРИТНЫЙ ТОВАР       float16\n",
      "ОБУВЬ                        float16\n",
      "ПОДГУЗНИКИ                   float16\n",
      "СОПУТСТВУЮЩИЕ ТОВАРЫ         float16\n",
      "ТЕКСТИЛЬ, ТРИКОТАЖ           float16\n",
      "ТЕХНИКА И ТОВАРЫ ДЛЯ ДОМА    float16\n",
      "ТОВАРЫ ДЛЯ ЖИВОТНЫХ          float16\n",
      "ТОВАРЫ ДЛЯ КОРМЛЕНИЯ         float16\n",
      "ИГРУШКИ.1                    float16\n",
      "ИНОЕ                         float16\n",
      "КГТ                          float16\n",
      "ОДЕЖДА                       float16\n",
      "ППКП                         float16\n",
      "CENTRAL                      float16\n",
      "FAR EAST                     float16\n",
      "NORTH                        float16\n",
      "PRIVOLZIE                    float16\n",
      "SIBERIA                      float16\n",
      "SOUTHERN                     float16\n",
      "URAL                         float16\n",
      "dtype: object\n"
     ]
    }
   ],
   "source": [
    "print(df.dtypes)"
   ]
  },
  {
   "cell_type": "code",
   "execution_count": 74,
   "metadata": {
    "id": "HK2sDoMsgexB"
   },
   "outputs": [],
   "source": [
    "choose_column = ['AverageOrderSum']\n",
    "selected_columns = ['client_id', 'Cluster'] + choose_column"
   ]
  },
  {
   "cell_type": "code",
   "execution_count": 75,
   "metadata": {
    "id": "GELnLgU5kokd"
   },
   "outputs": [
    {
     "data": {
      "text/plain": [
       "['client_id', 'Cluster', 'AverageOrderSum']"
      ]
     },
     "execution_count": 75,
     "metadata": {},
     "output_type": "execute_result"
    }
   ],
   "source": [
    "selected_columns"
   ]
  },
  {
   "cell_type": "code",
   "execution_count": 76,
   "metadata": {
    "id": "hNVJ5gQFkxDy"
   },
   "outputs": [],
   "source": [
    "maxi = df[choose_column].max().max()\n",
    "mini = df[choose_column].min().min()\n",
    "\n",
    "reader = Reader(rating_scale=(mini, maxi))"
   ]
  },
  {
   "cell_type": "code",
   "execution_count": 77,
   "metadata": {},
   "outputs": [],
   "source": [
    "# df[selected_columns] = df[selected_columns][:10]"
   ]
  },
  {
   "cell_type": "code",
   "execution_count": 78,
   "metadata": {},
   "outputs": [
    {
     "name": "stdout",
     "output_type": "stream",
     "text": [
      "<class 'pandas.core.frame.DataFrame'>\n",
      "RangeIndex: 10000 entries, 0 to 9999\n",
      "Data columns (total 3 columns):\n",
      " #   Column           Non-Null Count  Dtype  \n",
      "---  ------           --------------  -----  \n",
      " 0   client_id        10000 non-null  object \n",
      " 1   Cluster          10000 non-null  int16  \n",
      " 2   AverageOrderSum  10000 non-null  float16\n",
      "dtypes: float16(1), int16(1), object(1)\n",
      "memory usage: 117.3+ KB\n"
     ]
    }
   ],
   "source": [
    "df[selected_columns].info()"
   ]
  },
  {
   "cell_type": "code",
   "execution_count": 79,
   "metadata": {},
   "outputs": [],
   "source": [
    "data = Dataset.load_from_df(df[selected_columns], reader)"
   ]
  },
  {
   "cell_type": "code",
   "execution_count": 80,
   "metadata": {},
   "outputs": [
    {
     "data": {
      "text/plain": [
       "<surprise.dataset.DatasetAutoFolds at 0x1272176d0>"
      ]
     },
     "execution_count": 80,
     "metadata": {},
     "output_type": "execute_result"
    }
   ],
   "source": [
    "data"
   ]
  },
  {
   "cell_type": "code",
   "execution_count": 81,
   "metadata": {
    "colab": {
     "base_uri": "https://localhost:8080/"
    },
    "id": "DbAUZ6uWlWoU",
    "outputId": "0c14ab55-03f3-4042-d46e-1487df31644c"
   },
   "outputs": [],
   "source": [
    "trainset, testset = train_test_split(data, test_size=.25)\n",
    "\n",
    "sim_options = {'name': 'pearson_baseline', 'user_based': False}\n",
    "algo = KNNBaseline(sim_options=sim_options)"
   ]
  },
  {
   "cell_type": "code",
   "execution_count": 82,
   "metadata": {},
   "outputs": [
    {
     "name": "stdout",
     "output_type": "stream",
     "text": [
      "Estimating biases using als...\n",
      "Computing the pearson_baseline similarity matrix...\n",
      "Done computing similarity matrix.\n"
     ]
    },
    {
     "data": {
      "text/plain": [
       "<surprise.prediction_algorithms.knns.KNNBaseline at 0x139a0f340>"
      ]
     },
     "execution_count": 82,
     "metadata": {},
     "output_type": "execute_result"
    }
   ],
   "source": [
    "algo.fit(trainset)"
   ]
  },
  {
   "cell_type": "code",
   "execution_count": 83,
   "metadata": {},
   "outputs": [],
   "source": [
    "predictions = algo.test(testset)"
   ]
  },
  {
   "cell_type": "code",
   "execution_count": 84,
   "metadata": {},
   "outputs": [],
   "source": [
    "#predictions to dataframe\n",
    "predictions_df = pd.DataFrame(predictions)"
   ]
  },
  {
   "cell_type": "code",
   "execution_count": 85,
   "metadata": {},
   "outputs": [
    {
     "name": "stdout",
     "output_type": "stream",
     "text": [
      "                          uid  iid    r_ui          est  \\\n",
      "0     55575448-49554954555571    0   835.0  2073.815326   \n",
      "1     55575057-54565248565679    0  1175.0  2073.815326   \n",
      "2     55575055-54555552505375    0  1648.0  2073.815326   \n",
      "3     55574856-51495449505572    0  2480.0  2073.815326   \n",
      "4     55575655-57535251485574    0  1248.0  2073.815326   \n",
      "...                       ...  ...     ...          ...   \n",
      "2495  55574953-50535053565777    0  3320.0  2073.815326   \n",
      "2496  55575048-54494856555576    0  2424.0  2073.815326   \n",
      "2497  55574852-57555548554872    0  3118.0  2073.815326   \n",
      "2498  55575050-53524956575674    0   166.0  2073.815326   \n",
      "2499  55575155-50484849484872    0  4972.0  2073.815326   \n",
      "\n",
      "                        details  \n",
      "0     {'was_impossible': False}  \n",
      "1     {'was_impossible': False}  \n",
      "2     {'was_impossible': False}  \n",
      "3     {'was_impossible': False}  \n",
      "4     {'was_impossible': False}  \n",
      "...                         ...  \n",
      "2495  {'was_impossible': False}  \n",
      "2496  {'was_impossible': False}  \n",
      "2497  {'was_impossible': False}  \n",
      "2498  {'was_impossible': False}  \n",
      "2499  {'was_impossible': False}  \n",
      "\n",
      "[2500 rows x 5 columns]\n"
     ]
    }
   ],
   "source": [
    "print(predictions_df)"
   ]
  },
  {
   "cell_type": "code",
   "execution_count": 86,
   "metadata": {},
   "outputs": [
    {
     "data": {
      "text/plain": [
       "[0, 2, 3]"
      ]
     },
     "execution_count": 86,
     "metadata": {},
     "output_type": "execute_result"
    }
   ],
   "source": [
    "#show similar users\n",
    "algo.get_neighbors(1, k=10)"
   ]
  },
  {
   "cell_type": "code",
   "execution_count": 87,
   "metadata": {},
   "outputs": [
    {
     "name": "stdout",
     "output_type": "stream",
     "text": [
      "['55575053-54505550565678' '55575048-48524956565375'\n",
      " '55575555-57524953505673' ... '55575656-53535254535671'\n",
      " '55575656-53535053504870' '55575656-53534953495678']\n"
     ]
    }
   ],
   "source": [
    "#show unique users\n",
    "print(df['client_id'].unique())"
   ]
  },
  {
   "cell_type": "code",
   "execution_count": 88,
   "metadata": {},
   "outputs": [
    {
     "name": "stdout",
     "output_type": "stream",
     "text": [
      "client:  55575053-54505550565678 cluster:  2 prediction:  [1, 2, 3]\n",
      "client:  55575048-48524956565375 cluster:  1 prediction:  [0, 2, 3]\n",
      "client:  55575555-57524953505673 cluster:  3 prediction:  [0, 1, 3]\n",
      "client:  55574953-50505150484978 cluster:  2 prediction:  [0, 1, 2]\n",
      "index 4 is out of bounds for axis 0 with size 4\n",
      "index 5 is out of bounds for axis 0 with size 4\n",
      "index 6 is out of bounds for axis 0 with size 4\n",
      "index 7 is out of bounds for axis 0 with size 4\n",
      "index 8 is out of bounds for axis 0 with size 4\n",
      "index 9 is out of bounds for axis 0 with size 4\n"
     ]
    }
   ],
   "source": [
    "for i in range(10):\n",
    "    try:\n",
    "        client = df['client_id'].unique()[i]\n",
    "        print(\"client: \", client, \"cluster: \", df[df['client_id'] == client]['Cluster'].values[0], \"prediction: \",algo.get_neighbors(i, k=10))\n",
    "    except Exception as e:\n",
    "        print(e)\n",
    "        pass\n"
   ]
  },
  {
   "cell_type": "code",
   "execution_count": 89,
   "metadata": {},
   "outputs": [],
   "source": [
    "from surprise import SVD, SVDpp, SlopeOne, NMF, NormalPredictor, KNNBaseline, KNNBasic, KNNWithMeans, KNNWithZScore, BaselineOnly, CoClustering"
   ]
  },
  {
   "cell_type": "code",
   "execution_count": 90,
   "metadata": {},
   "outputs": [],
   "source": [
    "# # Create an instance of the TfidfLevenshteinAlgorithm\n",
    "algo_Tfidf = TfidfLevenshteinAlgorithm(sim_options={'name': 'cosine', 'user_based': False, 'k': 10})"
   ]
  },
  {
   "cell_type": "code",
   "execution_count": 91,
   "metadata": {},
   "outputs": [
    {
     "name": "stdout",
     "output_type": "stream",
     "text": [
      "Attempting:  [<surprise.prediction_algorithms.matrix_factorization.SVD object at 0x105fdae60>, <surprise.prediction_algorithms.matrix_factorization.SVDpp object at 0x138c7fc70>, <surprise.prediction_algorithms.slope_one.SlopeOne object at 0x138c7fee0>, <surprise.prediction_algorithms.matrix_factorization.NMF object at 0x12735d2a0>, <surprise.prediction_algorithms.random_pred.NormalPredictor object at 0x12735fe20>, <surprise.prediction_algorithms.knns.KNNBaseline object at 0x12735eb00>, <surprise.prediction_algorithms.knns.KNNBasic object at 0x12735e500>, <surprise.prediction_algorithms.knns.KNNWithMeans object at 0x12735d0c0>, <surprise.prediction_algorithms.knns.KNNWithZScore object at 0x12735c9a0>, <surprise.prediction_algorithms.baseline_only.BaselineOnly object at 0x12735eb60>, <surprise.prediction_algorithms.co_clustering.CoClustering object at 0x12735da20>, <TfidfLevenshteinAlgorithm.TfidfLevenshteinAlgorithm object at 0x138cd5510>] \n",
      "\n",
      "\n",
      "\n",
      "Starting:  <surprise.prediction_algorithms.matrix_factorization.SVD object at 0x105fdae60>\n"
     ]
    },
    {
     "name": "stderr",
     "output_type": "stream",
     "text": [
      "/var/folders/hz/np5gwl5d697cq7qxk89wms9c0000gp/T/ipykernel_17356/881450337.py:16: FutureWarning: The series.append method is deprecated and will be removed from pandas in a future version. Use pandas.concat instead.\n",
      "  tmp = tmp.append(pd.Series([str(algorithm).split(' ')[0].split('.')[-1]], index=['Algorithm']))\n"
     ]
    },
    {
     "name": "stdout",
     "output_type": "stream",
     "text": [
      "Done:  <surprise.prediction_algorithms.matrix_factorization.SVD object at 0x105fdae60> \n",
      "\n",
      "\n",
      "Starting:  <surprise.prediction_algorithms.matrix_factorization.SVDpp object at 0x138c7fc70>\n"
     ]
    },
    {
     "name": "stderr",
     "output_type": "stream",
     "text": [
      "/var/folders/hz/np5gwl5d697cq7qxk89wms9c0000gp/T/ipykernel_17356/881450337.py:16: FutureWarning: The series.append method is deprecated and will be removed from pandas in a future version. Use pandas.concat instead.\n",
      "  tmp = tmp.append(pd.Series([str(algorithm).split(' ')[0].split('.')[-1]], index=['Algorithm']))\n"
     ]
    },
    {
     "name": "stdout",
     "output_type": "stream",
     "text": [
      "Done:  <surprise.prediction_algorithms.matrix_factorization.SVDpp object at 0x138c7fc70> \n",
      "\n",
      "\n",
      "Starting:  <surprise.prediction_algorithms.slope_one.SlopeOne object at 0x138c7fee0>\n"
     ]
    },
    {
     "name": "stderr",
     "output_type": "stream",
     "text": [
      "/var/folders/hz/np5gwl5d697cq7qxk89wms9c0000gp/T/ipykernel_17356/881450337.py:16: FutureWarning: The series.append method is deprecated and will be removed from pandas in a future version. Use pandas.concat instead.\n",
      "  tmp = tmp.append(pd.Series([str(algorithm).split(' ')[0].split('.')[-1]], index=['Algorithm']))\n"
     ]
    },
    {
     "name": "stdout",
     "output_type": "stream",
     "text": [
      "Done:  <surprise.prediction_algorithms.slope_one.SlopeOne object at 0x138c7fee0> \n",
      "\n",
      "\n",
      "Starting:  <surprise.prediction_algorithms.matrix_factorization.NMF object at 0x12735d2a0>\n"
     ]
    },
    {
     "name": "stderr",
     "output_type": "stream",
     "text": [
      "/var/folders/hz/np5gwl5d697cq7qxk89wms9c0000gp/T/ipykernel_17356/881450337.py:16: FutureWarning: The series.append method is deprecated and will be removed from pandas in a future version. Use pandas.concat instead.\n",
      "  tmp = tmp.append(pd.Series([str(algorithm).split(' ')[0].split('.')[-1]], index=['Algorithm']))\n",
      "/var/folders/hz/np5gwl5d697cq7qxk89wms9c0000gp/T/ipykernel_17356/881450337.py:16: FutureWarning: The series.append method is deprecated and will be removed from pandas in a future version. Use pandas.concat instead.\n",
      "  tmp = tmp.append(pd.Series([str(algorithm).split(' ')[0].split('.')[-1]], index=['Algorithm']))\n"
     ]
    },
    {
     "name": "stdout",
     "output_type": "stream",
     "text": [
      "Done:  <surprise.prediction_algorithms.matrix_factorization.NMF object at 0x12735d2a0> \n",
      "\n",
      "\n",
      "Starting:  <surprise.prediction_algorithms.random_pred.NormalPredictor object at 0x12735fe20>\n",
      "Done:  <surprise.prediction_algorithms.random_pred.NormalPredictor object at 0x12735fe20> \n",
      "\n",
      "\n",
      "Starting:  <surprise.prediction_algorithms.knns.KNNBaseline object at 0x12735eb00>\n",
      "Estimating biases using als...\n",
      "Computing the msd similarity matrix...\n",
      "Done computing similarity matrix.\n",
      "Estimating biases using als...\n",
      "Computing the msd similarity matrix...\n",
      "Done computing similarity matrix.\n",
      "Estimating biases using als...\n",
      "Computing the msd similarity matrix...\n",
      "Done computing similarity matrix.\n",
      "Estimating biases using als...\n",
      "Computing the msd similarity matrix...\n",
      "Done computing similarity matrix.\n",
      "Estimating biases using als...\n",
      "Computing the msd similarity matrix...\n",
      "Done computing similarity matrix.\n",
      "Done:  <surprise.prediction_algorithms.knns.KNNBaseline object at 0x12735eb00> \n",
      "\n",
      "\n",
      "Starting:  <surprise.prediction_algorithms.knns.KNNBasic object at 0x12735e500>\n",
      "Computing the msd similarity matrix...\n"
     ]
    },
    {
     "name": "stderr",
     "output_type": "stream",
     "text": [
      "/var/folders/hz/np5gwl5d697cq7qxk89wms9c0000gp/T/ipykernel_17356/881450337.py:16: FutureWarning: The series.append method is deprecated and will be removed from pandas in a future version. Use pandas.concat instead.\n",
      "  tmp = tmp.append(pd.Series([str(algorithm).split(' ')[0].split('.')[-1]], index=['Algorithm']))\n"
     ]
    },
    {
     "name": "stdout",
     "output_type": "stream",
     "text": [
      "Done computing similarity matrix.\n",
      "Computing the msd similarity matrix...\n",
      "Done computing similarity matrix.\n",
      "Computing the msd similarity matrix...\n",
      "Done computing similarity matrix.\n",
      "Computing the msd similarity matrix...\n",
      "Done computing similarity matrix.\n",
      "Computing the msd similarity matrix...\n",
      "Done computing similarity matrix.\n",
      "Done:  <surprise.prediction_algorithms.knns.KNNBasic object at 0x12735e500> \n",
      "\n",
      "\n",
      "Starting:  <surprise.prediction_algorithms.knns.KNNWithMeans object at 0x12735d0c0>\n",
      "Computing the msd similarity matrix...\n",
      "Done computing similarity matrix.\n"
     ]
    },
    {
     "name": "stderr",
     "output_type": "stream",
     "text": [
      "/var/folders/hz/np5gwl5d697cq7qxk89wms9c0000gp/T/ipykernel_17356/881450337.py:16: FutureWarning: The series.append method is deprecated and will be removed from pandas in a future version. Use pandas.concat instead.\n",
      "  tmp = tmp.append(pd.Series([str(algorithm).split(' ')[0].split('.')[-1]], index=['Algorithm']))\n"
     ]
    },
    {
     "name": "stdout",
     "output_type": "stream",
     "text": [
      "Computing the msd similarity matrix...\n",
      "Done computing similarity matrix.\n",
      "Computing the msd similarity matrix...\n",
      "Done computing similarity matrix.\n",
      "Computing the msd similarity matrix...\n",
      "Done computing similarity matrix.\n",
      "Computing the msd similarity matrix...\n",
      "Done computing similarity matrix.\n",
      "Done:  <surprise.prediction_algorithms.knns.KNNWithMeans object at 0x12735d0c0> \n",
      "\n",
      "\n",
      "Starting:  <surprise.prediction_algorithms.knns.KNNWithZScore object at 0x12735c9a0>\n"
     ]
    },
    {
     "name": "stderr",
     "output_type": "stream",
     "text": [
      "/var/folders/hz/np5gwl5d697cq7qxk89wms9c0000gp/T/ipykernel_17356/881450337.py:16: FutureWarning: The series.append method is deprecated and will be removed from pandas in a future version. Use pandas.concat instead.\n",
      "  tmp = tmp.append(pd.Series([str(algorithm).split(' ')[0].split('.')[-1]], index=['Algorithm']))\n"
     ]
    },
    {
     "name": "stdout",
     "output_type": "stream",
     "text": [
      "Computing the msd similarity matrix...\n",
      "Done computing similarity matrix.\n",
      "Computing the msd similarity matrix...\n",
      "Done computing similarity matrix.\n",
      "Computing the msd similarity matrix...\n",
      "Done computing similarity matrix.\n",
      "Computing the msd similarity matrix...\n",
      "Done computing similarity matrix.\n",
      "Computing the msd similarity matrix...\n",
      "Done computing similarity matrix.\n",
      "Done:  <surprise.prediction_algorithms.knns.KNNWithZScore object at 0x12735c9a0> \n",
      "\n",
      "\n",
      "Starting:  <surprise.prediction_algorithms.baseline_only.BaselineOnly object at 0x12735eb60>\n",
      "Estimating biases using als...\n",
      "Estimating biases using als...\n",
      "Estimating biases using als...\n"
     ]
    },
    {
     "name": "stderr",
     "output_type": "stream",
     "text": [
      "/var/folders/hz/np5gwl5d697cq7qxk89wms9c0000gp/T/ipykernel_17356/881450337.py:16: FutureWarning: The series.append method is deprecated and will be removed from pandas in a future version. Use pandas.concat instead.\n",
      "  tmp = tmp.append(pd.Series([str(algorithm).split(' ')[0].split('.')[-1]], index=['Algorithm']))\n"
     ]
    },
    {
     "name": "stdout",
     "output_type": "stream",
     "text": [
      "Estimating biases using als...\n",
      "Estimating biases using als...\n",
      "Done:  <surprise.prediction_algorithms.baseline_only.BaselineOnly object at 0x12735eb60> \n",
      "\n",
      "\n",
      "Starting:  <surprise.prediction_algorithms.co_clustering.CoClustering object at 0x12735da20>\n"
     ]
    },
    {
     "name": "stderr",
     "output_type": "stream",
     "text": [
      "/var/folders/hz/np5gwl5d697cq7qxk89wms9c0000gp/T/ipykernel_17356/881450337.py:16: FutureWarning: The series.append method is deprecated and will be removed from pandas in a future version. Use pandas.concat instead.\n",
      "  tmp = tmp.append(pd.Series([str(algorithm).split(' ')[0].split('.')[-1]], index=['Algorithm']))\n",
      "/var/folders/hz/np5gwl5d697cq7qxk89wms9c0000gp/T/ipykernel_17356/881450337.py:16: FutureWarning: The series.append method is deprecated and will be removed from pandas in a future version. Use pandas.concat instead.\n",
      "  tmp = tmp.append(pd.Series([str(algorithm).split(' ')[0].split('.')[-1]], index=['Algorithm']))\n"
     ]
    },
    {
     "name": "stdout",
     "output_type": "stream",
     "text": [
      "Done:  <surprise.prediction_algorithms.co_clustering.CoClustering object at 0x12735da20> \n",
      "\n",
      "\n",
      "Starting:  <TfidfLevenshteinAlgorithm.TfidfLevenshteinAlgorithm object at 0x138cd5510>\n",
      "Done:  <TfidfLevenshteinAlgorithm.TfidfLevenshteinAlgorithm object at 0x138cd5510> \n",
      "\n",
      "\n",
      "\n",
      "\tDONE\n",
      "\n"
     ]
    },
    {
     "name": "stderr",
     "output_type": "stream",
     "text": [
      "/var/folders/hz/np5gwl5d697cq7qxk89wms9c0000gp/T/ipykernel_17356/881450337.py:16: FutureWarning: The series.append method is deprecated and will be removed from pandas in a future version. Use pandas.concat instead.\n",
      "  tmp = tmp.append(pd.Series([str(algorithm).split(' ')[0].split('.')[-1]], index=['Algorithm']))\n"
     ]
    }
   ],
   "source": [
    "benchmark = []\n",
    "# Iterate over all algorithms\n",
    "\n",
    "algorithms = [SVD(), SVDpp(), SlopeOne(), NMF(), NormalPredictor(), KNNBaseline(), KNNBasic(), KNNWithMeans(), KNNWithZScore(), BaselineOnly(), CoClustering(), algo_Tfidf]\n",
    "\n",
    "print (\"Attempting: \", str(algorithms), '\\n\\n\\n')\n",
    "\n",
    "for algorithm in algorithms:\n",
    "    print(\"Starting: \" ,str(algorithm))\n",
    "    # Perform cross validation\n",
    "    results = cross_validate(algorithm, data, measures=['RMSE'], cv=5, verbose=False)\n",
    "    # results = cross_validate(algorithm, data, measures=['RMSE','MAE'], cv=3, verbose=False)\n",
    "\n",
    "    # Get results & append algorithm name\n",
    "    tmp = pd.DataFrame.from_dict(results).mean(axis=0)\n",
    "    tmp = tmp.append(pd.Series([str(algorithm).split(' ')[0].split('.')[-1]], index=['Algorithm']))\n",
    "    benchmark.append(tmp)\n",
    "    print(\"Done: \" ,str(algorithm), \"\\n\\n\")\n",
    "\n",
    "print ('\\n\\tDONE\\n')\n"
   ]
  },
  {
   "cell_type": "code",
   "execution_count": 92,
   "metadata": {},
   "outputs": [
    {
     "name": "stdout",
     "output_type": "stream",
     "text": [
      "                              test_rmse  fit_time  test_time\n",
      "Algorithm                                                   \n",
      "TfidfLevenshteinAlgorithm   2301.005882  0.004523   0.018390\n",
      "NormalPredictor             3117.565557  0.006013   0.014326\n",
      "BaselineOnly                1816.274099  0.027506   0.009038\n",
      "SlopeOne                    2298.567805  0.095526   0.011396\n",
      "SVDpp                      43334.578727  0.103163   0.011571\n",
      "SVD                        43334.562524  0.170590   0.013935\n",
      "NMF                         2297.943759  0.447778   0.018099\n",
      "CoClustering                2302.702863  0.813285   0.008845\n",
      "KNNBasic                    2300.780109  2.165938   0.014785\n",
      "KNNBaseline                 1817.084553  2.271427   0.012248\n",
      "KNNWithMeans                2293.997759  2.422793   0.012992\n",
      "KNNWithZScore               2289.266913  3.108731   0.014852\n"
     ]
    }
   ],
   "source": [
    "print(pd.DataFrame(benchmark).set_index('Algorithm').sort_values('fit_time'))"
   ]
  }
 ],
 "metadata": {
  "accelerator": "GPU",
  "colab": {
   "collapsed_sections": [],
   "name": "recommended_system.ipynb",
   "provenance": []
  },
  "kernelspec": {
   "display_name": "Python 3 (ipykernel)",
   "language": "python",
   "name": "python3"
  },
  "language_info": {
   "codemirror_mode": {
    "name": "ipython",
    "version": 3
   },
   "file_extension": ".py",
   "mimetype": "text/x-python",
   "name": "python",
   "nbconvert_exporter": "python",
   "pygments_lexer": "ipython3",
   "version": "3.9.5"
  }
 },
 "nbformat": 4,
 "nbformat_minor": 1
}

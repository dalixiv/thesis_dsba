{
 "cells": [
  {
   "cell_type": "markdown",
   "metadata": {
    "id": "Ot-ZZXIb0cBB"
   },
   "source": [
    "## Imports"
   ]
  },
  {
   "cell_type": "code",
   "execution_count": 296,
   "metadata": {
    "id": "EkJK1p050Ty3"
   },
   "outputs": [],
   "source": [
    "import pandas as pd\n",
    "import numpy as np\n",
    "import torch\n",
    "from pathlib import Path\n",
    "from glob import glob\n",
    "from pandas.api.types import is_numeric_dtype\n",
    "import seaborn as sns\n",
    "\n",
    "from sklearn.cluster import AffinityPropagation\n",
    "from sklearn import metrics\n",
    "\n",
    "from typing import Dict, List\n",
    "from tabulate import tabulate\n",
    "\n",
    "from tqdm.notebook import tqdm\n",
    "import matplotlib.pyplot as plt\n",
    "import plotly.express as px\n",
    "\n",
    "from sklearn.preprocessing import StandardScaler\n",
    "from sklearn.cluster import KMeans\n",
    "from kneed import KneeLocator\n",
    "from sklearn.metrics import silhouette_score\n",
    "from sklearn.metrics import silhouette_samples\n",
    "import matplotlib.cm as cm\n",
    "\n",
    "from datetime import datetime\n",
    "import time\n",
    "\n",
    "from scipy.stats import f_oneway\n",
    "\n",
    "import sqldf\n",
    "\n",
    "import warnings\n",
    "warnings.filterwarnings('ignore')"
   ]
  },
  {
   "cell_type": "markdown",
   "metadata": {
    "id": "XDDGv5BZ0tBr"
   },
   "source": [
    "## Data Reading and Preparation"
   ]
  },
  {
   "cell_type": "markdown",
   "metadata": {
    "id": "IW1Xx2st00UQ"
   },
   "source": [
    "### Read Data"
   ]
  },
  {
   "cell_type": "code",
   "execution_count": 297,
   "metadata": {},
   "outputs": [],
   "source": [
    "data_initial = pd.read_csv('test_data_clust.csv')"
   ]
  },
  {
   "cell_type": "code",
   "execution_count": 298,
   "metadata": {},
   "outputs": [],
   "source": [
    "data_raw = data_initial.copy()"
   ]
  },
  {
   "cell_type": "markdown",
   "metadata": {},
   "source": [
    "##### Normalization"
   ]
  },
  {
   "cell_type": "code",
   "execution_count": 300,
   "metadata": {
    "colab": {
     "base_uri": "https://localhost:8080/",
     "height": 185,
     "referenced_widgets": [
      "07ebd1d134d64f628d6aad55f2ed7d0b",
      "04425b92e10946aeb7d3365a608946ea",
      "c7cfbc29c2f24ce28afc3664118ec5b2",
      "ea57888a78d94fb3934c16a096ad204e",
      "0faec1e0a8b845a19a2a493c8c5f98d8",
      "54348c31f02f44db9ceeaedef8ee057e",
      "769ab5e6b55d4fb2bb9e354ae2503696",
      "3d19e3a3d10c4d4283ebe1af46bbcc26",
      "9d50ab07c7d0444dbc848d7e63a66e2b",
      "cba9ca6281bf4de3bff3d1751b43218a",
      "1062641d693d4c439c5225cd5430e991"
     ]
    },
    "id": "55FSb45SWlcO",
    "outputId": "029751c9-4f5f-428d-af5f-24b3b0187f7b"
   },
   "outputs": [
    {
     "data": {
      "application/vnd.jupyter.widget-view+json": {
       "model_id": "28dca906bd8b4b429aaf0e1ed8d41968",
       "version_major": 2,
       "version_minor": 0
      },
      "text/plain": [
       "  0%|          | 0/36 [00:00<?, ?it/s]"
      ]
     },
     "metadata": {},
     "output_type": "display_data"
    },
    {
     "name": "stdout",
     "output_type": "stream",
     "text": [
      "AvgOrderSumPurchased\n",
      "AvgNumItemsOrderPurchased\n",
      "RevenueClientPurchased\n",
      "PurchasedItems\n",
      "AvgMarginPurchased\n",
      "ДЕТСКОЕ ПИТАНИЕ\n",
      "ЖЕНСКИЕ ШТУЧКИ\n",
      "КАНЦТОВАРЫ, КНИГИ, ДИСКИ\n",
      "КОСМЕТИКА/ГИГИЕНА\n",
      "ОБУВЬ\n",
      "ПОДГУЗНИКИ\n",
      "СОПУТСТВУЮЩИЕ ТОВАРЫ\n",
      "ТЕХНИКА И ТОВАРЫ ДЛЯ ДОМА\n",
      "ТОВАРЫ ДЛЯ ЖИВОТНЫХ\n",
      "ТОВАРЫ ДЛЯ КОРМЛЕНИЯ\n",
      "ИНОЕ\n",
      "FAR EAST\n",
      "NORTH\n",
      "PRIVOLZIE\n",
      "SIBERIA\n",
      "SOUTHERN\n",
      "URAL\n"
     ]
    }
   ],
   "source": [
    "from scipy.stats import norm, shapiro\n",
    "\n",
    "def scaling_column(column):\n",
    "    return (column - column.mean()) / column.std()\n",
    "\n",
    "for col in tqdm(data_raw.columns):\n",
    "    if is_numeric_dtype(data_raw[col]):\n",
    "        shapiro_test = shapiro(data_raw[col])\n",
    "        \n",
    "        if shapiro_test.pvalue > 0.05:\n",
    "            print(col)\n",
    "            data_raw[col] = scaling_column(data_raw[col])\n",
    "        else:\n",
    "            data_raw[col] = scaling_column(np.log(data_raw[col] - data_raw[col].min() + 1))"
   ]
  },
  {
   "cell_type": "code",
   "execution_count": 301,
   "metadata": {
    "colab": {
     "base_uri": "https://localhost:8080/"
    },
    "id": "qiHhnc2v44AL",
    "outputId": "b88a8727-e7ce-45d7-97e4-cfdcd6988d65"
   },
   "outputs": [
    {
     "name": "stdout",
     "output_type": "stream",
     "text": [
      "Founded 1 non numeric elements\n"
     ]
    },
    {
     "data": {
      "text/plain": [
       "client_id    object\n",
       "dtype: object"
      ]
     },
     "execution_count": 301,
     "metadata": {},
     "output_type": "execute_result"
    }
   ],
   "source": [
    "mask = [not is_numeric_dtype(data_raw[c]) for c in data_raw.columns]\n",
    "print(f'Founded {sum(mask)} non numeric elements')\n",
    "data_raw.dtypes[mask]"
   ]
  },
  {
   "cell_type": "code",
   "execution_count": 302,
   "metadata": {},
   "outputs": [],
   "source": [
    "data_raw = data_raw.fillna(0)"
   ]
  },
  {
   "cell_type": "code",
   "execution_count": 303,
   "metadata": {},
   "outputs": [],
   "source": [
    "cols_with_null = []\n",
    "for col in data_raw.columns:\n",
    "    null_count = (data_raw[col].isnull()).sum()\n",
    "    if null_count != 0:\n",
    "        print(f'{col}: {null_count}')\n",
    "        cols_with_null.append(col)"
   ]
  },
  {
   "cell_type": "code",
   "execution_count": 304,
   "metadata": {
    "scrolled": true
   },
   "outputs": [
    {
     "data": {
      "text/html": [
       "<div>\n",
       "<style scoped>\n",
       "    .dataframe tbody tr th:only-of-type {\n",
       "        vertical-align: middle;\n",
       "    }\n",
       "\n",
       "    .dataframe tbody tr th {\n",
       "        vertical-align: top;\n",
       "    }\n",
       "\n",
       "    .dataframe thead th {\n",
       "        text-align: right;\n",
       "    }\n",
       "</style>\n",
       "<table border=\"1\" class=\"dataframe\">\n",
       "  <thead>\n",
       "    <tr style=\"text-align: right;\">\n",
       "      <th></th>\n",
       "      <th>client_id</th>\n",
       "      <th>DistinctCountOrders</th>\n",
       "      <th>AverageNumItemsInOrder</th>\n",
       "      <th>RevenueClient</th>\n",
       "      <th>cnt_purchased_orders</th>\n",
       "      <th>AvgOrderSumPurchased</th>\n",
       "      <th>AvgNumItemsOrderPurchased</th>\n",
       "      <th>RevenueClientPurchased</th>\n",
       "      <th>PurchasedItems</th>\n",
       "      <th>AvgMarginPurchased</th>\n",
       "      <th>...</th>\n",
       "      <th>КГТ</th>\n",
       "      <th>ОДЕЖДА</th>\n",
       "      <th>ППКП</th>\n",
       "      <th>CENTRAL</th>\n",
       "      <th>FAR EAST</th>\n",
       "      <th>NORTH</th>\n",
       "      <th>PRIVOLZIE</th>\n",
       "      <th>SIBERIA</th>\n",
       "      <th>SOUTHERN</th>\n",
       "      <th>URAL</th>\n",
       "    </tr>\n",
       "  </thead>\n",
       "  <tbody>\n",
       "    <tr>\n",
       "      <th>0</th>\n",
       "      <td>55575053-54505550565678</td>\n",
       "      <td>1.951586</td>\n",
       "      <td>-0.050848</td>\n",
       "      <td>1.47425</td>\n",
       "      <td>1.889269</td>\n",
       "      <td>-0.552987</td>\n",
       "      <td>-0.281517</td>\n",
       "      <td>2.195453</td>\n",
       "      <td>2.184868</td>\n",
       "      <td>-0.607808</td>\n",
       "      <td>...</td>\n",
       "      <td>1.759636</td>\n",
       "      <td>1.725272</td>\n",
       "      <td>-0.688958</td>\n",
       "      <td>0.831627</td>\n",
       "      <td>0.0</td>\n",
       "      <td>0.0</td>\n",
       "      <td>0.0</td>\n",
       "      <td>0.0</td>\n",
       "      <td>0.0</td>\n",
       "      <td>0.0</td>\n",
       "    </tr>\n",
       "    <tr>\n",
       "      <th>1</th>\n",
       "      <td>55575048-48524956565375</td>\n",
       "      <td>1.951586</td>\n",
       "      <td>0.489181</td>\n",
       "      <td>1.47425</td>\n",
       "      <td>1.889269</td>\n",
       "      <td>-1.072018</td>\n",
       "      <td>-0.042132</td>\n",
       "      <td>2.195453</td>\n",
       "      <td>2.184868</td>\n",
       "      <td>-0.692900</td>\n",
       "      <td>...</td>\n",
       "      <td>0.003671</td>\n",
       "      <td>0.700661</td>\n",
       "      <td>0.497352</td>\n",
       "      <td>-1.204233</td>\n",
       "      <td>0.0</td>\n",
       "      <td>0.0</td>\n",
       "      <td>0.0</td>\n",
       "      <td>0.0</td>\n",
       "      <td>0.0</td>\n",
       "      <td>0.0</td>\n",
       "    </tr>\n",
       "    <tr>\n",
       "      <th>2</th>\n",
       "      <td>55575555-57524953505673</td>\n",
       "      <td>1.951586</td>\n",
       "      <td>0.070241</td>\n",
       "      <td>1.47425</td>\n",
       "      <td>1.889269</td>\n",
       "      <td>-0.934347</td>\n",
       "      <td>-0.117748</td>\n",
       "      <td>2.195453</td>\n",
       "      <td>2.184868</td>\n",
       "      <td>-0.759326</td>\n",
       "      <td>...</td>\n",
       "      <td>-0.579645</td>\n",
       "      <td>1.882349</td>\n",
       "      <td>-0.747499</td>\n",
       "      <td>0.831627</td>\n",
       "      <td>0.0</td>\n",
       "      <td>0.0</td>\n",
       "      <td>0.0</td>\n",
       "      <td>0.0</td>\n",
       "      <td>0.0</td>\n",
       "      <td>0.0</td>\n",
       "    </tr>\n",
       "    <tr>\n",
       "      <th>3</th>\n",
       "      <td>55574953-50505150484978</td>\n",
       "      <td>1.951586</td>\n",
       "      <td>0.613335</td>\n",
       "      <td>1.47425</td>\n",
       "      <td>1.889269</td>\n",
       "      <td>0.272539</td>\n",
       "      <td>-0.302544</td>\n",
       "      <td>2.195453</td>\n",
       "      <td>2.184868</td>\n",
       "      <td>-0.258357</td>\n",
       "      <td>...</td>\n",
       "      <td>1.759636</td>\n",
       "      <td>1.519565</td>\n",
       "      <td>-0.433776</td>\n",
       "      <td>0.831627</td>\n",
       "      <td>0.0</td>\n",
       "      <td>0.0</td>\n",
       "      <td>0.0</td>\n",
       "      <td>0.0</td>\n",
       "      <td>0.0</td>\n",
       "      <td>0.0</td>\n",
       "    </tr>\n",
       "    <tr>\n",
       "      <th>4</th>\n",
       "      <td>55575054-51515151484875</td>\n",
       "      <td>1.951586</td>\n",
       "      <td>-0.441294</td>\n",
       "      <td>1.47425</td>\n",
       "      <td>1.889269</td>\n",
       "      <td>0.007245</td>\n",
       "      <td>-0.473591</td>\n",
       "      <td>2.195453</td>\n",
       "      <td>2.184868</td>\n",
       "      <td>-0.387509</td>\n",
       "      <td>...</td>\n",
       "      <td>1.759636</td>\n",
       "      <td>0.996064</td>\n",
       "      <td>-0.485987</td>\n",
       "      <td>0.831627</td>\n",
       "      <td>0.0</td>\n",
       "      <td>0.0</td>\n",
       "      <td>0.0</td>\n",
       "      <td>0.0</td>\n",
       "      <td>0.0</td>\n",
       "      <td>0.0</td>\n",
       "    </tr>\n",
       "  </tbody>\n",
       "</table>\n",
       "<p>5 rows × 36 columns</p>\n",
       "</div>"
      ],
      "text/plain": [
       "                 client_id  DistinctCountOrders  AverageNumItemsInOrder  \\\n",
       "0  55575053-54505550565678             1.951586               -0.050848   \n",
       "1  55575048-48524956565375             1.951586                0.489181   \n",
       "2  55575555-57524953505673             1.951586                0.070241   \n",
       "3  55574953-50505150484978             1.951586                0.613335   \n",
       "4  55575054-51515151484875             1.951586               -0.441294   \n",
       "\n",
       "   RevenueClient  cnt_purchased_orders  AvgOrderSumPurchased  \\\n",
       "0        1.47425              1.889269             -0.552987   \n",
       "1        1.47425              1.889269             -1.072018   \n",
       "2        1.47425              1.889269             -0.934347   \n",
       "3        1.47425              1.889269              0.272539   \n",
       "4        1.47425              1.889269              0.007245   \n",
       "\n",
       "   AvgNumItemsOrderPurchased  RevenueClientPurchased  PurchasedItems  \\\n",
       "0                  -0.281517                2.195453        2.184868   \n",
       "1                  -0.042132                2.195453        2.184868   \n",
       "2                  -0.117748                2.195453        2.184868   \n",
       "3                  -0.302544                2.195453        2.184868   \n",
       "4                  -0.473591                2.195453        2.184868   \n",
       "\n",
       "   AvgMarginPurchased  ...       КГТ    ОДЕЖДА      ППКП   CENTRAL  FAR EAST  \\\n",
       "0           -0.607808  ...  1.759636  1.725272 -0.688958  0.831627       0.0   \n",
       "1           -0.692900  ...  0.003671  0.700661  0.497352 -1.204233       0.0   \n",
       "2           -0.759326  ... -0.579645  1.882349 -0.747499  0.831627       0.0   \n",
       "3           -0.258357  ...  1.759636  1.519565 -0.433776  0.831627       0.0   \n",
       "4           -0.387509  ...  1.759636  0.996064 -0.485987  0.831627       0.0   \n",
       "\n",
       "   NORTH  PRIVOLZIE  SIBERIA  SOUTHERN  URAL  \n",
       "0    0.0        0.0      0.0       0.0   0.0  \n",
       "1    0.0        0.0      0.0       0.0   0.0  \n",
       "2    0.0        0.0      0.0       0.0   0.0  \n",
       "3    0.0        0.0      0.0       0.0   0.0  \n",
       "4    0.0        0.0      0.0       0.0   0.0  \n",
       "\n",
       "[5 rows x 36 columns]"
      ]
     },
     "execution_count": 304,
     "metadata": {},
     "output_type": "execute_result"
    }
   ],
   "source": [
    "data = data_raw.drop(cols_with_null, inplace=False, axis=1)\n",
    "data.head(5)"
   ]
  },
  {
   "cell_type": "markdown",
   "metadata": {
    "id": "EufkQwZ_WWI3"
   },
   "source": [
    "## Methods Performance"
   ]
  },
  {
   "cell_type": "code",
   "execution_count": 305,
   "metadata": {
    "id": "wO5Jly6sbGHe"
   },
   "outputs": [],
   "source": [
    "# take a small part of data for Spectral and Hierarchical Clustering as it timeouts with the larger datasets\n",
    "n = 2048 #len(data)\n",
    "X = data.sample(n).copy()\n",
    "X.drop('client_id', axis=1, inplace=True)"
   ]
  },
  {
   "cell_type": "code",
   "execution_count": 306,
   "metadata": {
    "colab": {
     "base_uri": "https://localhost:8080/"
    },
    "id": "Hy8AmF_IVUPS",
    "outputId": "ea22e992-d1da-41d3-ddb3-31895745be3d"
   },
   "outputs": [
    {
     "data": {
      "text/plain": [
       "2048"
      ]
     },
     "execution_count": 306,
     "metadata": {},
     "output_type": "execute_result"
    }
   ],
   "source": [
    "len(X)"
   ]
  },
  {
   "cell_type": "code",
   "execution_count": 307,
   "metadata": {
    "colab": {
     "base_uri": "https://localhost:8080/",
     "height": 331
    },
    "id": "UlMQXizbzBiB",
    "outputId": "dfc707cd-1157-471f-d65a-85b7820eae49"
   },
   "outputs": [
    {
     "data": {
      "text/html": [
       "<div>\n",
       "<style scoped>\n",
       "    .dataframe tbody tr th:only-of-type {\n",
       "        vertical-align: middle;\n",
       "    }\n",
       "\n",
       "    .dataframe tbody tr th {\n",
       "        vertical-align: top;\n",
       "    }\n",
       "\n",
       "    .dataframe thead th {\n",
       "        text-align: right;\n",
       "    }\n",
       "</style>\n",
       "<table border=\"1\" class=\"dataframe\">\n",
       "  <thead>\n",
       "    <tr style=\"text-align: right;\">\n",
       "      <th></th>\n",
       "      <th>DistinctCountOrders</th>\n",
       "      <th>AverageNumItemsInOrder</th>\n",
       "      <th>RevenueClient</th>\n",
       "      <th>cnt_purchased_orders</th>\n",
       "      <th>AvgOrderSumPurchased</th>\n",
       "      <th>AvgNumItemsOrderPurchased</th>\n",
       "      <th>RevenueClientPurchased</th>\n",
       "      <th>PurchasedItems</th>\n",
       "      <th>AvgMarginPurchased</th>\n",
       "      <th>SharePurchasedOrders</th>\n",
       "      <th>...</th>\n",
       "      <th>КГТ</th>\n",
       "      <th>ОДЕЖДА</th>\n",
       "      <th>ППКП</th>\n",
       "      <th>CENTRAL</th>\n",
       "      <th>FAR EAST</th>\n",
       "      <th>NORTH</th>\n",
       "      <th>PRIVOLZIE</th>\n",
       "      <th>SIBERIA</th>\n",
       "      <th>SOUTHERN</th>\n",
       "      <th>URAL</th>\n",
       "    </tr>\n",
       "  </thead>\n",
       "  <tbody>\n",
       "    <tr>\n",
       "      <th>160014</th>\n",
       "      <td>0.762009</td>\n",
       "      <td>0.196598</td>\n",
       "      <td>1.474250</td>\n",
       "      <td>-0.996384</td>\n",
       "      <td>0.000000</td>\n",
       "      <td>0.000000</td>\n",
       "      <td>0.000000</td>\n",
       "      <td>0.000000</td>\n",
       "      <td>0.000000</td>\n",
       "      <td>-0.996999</td>\n",
       "      <td>...</td>\n",
       "      <td>-0.579645</td>\n",
       "      <td>1.882349</td>\n",
       "      <td>-0.770368</td>\n",
       "      <td>0.831627</td>\n",
       "      <td>0.0</td>\n",
       "      <td>0.0</td>\n",
       "      <td>0.0</td>\n",
       "      <td>0.0</td>\n",
       "      <td>0.0</td>\n",
       "      <td>0.0</td>\n",
       "    </tr>\n",
       "    <tr>\n",
       "      <th>4922</th>\n",
       "      <td>1.623907</td>\n",
       "      <td>0.559798</td>\n",
       "      <td>-0.296790</td>\n",
       "      <td>1.889269</td>\n",
       "      <td>-1.012227</td>\n",
       "      <td>0.416015</td>\n",
       "      <td>-0.467513</td>\n",
       "      <td>1.591231</td>\n",
       "      <td>-0.714829</td>\n",
       "      <td>1.178810</td>\n",
       "      <td>...</td>\n",
       "      <td>-0.579645</td>\n",
       "      <td>-0.234794</td>\n",
       "      <td>0.396500</td>\n",
       "      <td>-1.204233</td>\n",
       "      <td>0.0</td>\n",
       "      <td>0.0</td>\n",
       "      <td>0.0</td>\n",
       "      <td>0.0</td>\n",
       "      <td>0.0</td>\n",
       "      <td>0.0</td>\n",
       "    </tr>\n",
       "    <tr>\n",
       "      <th>138210</th>\n",
       "      <td>0.762009</td>\n",
       "      <td>-0.959100</td>\n",
       "      <td>-1.134687</td>\n",
       "      <td>-0.996384</td>\n",
       "      <td>0.000000</td>\n",
       "      <td>0.000000</td>\n",
       "      <td>0.000000</td>\n",
       "      <td>0.000000</td>\n",
       "      <td>0.000000</td>\n",
       "      <td>-0.996999</td>\n",
       "      <td>...</td>\n",
       "      <td>-0.579645</td>\n",
       "      <td>1.882349</td>\n",
       "      <td>-0.770368</td>\n",
       "      <td>0.831627</td>\n",
       "      <td>0.0</td>\n",
       "      <td>0.0</td>\n",
       "      <td>0.0</td>\n",
       "      <td>0.0</td>\n",
       "      <td>0.0</td>\n",
       "      <td>0.0</td>\n",
       "    </tr>\n",
       "    <tr>\n",
       "      <th>33778</th>\n",
       "      <td>-0.711416</td>\n",
       "      <td>-0.959100</td>\n",
       "      <td>1.474250</td>\n",
       "      <td>0.600233</td>\n",
       "      <td>2.197929</td>\n",
       "      <td>-0.797084</td>\n",
       "      <td>2.195453</td>\n",
       "      <td>-0.783315</td>\n",
       "      <td>2.089251</td>\n",
       "      <td>1.178810</td>\n",
       "      <td>...</td>\n",
       "      <td>1.759636</td>\n",
       "      <td>-0.613540</td>\n",
       "      <td>-0.770368</td>\n",
       "      <td>0.831627</td>\n",
       "      <td>0.0</td>\n",
       "      <td>0.0</td>\n",
       "      <td>0.0</td>\n",
       "      <td>0.0</td>\n",
       "      <td>0.0</td>\n",
       "      <td>0.0</td>\n",
       "    </tr>\n",
       "    <tr>\n",
       "      <th>64970</th>\n",
       "      <td>-0.711416</td>\n",
       "      <td>0.196598</td>\n",
       "      <td>0.134457</td>\n",
       "      <td>0.600233</td>\n",
       "      <td>0.247417</td>\n",
       "      <td>0.011649</td>\n",
       "      <td>-0.070430</td>\n",
       "      <td>-0.308406</td>\n",
       "      <td>-0.653213</td>\n",
       "      <td>1.178810</td>\n",
       "      <td>...</td>\n",
       "      <td>-0.579645</td>\n",
       "      <td>-0.613540</td>\n",
       "      <td>1.551599</td>\n",
       "      <td>-1.204233</td>\n",
       "      <td>0.0</td>\n",
       "      <td>0.0</td>\n",
       "      <td>0.0</td>\n",
       "      <td>0.0</td>\n",
       "      <td>0.0</td>\n",
       "      <td>0.0</td>\n",
       "    </tr>\n",
       "  </tbody>\n",
       "</table>\n",
       "<p>5 rows × 35 columns</p>\n",
       "</div>"
      ],
      "text/plain": [
       "        DistinctCountOrders  AverageNumItemsInOrder  RevenueClient  \\\n",
       "160014             0.762009                0.196598       1.474250   \n",
       "4922               1.623907                0.559798      -0.296790   \n",
       "138210             0.762009               -0.959100      -1.134687   \n",
       "33778             -0.711416               -0.959100       1.474250   \n",
       "64970             -0.711416                0.196598       0.134457   \n",
       "\n",
       "        cnt_purchased_orders  AvgOrderSumPurchased  AvgNumItemsOrderPurchased  \\\n",
       "160014             -0.996384              0.000000                   0.000000   \n",
       "4922                1.889269             -1.012227                   0.416015   \n",
       "138210             -0.996384              0.000000                   0.000000   \n",
       "33778               0.600233              2.197929                  -0.797084   \n",
       "64970               0.600233              0.247417                   0.011649   \n",
       "\n",
       "        RevenueClientPurchased  PurchasedItems  AvgMarginPurchased  \\\n",
       "160014                0.000000        0.000000            0.000000   \n",
       "4922                 -0.467513        1.591231           -0.714829   \n",
       "138210                0.000000        0.000000            0.000000   \n",
       "33778                 2.195453       -0.783315            2.089251   \n",
       "64970                -0.070430       -0.308406           -0.653213   \n",
       "\n",
       "        SharePurchasedOrders  ...       КГТ    ОДЕЖДА      ППКП   CENTRAL  \\\n",
       "160014             -0.996999  ... -0.579645  1.882349 -0.770368  0.831627   \n",
       "4922                1.178810  ... -0.579645 -0.234794  0.396500 -1.204233   \n",
       "138210             -0.996999  ... -0.579645  1.882349 -0.770368  0.831627   \n",
       "33778               1.178810  ...  1.759636 -0.613540 -0.770368  0.831627   \n",
       "64970               1.178810  ... -0.579645 -0.613540  1.551599 -1.204233   \n",
       "\n",
       "        FAR EAST  NORTH  PRIVOLZIE  SIBERIA  SOUTHERN  URAL  \n",
       "160014       0.0    0.0        0.0      0.0       0.0   0.0  \n",
       "4922         0.0    0.0        0.0      0.0       0.0   0.0  \n",
       "138210       0.0    0.0        0.0      0.0       0.0   0.0  \n",
       "33778        0.0    0.0        0.0      0.0       0.0   0.0  \n",
       "64970        0.0    0.0        0.0      0.0       0.0   0.0  \n",
       "\n",
       "[5 rows x 35 columns]"
      ]
     },
     "execution_count": 307,
     "metadata": {},
     "output_type": "execute_result"
    }
   ],
   "source": [
    "X.head(5)"
   ]
  },
  {
   "cell_type": "markdown",
   "metadata": {
    "id": "7shdQkDjpTb7"
   },
   "source": [
    "### PostProcessing utils: metrics functions"
   ]
  },
  {
   "cell_type": "code",
   "execution_count": 308,
   "metadata": {
    "id": "UBUJYgRdpS-Q"
   },
   "outputs": [],
   "source": [
    "from sklearn import metrics\n",
    "from termcolor import colored\n",
    "\n",
    "blue_bold = lambda x: colored(f'{x}', 'blue', attrs=['bold'])\n",
    "green_bold = lambda x: colored(f'{x}', 'green', attrs=['bold'])\n",
    "\n",
    "def compute_metrics(X: pd.DataFrame, labels: List, print_metrics: bool = False) -> Dict:\n",
    "    silhouette_score = metrics.silhouette_score(X, labels, metric='euclidean')\n",
    "    calinski_harabasz_score = metrics.calinski_harabasz_score(X, labels)\n",
    "    davies_bouldin_score = metrics.davies_bouldin_score(X, labels)\n",
    "\n",
    "    result = dict(\n",
    "        silhouette_score = silhouette_score,\n",
    "        calinski_harabasz_score = calinski_harabasz_score,\n",
    "        davies_bouldin_score = davies_bouldin_score,\n",
    "    )\n",
    "\n",
    "    if print_metrics:\n",
    "        keys = list(result.keys())\n",
    "        keys.sort()\n",
    "\n",
    "        headers = [blue_bold('metric'), green_bold('value')]\n",
    "        table = [[blue_bold(k), f'{result[k]:0.3f}'] for k in keys]\n",
    "\n",
    "        print(f'number of clusters: {max(labels) + 1}', end='\\n\\n')\n",
    "        print(tabulate(table, headers))\n",
    "\n",
    "    return result\n",
    "\n",
    "\n",
    "def research(method, hyper_params, X, arange_number_of_clusters):\n",
    "\n",
    "    result = []\n",
    "    for number_of_clusters in tqdm(arange_number_of_clusters, desc = f'{method.__class__.__name__}'):\n",
    "\n",
    "        hyper_params['n_clusters'] = number_of_clusters\n",
    "        clustering = method(**hyper_params).fit(X)\n",
    "        labels = clustering.labels_\n",
    "        m = compute_metrics(X, labels, print_metrics=False)\n",
    "\n",
    "        result.append(dict(\n",
    "            metrics = m,\n",
    "            number_of_clusters = number_of_clusters\n",
    "            )\n",
    "        )\n",
    "\n",
    "    return result\n",
    "\n",
    "\n",
    "def plot_metrics_from_n_clusters(result: Dict):\n",
    "\n",
    "    metrics_names = list(result[0]['metrics'].keys())\n",
    "    metrics_names.sort()\n",
    "\n",
    "    fig, axs = plt.subplots(1, len(metrics_names), figsize=(5*len(metrics_names), 5))\n",
    "\n",
    "    for i, m in enumerate(metrics_names):\n",
    "        metric_from_n = [r['metrics'][m] for r in result]\n",
    "        ns = [r['number_of_clusters'] for r in result]\n",
    "\n",
    "        axs[i].plot(ns, metric_from_n, label=f'{m}')\n",
    "        axs[i].grid()\n",
    "        axs[i].legend(loc='best')\n",
    "\n",
    "        axs[i].set_xlabel('number_of_clusters')\n",
    "\n",
    "    plt.show()"
   ]
  },
  {
   "cell_type": "markdown",
   "metadata": {
    "id": "iqbXqnsRolvM"
   },
   "source": [
    "### Spectral clustering"
   ]
  },
  {
   "cell_type": "code",
   "execution_count": 309,
   "metadata": {
    "id": "GZ8rHJ_7oHQ4"
   },
   "outputs": [],
   "source": [
    "from sklearn.cluster import SpectralClustering"
   ]
  },
  {
   "cell_type": "code",
   "execution_count": 310,
   "metadata": {
    "id": "0urOWze4iOdR"
   },
   "outputs": [],
   "source": [
    "hyper_params = {\n",
    "    'n_clusters' : 4,\n",
    "    'assign_labels' : 'kmeans'\n",
    "}"
   ]
  },
  {
   "cell_type": "code",
   "execution_count": 311,
   "metadata": {
    "code_folding": [],
    "colab": {
     "base_uri": "https://localhost:8080/",
     "height": 429
    },
    "id": "58J2PKVMerJc",
    "outputId": "d47e258d-7ab5-4d0d-8c60-988ed57b8e9b"
   },
   "outputs": [],
   "source": [
    "clustering = SpectralClustering(\n",
    "    **hyper_params,\n",
    "    random_state=0).fit(X)\n",
    "\n",
    "labels = clustering.labels_\n",
    "\n",
    "n_clusters_ = hyper_params['n_clusters']"
   ]
  },
  {
   "cell_type": "code",
   "execution_count": 312,
   "metadata": {
    "id": "VL3IgIcIijNr"
   },
   "outputs": [
    {
     "name": "stdout",
     "output_type": "stream",
     "text": [
      "number of clusters: 4\n",
      "\n",
      "metric                     value\n",
      "-----------------------  -------\n",
      "calinski_harabasz_score  270.409\n",
      "davies_bouldin_score       1.97\n",
      "silhouette_score           0.147\n"
     ]
    }
   ],
   "source": [
    "m = compute_metrics(X, labels, print_metrics=True)"
   ]
  },
  {
   "cell_type": "code",
   "execution_count": 313,
   "metadata": {
    "colab": {
     "base_uri": "https://localhost:8080/",
     "height": 171,
     "referenced_widgets": [
      "1486f8bddfa9470fbd1dfeb6bca5af53",
      "6e1f328f45e84bda8a6a97b2d3c021dc",
      "5148a12705a046b68c14ec2b658529a0",
      "b23e99476edc4966acf067ff740cdcbc",
      "0e172406159640af89793328c069c257",
      "210096fa29104efc852acb46f544aada",
      "bd769900f0944e65a2fe353f112ce019",
      "8627060c603a45e88f297fc90378387f",
      "758d1ac1c288450da04d124e17faab57",
      "306614519dd34027a3c613db659676d9",
      "9bbac9c48b46491e8ff282acbdb9237f"
     ]
    },
    "id": "akYI1lMFQiDC",
    "outputId": "8cb333d5-29a4-4a96-9157-94603f88a9b4",
    "scrolled": false
   },
   "outputs": [
    {
     "data": {
      "application/vnd.jupyter.widget-view+json": {
       "model_id": "5b0520be143b4652abdc34176df611a1",
       "version_major": 2,
       "version_minor": 0
      },
      "text/plain": [
       "type:   0%|          | 0/3 [00:00<?, ?it/s]"
      ]
     },
     "metadata": {},
     "output_type": "display_data"
    },
    {
     "data": {
      "image/png": "[encoded data removed]",
      "text/plain": [
       "<Figure size 1080x360 with 3 Axes>"
      ]
     },
     "metadata": {
      "needs_background": "light"
     },
     "output_type": "display_data"
    }
   ],
   "source": [
    "arange_number_of_clusters = [2, 4, 6]\n",
    "metrics_from_n_clusters = research(SpectralClustering, hyper_params, X, arange_number_of_clusters)\n",
    "plot_metrics_from_n_clusters(metrics_from_n_clusters)"
   ]
  },
  {
   "cell_type": "markdown",
   "metadata": {
    "id": "LeNAQkg00WXZ"
   },
   "source": [
    "### Hierarchical clustering"
   ]
  },
  {
   "cell_type": "code",
   "execution_count": 314,
   "metadata": {
    "id": "wBIAB3_dz8E9"
   },
   "outputs": [],
   "source": [
    "from sklearn.cluster import AgglomerativeClustering\n",
    "from scipy.cluster.hierarchy import dendrogram"
   ]
  },
  {
   "cell_type": "code",
   "execution_count": 315,
   "metadata": {},
   "outputs": [],
   "source": [
    "def plot_dendrogram(model, **kwargs):\n",
    "    counts = np.zeros(model.children_.shape[0])\n",
    "    n_samples = len(model.labels_)\n",
    "    for i, merge in enumerate(model.children_):\n",
    "        current_count = 0\n",
    "        for child_idx in merge:\n",
    "            if child_idx < n_samples:\n",
    "                current_count += 1 \n",
    "            else:\n",
    "                current_count += counts[child_idx - n_samples]\n",
    "        counts[i] = current_count\n",
    "\n",
    "    linkage_matrix = np.column_stack(\n",
    "        [model.children_, model.distances_, counts]\n",
    "    ).astype(float)\n",
    "    dendrogram(linkage_matrix, **kwargs)"
   ]
  },
  {
   "cell_type": "code",
   "execution_count": 316,
   "metadata": {},
   "outputs": [],
   "source": [
    "hyper_params = {\n",
    "    'n_clusters' : 8,\n",
    "    'linkage' : 'ward'\n",
    "}"
   ]
  },
  {
   "cell_type": "code",
   "execution_count": 317,
   "metadata": {},
   "outputs": [],
   "source": [
    "X = data.sample(n).copy()\n",
    "X.drop('client_id', axis=1, inplace=True)"
   ]
  },
  {
   "cell_type": "code",
   "execution_count": 318,
   "metadata": {},
   "outputs": [],
   "source": [
    "model = AgglomerativeClustering(distance_threshold= 0, n_clusters= None).fit(X)\n",
    "labels = model.labels_\n",
    "n_clusters_ = hyper_params['n_clusters']"
   ]
  },
  {
   "cell_type": "code",
   "execution_count": 319,
   "metadata": {},
   "outputs": [
    {
     "data": {
      "image/png": "[encoded data removed]",
      "text/plain": [
       "<Figure size 432x288 with 1 Axes>"
      ]
     },
     "metadata": {
      "needs_background": "light"
     },
     "output_type": "display_data"
    }
   ],
   "source": [
    "#plot\n",
    "plt.title(\"Hierarchical Clustering\")\n",
    "plot_dendrogram(model, truncate_mode=\"level\", p=5)\n",
    "plt.xlabel(\"Number of points in node\")\n",
    "plt.show()"
   ]
  },
  {
   "cell_type": "code",
   "execution_count": 320,
   "metadata": {},
   "outputs": [],
   "source": [
    "# compute metrics"
   ]
  },
  {
   "cell_type": "code",
   "execution_count": 321,
   "metadata": {},
   "outputs": [],
   "source": [
    "model = AgglomerativeClustering(**hyper_params).fit(X)\n",
    "labels = model.labels_\n",
    "n_clusters_ = hyper_params['n_clusters']"
   ]
  },
  {
   "cell_type": "code",
   "execution_count": 322,
   "metadata": {
    "colab": {
     "base_uri": "https://localhost:8080/"
    },
    "id": "EYdl1rbg04s2",
    "outputId": "a26e1bc0-3486-4c4d-cdcc-16757883ef86"
   },
   "outputs": [
    {
     "name": "stdout",
     "output_type": "stream",
     "text": [
      "number of clusters: 8\n",
      "\n",
      "metric                     value\n",
      "-----------------------  -------\n",
      "calinski_harabasz_score  334.696\n",
      "davies_bouldin_score       1.517\n",
      "silhouette_score           0.23\n"
     ]
    }
   ],
   "source": [
    "m = compute_metrics(X, labels, print_metrics=True)"
   ]
  },
  {
   "cell_type": "code",
   "execution_count": 323,
   "metadata": {
    "colab": {
     "base_uri": "https://localhost:8080/",
     "height": 367,
     "referenced_widgets": [
      "0dc34c8973b94b55917fdfde5afd6e67",
      "cbe40cf61d8f4c22900e45dce864e112",
      "8b9050dc15ea4bf59f7e0140932c6d75",
      "c3b7b8f3180e4413ac5b3196431765ba",
      "2104a31fe90d48e6bfb0d270a14e42aa",
      "29d2deb8b9ad4045ad4e615053957410",
      "8923d0d0a7354cc88d94cef0651b01a6",
      "049ec479dc34445ba19315febd7fb4a3",
      "6c6a4bc4c36945f89e7321b2911726be",
      "e19a99ac85184a3fbc1ad9a134ebc9d9",
      "f6301fa9b0e44a9ea1ac473372601348"
     ]
    },
    "id": "Mo9v7PyCV0xy",
    "outputId": "e4ebf668-6e93-47e4-e947-48689bb68acd"
   },
   "outputs": [
    {
     "data": {
      "application/vnd.jupyter.widget-view+json": {
       "model_id": "d42b2ed8b4bf4d3b9436d314bbcdd388",
       "version_major": 2,
       "version_minor": 0
      },
      "text/plain": [
       "type:   0%|          | 0/5 [00:00<?, ?it/s]"
      ]
     },
     "metadata": {},
     "output_type": "display_data"
    },
    {
     "data": {
      "image/png": "[encoded data removed]",
      "text/plain": [
       "<Figure size 1080x360 with 3 Axes>"
      ]
     },
     "metadata": {
      "needs_background": "light"
     },
     "output_type": "display_data"
    }
   ],
   "source": [
    "arange_number_of_clusters = [i for i in range(2, 12, 2)]\n",
    "metrics_from_n_clusters = research(AgglomerativeClustering, hyper_params, X, arange_number_of_clusters)\n",
    "plot_metrics_from_n_clusters(metrics_from_n_clusters)"
   ]
  },
  {
   "cell_type": "markdown",
   "metadata": {},
   "source": [
    "## KMeans"
   ]
  },
  {
   "cell_type": "code",
   "execution_count": 324,
   "metadata": {},
   "outputs": [],
   "source": [
    "X = data.copy()\n",
    "\n",
    "id_col = 'client_id'\n",
    "\n",
    "results = pd.DataFrame()\n",
    "results['client_id'] = data[id_col]\n",
    "\n",
    "X.drop('client_id', axis=1, inplace=True)"
   ]
  },
  {
   "cell_type": "code",
   "execution_count": 325,
   "metadata": {},
   "outputs": [],
   "source": [
    "def optimal_number_cluster_kmeans(X, columns, max_number_cluster=10, title=\"elbow method\"):\n",
    "    ss = StandardScaler(with_std=False)\n",
    "    sdf = ss.fit_transform(X)\n",
    "    global distortions\n",
    "    distortions = [] #sse\n",
    "    for i in range(1, max_number_cluster):\n",
    "        km = KMeans(\n",
    "            n_clusters=i, init='random',\n",
    "            n_init=10, max_iter=300,\n",
    "            tol=1e-04, random_state=0)\n",
    "        km.fit(sdf)\n",
    "        distortions.append(km.inertia_)\n",
    "        \n",
    "    kn = KneeLocator(range(1, max_number_cluster), distortions, curve='convex', direction='decreasing')\n",
    "    k = kn.knee\n",
    "    print('Optimal number of clusters: %d' % k)\n",
    "\n",
    "  # plot\n",
    "    plt.plot(range(1, max_number_cluster), distortions, marker='o')\n",
    "    plt.title(title)\n",
    "    plt.vlines(k, plt.ylim()[0], plt.ylim()[1], linestyles='dashed')\n",
    "    plt.xlabel('Number of clusters')\n",
    "    plt.ylabel('Distortion')\n",
    "    plt.show()"
   ]
  },
  {
   "cell_type": "code",
   "execution_count": 326,
   "metadata": {},
   "outputs": [
    {
     "name": "stdout",
     "output_type": "stream",
     "text": [
      "Optimal number of clusters: 4\n"
     ]
    },
    {
     "data": {
      "image/png": "[encoded data removed]",
      "text/plain": [
       "<Figure size 432x288 with 1 Axes>"
      ]
     },
     "metadata": {
      "needs_background": "light"
     },
     "output_type": "display_data"
    }
   ],
   "source": [
    "optimal_number_cluster_kmeans(X, X.columns, 10, \"Kmeans elbow method with optimal number of clusters\")"
   ]
  },
  {
   "cell_type": "code",
   "execution_count": 327,
   "metadata": {},
   "outputs": [],
   "source": [
    "# kmeans\n",
    "kmeans = KMeans(n_clusters=k, random_state=0).fit(X)\n",
    "results['Cluster'] = kmeans.labels_"
   ]
  },
  {
   "cell_type": "code",
   "execution_count": 328,
   "metadata": {},
   "outputs": [],
   "source": [
    "labels = kmeans.labels_"
   ]
  },
  {
   "cell_type": "code",
   "execution_count": 329,
   "metadata": {},
   "outputs": [
    {
     "name": "stdout",
     "output_type": "stream",
     "text": [
      "0    41381\n",
      "1    42044\n",
      "2    42413\n",
      "3    51505\n",
      "Name: Cluster, dtype: int64\n"
     ]
    }
   ],
   "source": [
    "print(results['Cluster'].value_counts().sort_values())"
   ]
  },
  {
   "cell_type": "code",
   "execution_count": 330,
   "metadata": {},
   "outputs": [
    {
     "data": {
      "text/html": [
       "<div>\n",
       "<style scoped>\n",
       "    .dataframe tbody tr th:only-of-type {\n",
       "        vertical-align: middle;\n",
       "    }\n",
       "\n",
       "    .dataframe tbody tr th {\n",
       "        vertical-align: top;\n",
       "    }\n",
       "\n",
       "    .dataframe thead th {\n",
       "        text-align: right;\n",
       "    }\n",
       "</style>\n",
       "<table border=\"1\" class=\"dataframe\">\n",
       "  <thead>\n",
       "    <tr style=\"text-align: right;\">\n",
       "      <th></th>\n",
       "      <th>client_id</th>\n",
       "      <th>Cluster</th>\n",
       "    </tr>\n",
       "  </thead>\n",
       "  <tbody>\n",
       "    <tr>\n",
       "      <th>0</th>\n",
       "      <td>55575053-54505550565678</td>\n",
       "      <td>2</td>\n",
       "    </tr>\n",
       "    <tr>\n",
       "      <th>1</th>\n",
       "      <td>55575048-48524956565375</td>\n",
       "      <td>0</td>\n",
       "    </tr>\n",
       "    <tr>\n",
       "      <th>2</th>\n",
       "      <td>55575555-57524953505673</td>\n",
       "      <td>0</td>\n",
       "    </tr>\n",
       "    <tr>\n",
       "      <th>3</th>\n",
       "      <td>55574953-50505150484978</td>\n",
       "      <td>2</td>\n",
       "    </tr>\n",
       "    <tr>\n",
       "      <th>4</th>\n",
       "      <td>55575054-51515151484875</td>\n",
       "      <td>2</td>\n",
       "    </tr>\n",
       "    <tr>\n",
       "      <th>...</th>\n",
       "      <td>...</td>\n",
       "      <td>...</td>\n",
       "    </tr>\n",
       "    <tr>\n",
       "      <th>177338</th>\n",
       "      <td>55484848-48484848484870</td>\n",
       "      <td>1</td>\n",
       "    </tr>\n",
       "    <tr>\n",
       "      <th>177339</th>\n",
       "      <td>54545548-48484848484860</td>\n",
       "      <td>0</td>\n",
       "    </tr>\n",
       "    <tr>\n",
       "      <th>177340</th>\n",
       "      <td>52575355-48514856495345</td>\n",
       "      <td>1</td>\n",
       "    </tr>\n",
       "    <tr>\n",
       "      <th>177341</th>\n",
       "      <td>52535348-48484848484840</td>\n",
       "      <td>3</td>\n",
       "    </tr>\n",
       "    <tr>\n",
       "      <th>177342</th>\n",
       "      <td>49484949-49494949494911</td>\n",
       "      <td>1</td>\n",
       "    </tr>\n",
       "  </tbody>\n",
       "</table>\n",
       "<p>177343 rows × 2 columns</p>\n",
       "</div>"
      ],
      "text/plain": [
       "                      client_id  Cluster\n",
       "0       55575053-54505550565678        2\n",
       "1       55575048-48524956565375        0\n",
       "2       55575555-57524953505673        0\n",
       "3       55574953-50505150484978        2\n",
       "4       55575054-51515151484875        2\n",
       "...                         ...      ...\n",
       "177338  55484848-48484848484870        1\n",
       "177339  54545548-48484848484860        0\n",
       "177340  52575355-48514856495345        1\n",
       "177341  52535348-48484848484840        3\n",
       "177342  49484949-49494949494911        1\n",
       "\n",
       "[177343 rows x 2 columns]"
      ]
     },
     "execution_count": 330,
     "metadata": {},
     "output_type": "execute_result"
    }
   ],
   "source": [
    "results"
   ]
  },
  {
   "cell_type": "markdown",
   "metadata": {},
   "source": [
    "#### load the data for further usage"
   ]
  },
  {
   "cell_type": "code",
   "execution_count": 269,
   "metadata": {},
   "outputs": [],
   "source": [
    "ress = data.merge(results, on = 'client_id')"
   ]
  },
  {
   "cell_type": "code",
   "execution_count": 332,
   "metadata": {},
   "outputs": [],
   "source": [
    "ress = ress.fillna(0)"
   ]
  },
  {
   "cell_type": "code",
   "execution_count": 333,
   "metadata": {},
   "outputs": [],
   "source": [
    "ress.to_csv('client_base.csv')"
   ]
  },
  {
   "cell_type": "markdown",
   "metadata": {},
   "source": [
    "### Compute metrics"
   ]
  },
  {
   "cell_type": "code",
   "execution_count": 331,
   "metadata": {},
   "outputs": [
    {
     "name": "stdout",
     "output_type": "stream",
     "text": [
      "number of clusters: 4\n",
      "\n",
      "metric                       value\n",
      "-----------------------  ---------\n",
      "calinski_harabasz_score  40017.4\n",
      "davies_bouldin_score         1.606\n",
      "silhouette_score             0.257\n"
     ]
    }
   ],
   "source": [
    "m = compute_metrics(X, labels, print_metrics=True)"
   ]
  },
  {
   "cell_type": "code",
   "execution_count": 270,
   "metadata": {},
   "outputs": [],
   "source": [
    "grouped = results.groupby(\"Cluster\").count()"
   ]
  },
  {
   "cell_type": "code",
   "execution_count": 271,
   "metadata": {},
   "outputs": [
    {
     "data": {
      "application/vnd.plotly.v1+json": {
       "config": {
        "plotlyServerURL": "https://plot.ly"
       },
       "data": [
        {
         "domain": {
          "x": [
           0,
           1
          ],
          "y": [
           0,
           1
          ]
         },
         "hovertemplate": "Cluster=%{label}<br>client_id=%{value}<extra></extra>",
         "labels": [
          0,
          1,
          2,
          3
         ],
         "legendgroup": "",
         "name": "",
         "showlegend": true,
         "type": "pie",
         "values": [
          41381,
          42044,
          42413,
          51505
         ]
        }
       ],
       "layout": {
        "legend": {
         "tracegroupgap": 0
        },
        "template": {
         "data": {
          "bar": [
           {
            "error_x": {
             "color": "#2a3f5f"
            },
            "error_y": {
             "color": "#2a3f5f"
            },
            "marker": {
             "line": {
              "color": "#E5ECF6",
              "width": 0.5
             },
             "pattern": {
              "fillmode": "overlay",
              "size": 10,
              "solidity": 0.2
             }
            },
            "type": "bar"
           }
          ],
          "barpolar": [
           {
            "marker": {
             "line": {
              "color": "#E5ECF6",
              "width": 0.5
             },
             "pattern": {
              "fillmode": "overlay",
              "size": 10,
              "solidity": 0.2
             }
            },
            "type": "barpolar"
           }
          ],
          "carpet": [
           {
            "aaxis": {
             "endlinecolor": "#2a3f5f",
             "gridcolor": "white",
             "linecolor": "white",
             "minorgridcolor": "white",
             "startlinecolor": "#2a3f5f"
            },
            "baxis": {
             "endlinecolor": "#2a3f5f",
             "gridcolor": "white",
             "linecolor": "white",
             "minorgridcolor": "white",
             "startlinecolor": "#2a3f5f"
            },
            "type": "carpet"
           }
          ],
          "choropleth": [
           {
            "colorbar": {
             "outlinewidth": 0,
             "ticks": ""
            },
            "type": "choropleth"
           }
          ],
          "contour": [
           {
            "colorbar": {
             "outlinewidth": 0,
             "ticks": ""
            },
            "colorscale": [
             [
              0,
              "#0d0887"
             ],
             [
              0.1111111111111111,
              "#46039f"
             ],
             [
              0.2222222222222222,
              "#7201a8"
             ],
             [
              0.3333333333333333,
              "#9c179e"
             ],
             [
              0.4444444444444444,
              "#bd3786"
             ],
             [
              0.5555555555555556,
              "#d8576b"
             ],
             [
              0.6666666666666666,
              "#ed7953"
             ],
             [
              0.7777777777777778,
              "#fb9f3a"
             ],
             [
              0.8888888888888888,
              "#fdca26"
             ],
             [
              1,
              "#f0f921"
             ]
            ],
            "type": "contour"
           }
          ],
          "contourcarpet": [
           {
            "colorbar": {
             "outlinewidth": 0,
             "ticks": ""
            },
            "type": "contourcarpet"
           }
          ],
          "heatmap": [
           {
            "colorbar": {
             "outlinewidth": 0,
             "ticks": ""
            },
            "colorscale": [
             [
              0,
              "#0d0887"
             ],
             [
              0.1111111111111111,
              "#46039f"
             ],
             [
              0.2222222222222222,
              "#7201a8"
             ],
             [
              0.3333333333333333,
              "#9c179e"
             ],
             [
              0.4444444444444444,
              "#bd3786"
             ],
             [
              0.5555555555555556,
              "#d8576b"
             ],
             [
              0.6666666666666666,
              "#ed7953"
             ],
             [
              0.7777777777777778,
              "#fb9f3a"
             ],
             [
              0.8888888888888888,
              "#fdca26"
             ],
             [
              1,
              "#f0f921"
             ]
            ],
            "type": "heatmap"
           }
          ],
          "heatmapgl": [
           {
            "colorbar": {
             "outlinewidth": 0,
             "ticks": ""
            },
            "colorscale": [
             [
              0,
              "#0d0887"
             ],
             [
              0.1111111111111111,
              "#46039f"
             ],
             [
              0.2222222222222222,
              "#7201a8"
             ],
             [
              0.3333333333333333,
              "#9c179e"
             ],
             [
              0.4444444444444444,
              "#bd3786"
             ],
             [
              0.5555555555555556,
              "#d8576b"
             ],
             [
              0.6666666666666666,
              "#ed7953"
             ],
             [
              0.7777777777777778,
              "#fb9f3a"
             ],
             [
              0.8888888888888888,
              "#fdca26"
             ],
             [
              1,
              "#f0f921"
             ]
            ],
            "type": "heatmapgl"
           }
          ],
          "histogram": [
           {
            "marker": {
             "pattern": {
              "fillmode": "overlay",
              "size": 10,
              "solidity": 0.2
             }
            },
            "type": "histogram"
           }
          ],
          "histogram2d": [
           {
            "colorbar": {
             "outlinewidth": 0,
             "ticks": ""
            },
            "colorscale": [
             [
              0,
              "#0d0887"
             ],
             [
              0.1111111111111111,
              "#46039f"
             ],
             [
              0.2222222222222222,
              "#7201a8"
             ],
             [
              0.3333333333333333,
              "#9c179e"
             ],
             [
              0.4444444444444444,
              "#bd3786"
             ],
             [
              0.5555555555555556,
              "#d8576b"
             ],
             [
              0.6666666666666666,
              "#ed7953"
             ],
             [
              0.7777777777777778,
              "#fb9f3a"
             ],
             [
              0.8888888888888888,
              "#fdca26"
             ],
             [
              1,
              "#f0f921"
             ]
            ],
            "type": "histogram2d"
           }
          ],
          "histogram2dcontour": [
           {
            "colorbar": {
             "outlinewidth": 0,
             "ticks": ""
            },
            "colorscale": [
             [
              0,
              "#0d0887"
             ],
             [
              0.1111111111111111,
              "#46039f"
             ],
             [
              0.2222222222222222,
              "#7201a8"
             ],
             [
              0.3333333333333333,
              "#9c179e"
             ],
             [
              0.4444444444444444,
              "#bd3786"
             ],
             [
              0.5555555555555556,
              "#d8576b"
             ],
             [
              0.6666666666666666,
              "#ed7953"
             ],
             [
              0.7777777777777778,
              "#fb9f3a"
             ],
             [
              0.8888888888888888,
              "#fdca26"
             ],
             [
              1,
              "#f0f921"
             ]
            ],
            "type": "histogram2dcontour"
           }
          ],
          "mesh3d": [
           {
            "colorbar": {
             "outlinewidth": 0,
             "ticks": ""
            },
            "type": "mesh3d"
           }
          ],
          "parcoords": [
           {
            "line": {
             "colorbar": {
              "outlinewidth": 0,
              "ticks": ""
             }
            },
            "type": "parcoords"
           }
          ],
          "pie": [
           {
            "automargin": true,
            "type": "pie"
           }
          ],
          "scatter": [
           {
            "marker": {
             "colorbar": {
              "outlinewidth": 0,
              "ticks": ""
             }
            },
            "type": "scatter"
           }
          ],
          "scatter3d": [
           {
            "line": {
             "colorbar": {
              "outlinewidth": 0,
              "ticks": ""
             }
            },
            "marker": {
             "colorbar": {
              "outlinewidth": 0,
              "ticks": ""
             }
            },
            "type": "scatter3d"
           }
          ],
          "scattercarpet": [
           {
            "marker": {
             "colorbar": {
              "outlinewidth": 0,
              "ticks": ""
             }
            },
            "type": "scattercarpet"
           }
          ],
          "scattergeo": [
           {
            "marker": {
             "colorbar": {
              "outlinewidth": 0,
              "ticks": ""
             }
            },
            "type": "scattergeo"
           }
          ],
          "scattergl": [
           {
            "marker": {
             "colorbar": {
              "outlinewidth": 0,
              "ticks": ""
             }
            },
            "type": "scattergl"
           }
          ],
          "scattermapbox": [
           {
            "marker": {
             "colorbar": {
              "outlinewidth": 0,
              "ticks": ""
             }
            },
            "type": "scattermapbox"
           }
          ],
          "scatterpolar": [
           {
            "marker": {
             "colorbar": {
              "outlinewidth": 0,
              "ticks": ""
             }
            },
            "type": "scatterpolar"
           }
          ],
          "scatterpolargl": [
           {
            "marker": {
             "colorbar": {
              "outlinewidth": 0,
              "ticks": ""
             }
            },
            "type": "scatterpolargl"
           }
          ],
          "scatterternary": [
           {
            "marker": {
             "colorbar": {
              "outlinewidth": 0,
              "ticks": ""
             }
            },
            "type": "scatterternary"
           }
          ],
          "surface": [
           {
            "colorbar": {
             "outlinewidth": 0,
             "ticks": ""
            },
            "colorscale": [
             [
              0,
              "#0d0887"
             ],
             [
              0.1111111111111111,
              "#46039f"
             ],
             [
              0.2222222222222222,
              "#7201a8"
             ],
             [
              0.3333333333333333,
              "#9c179e"
             ],
             [
              0.4444444444444444,
              "#bd3786"
             ],
             [
              0.5555555555555556,
              "#d8576b"
             ],
             [
              0.6666666666666666,
              "#ed7953"
             ],
             [
              0.7777777777777778,
              "#fb9f3a"
             ],
             [
              0.8888888888888888,
              "#fdca26"
             ],
             [
              1,
              "#f0f921"
             ]
            ],
            "type": "surface"
           }
          ],
          "table": [
           {
            "cells": {
             "fill": {
              "color": "#EBF0F8"
             },
             "line": {
              "color": "white"
             }
            },
            "header": {
             "fill": {
              "color": "#C8D4E3"
             },
             "line": {
              "color": "white"
             }
            },
            "type": "table"
           }
          ]
         },
         "layout": {
          "annotationdefaults": {
           "arrowcolor": "#2a3f5f",
           "arrowhead": 0,
           "arrowwidth": 1
          },
          "autotypenumbers": "strict",
          "coloraxis": {
           "colorbar": {
            "outlinewidth": 0,
            "ticks": ""
           }
          },
          "colorscale": {
           "diverging": [
            [
             0,
             "#8e0152"
            ],
            [
             0.1,
             "#c51b7d"
            ],
            [
             0.2,
             "#de77ae"
            ],
            [
             0.3,
             "#f1b6da"
            ],
            [
             0.4,
             "#fde0ef"
            ],
            [
             0.5,
             "#f7f7f7"
            ],
            [
             0.6,
             "#e6f5d0"
            ],
            [
             0.7,
             "#b8e186"
            ],
            [
             0.8,
             "#7fbc41"
            ],
            [
             0.9,
             "#4d9221"
            ],
            [
             1,
             "#276419"
            ]
           ],
           "sequential": [
            [
             0,
             "#0d0887"
            ],
            [
             0.1111111111111111,
             "#46039f"
            ],
            [
             0.2222222222222222,
             "#7201a8"
            ],
            [
             0.3333333333333333,
             "#9c179e"
            ],
            [
             0.4444444444444444,
             "#bd3786"
            ],
            [
             0.5555555555555556,
             "#d8576b"
            ],
            [
             0.6666666666666666,
             "#ed7953"
            ],
            [
             0.7777777777777778,
             "#fb9f3a"
            ],
            [
             0.8888888888888888,
             "#fdca26"
            ],
            [
             1,
             "#f0f921"
            ]
           ],
           "sequentialminus": [
            [
             0,
             "#0d0887"
            ],
            [
             0.1111111111111111,
             "#46039f"
            ],
            [
             0.2222222222222222,
             "#7201a8"
            ],
            [
             0.3333333333333333,
             "#9c179e"
            ],
            [
             0.4444444444444444,
             "#bd3786"
            ],
            [
             0.5555555555555556,
             "#d8576b"
            ],
            [
             0.6666666666666666,
             "#ed7953"
            ],
            [
             0.7777777777777778,
             "#fb9f3a"
            ],
            [
             0.8888888888888888,
             "#fdca26"
            ],
            [
             1,
             "#f0f921"
            ]
           ]
          },
          "colorway": [
           "#636efa",
           "#EF553B",
           "#00cc96",
           "#ab63fa",
           "#FFA15A",
           "#19d3f3",
           "#FF6692",
           "#B6E880",
           "#FF97FF",
           "#FECB52"
          ],
          "font": {
           "color": "#2a3f5f"
          },
          "geo": {
           "bgcolor": "white",
           "lakecolor": "white",
           "landcolor": "#E5ECF6",
           "showlakes": true,
           "showland": true,
           "subunitcolor": "white"
          },
          "hoverlabel": {
           "align": "left"
          },
          "hovermode": "closest",
          "mapbox": {
           "style": "light"
          },
          "paper_bgcolor": "white",
          "plot_bgcolor": "#E5ECF6",
          "polar": {
           "angularaxis": {
            "gridcolor": "white",
            "linecolor": "white",
            "ticks": ""
           },
           "bgcolor": "#E5ECF6",
           "radialaxis": {
            "gridcolor": "white",
            "linecolor": "white",
            "ticks": ""
           }
          },
          "scene": {
           "xaxis": {
            "backgroundcolor": "#E5ECF6",
            "gridcolor": "white",
            "gridwidth": 2,
            "linecolor": "white",
            "showbackground": true,
            "ticks": "",
            "zerolinecolor": "white"
           },
           "yaxis": {
            "backgroundcolor": "#E5ECF6",
            "gridcolor": "white",
            "gridwidth": 2,
            "linecolor": "white",
            "showbackground": true,
            "ticks": "",
            "zerolinecolor": "white"
           },
           "zaxis": {
            "backgroundcolor": "#E5ECF6",
            "gridcolor": "white",
            "gridwidth": 2,
            "linecolor": "white",
            "showbackground": true,
            "ticks": "",
            "zerolinecolor": "white"
           }
          },
          "shapedefaults": {
           "line": {
            "color": "#2a3f5f"
           }
          },
          "ternary": {
           "aaxis": {
            "gridcolor": "white",
            "linecolor": "white",
            "ticks": ""
           },
           "baxis": {
            "gridcolor": "white",
            "linecolor": "white",
            "ticks": ""
           },
           "bgcolor": "#E5ECF6",
           "caxis": {
            "gridcolor": "white",
            "linecolor": "white",
            "ticks": ""
           }
          },
          "title": {
           "x": 0.05
          },
          "xaxis": {
           "automargin": true,
           "gridcolor": "white",
           "linecolor": "white",
           "ticks": "",
           "title": {
            "standoff": 15
           },
           "zerolinecolor": "white",
           "zerolinewidth": 2
          },
          "yaxis": {
           "automargin": true,
           "gridcolor": "white",
           "linecolor": "white",
           "ticks": "",
           "title": {
            "standoff": 15
           },
           "zerolinecolor": "white",
           "zerolinewidth": 2
          }
         }
        },
        "title": {
         "text": "Count of Client IDs by Cluster"
        }
       }
      },
      "text/html": [
       "<div>                            <div id=\"195d355a-129a-4df2-bf27-88efcbde0a07\" class=\"plotly-graph-div\" style=\"height:525px; width:100%;\"></div>            <script type=\"text/javascript\">                require([\"plotly\"], function(Plotly) {                    window.PLOTLYENV=window.PLOTLYENV || {};                                    if (document.getElementById(\"195d355a-129a-4df2-bf27-88efcbde0a07\")) {                    Plotly.newPlot(                        \"195d355a-129a-4df2-bf27-88efcbde0a07\",                        [{\"domain\":{\"x\":[0.0,1.0],\"y\":[0.0,1.0]},\"hovertemplate\":\"Cluster=%{label}<br>client_id=%{value}<extra></extra>\",\"labels\":[0,1,2,3],\"legendgroup\":\"\",\"name\":\"\",\"showlegend\":true,\"values\":[41381,42044,42413,51505],\"type\":\"pie\"}],                        {\"template\":{\"data\":{\"bar\":[{\"error_x\":{\"color\":\"#2a3f5f\"},\"error_y\":{\"color\":\"#2a3f5f\"},\"marker\":{\"line\":{\"color\":\"#E5ECF6\",\"width\":0.5},\"pattern\":{\"fillmode\":\"overlay\",\"size\":10,\"solidity\":0.2}},\"type\":\"bar\"}],\"barpolar\":[{\"marker\":{\"line\":{\"color\":\"#E5ECF6\",\"width\":0.5},\"pattern\":{\"fillmode\":\"overlay\",\"size\":10,\"solidity\":0.2}},\"type\":\"barpolar\"}],\"carpet\":[{\"aaxis\":{\"endlinecolor\":\"#2a3f5f\",\"gridcolor\":\"white\",\"linecolor\":\"white\",\"minorgridcolor\":\"white\",\"startlinecolor\":\"#2a3f5f\"},\"baxis\":{\"endlinecolor\":\"#2a3f5f\",\"gridcolor\":\"white\",\"linecolor\":\"white\",\"minorgridcolor\":\"white\",\"startlinecolor\":\"#2a3f5f\"},\"type\":\"carpet\"}],\"choropleth\":[{\"colorbar\":{\"outlinewidth\":0,\"ticks\":\"\"},\"type\":\"choropleth\"}],\"contour\":[{\"colorbar\":{\"outlinewidth\":0,\"ticks\":\"\"},\"colorscale\":[[0.0,\"#0d0887\"],[0.1111111111111111,\"#46039f\"],[0.2222222222222222,\"#7201a8\"],[0.3333333333333333,\"#9c179e\"],[0.4444444444444444,\"#bd3786\"],[0.5555555555555556,\"#d8576b\"],[0.6666666666666666,\"#ed7953\"],[0.7777777777777778,\"#fb9f3a\"],[0.8888888888888888,\"#fdca26\"],[1.0,\"#f0f921\"]],\"type\":\"contour\"}],\"contourcarpet\":[{\"colorbar\":{\"outlinewidth\":0,\"ticks\":\"\"},\"type\":\"contourcarpet\"}],\"heatmap\":[{\"colorbar\":{\"outlinewidth\":0,\"ticks\":\"\"},\"colorscale\":[[0.0,\"#0d0887\"],[0.1111111111111111,\"#46039f\"],[0.2222222222222222,\"#7201a8\"],[0.3333333333333333,\"#9c179e\"],[0.4444444444444444,\"#bd3786\"],[0.5555555555555556,\"#d8576b\"],[0.6666666666666666,\"#ed7953\"],[0.7777777777777778,\"#fb9f3a\"],[0.8888888888888888,\"#fdca26\"],[1.0,\"#f0f921\"]],\"type\":\"heatmap\"}],\"heatmapgl\":[{\"colorbar\":{\"outlinewidth\":0,\"ticks\":\"\"},\"colorscale\":[[0.0,\"#0d0887\"],[0.1111111111111111,\"#46039f\"],[0.2222222222222222,\"#7201a8\"],[0.3333333333333333,\"#9c179e\"],[0.4444444444444444,\"#bd3786\"],[0.5555555555555556,\"#d8576b\"],[0.6666666666666666,\"#ed7953\"],[0.7777777777777778,\"#fb9f3a\"],[0.8888888888888888,\"#fdca26\"],[1.0,\"#f0f921\"]],\"type\":\"heatmapgl\"}],\"histogram\":[{\"marker\":{\"pattern\":{\"fillmode\":\"overlay\",\"size\":10,\"solidity\":0.2}},\"type\":\"histogram\"}],\"histogram2d\":[{\"colorbar\":{\"outlinewidth\":0,\"ticks\":\"\"},\"colorscale\":[[0.0,\"#0d0887\"],[0.1111111111111111,\"#46039f\"],[0.2222222222222222,\"#7201a8\"],[0.3333333333333333,\"#9c179e\"],[0.4444444444444444,\"#bd3786\"],[0.5555555555555556,\"#d8576b\"],[0.6666666666666666,\"#ed7953\"],[0.7777777777777778,\"#fb9f3a\"],[0.8888888888888888,\"#fdca26\"],[1.0,\"#f0f921\"]],\"type\":\"histogram2d\"}],\"histogram2dcontour\":[{\"colorbar\":{\"outlinewidth\":0,\"ticks\":\"\"},\"colorscale\":[[0.0,\"#0d0887\"],[0.1111111111111111,\"#46039f\"],[0.2222222222222222,\"#7201a8\"],[0.3333333333333333,\"#9c179e\"],[0.4444444444444444,\"#bd3786\"],[0.5555555555555556,\"#d8576b\"],[0.6666666666666666,\"#ed7953\"],[0.7777777777777778,\"#fb9f3a\"],[0.8888888888888888,\"#fdca26\"],[1.0,\"#f0f921\"]],\"type\":\"histogram2dcontour\"}],\"mesh3d\":[{\"colorbar\":{\"outlinewidth\":0,\"ticks\":\"\"},\"type\":\"mesh3d\"}],\"parcoords\":[{\"line\":{\"colorbar\":{\"outlinewidth\":0,\"ticks\":\"\"}},\"type\":\"parcoords\"}],\"pie\":[{\"automargin\":true,\"type\":\"pie\"}],\"scatter\":[{\"marker\":{\"colorbar\":{\"outlinewidth\":0,\"ticks\":\"\"}},\"type\":\"scatter\"}],\"scatter3d\":[{\"line\":{\"colorbar\":{\"outlinewidth\":0,\"ticks\":\"\"}},\"marker\":{\"colorbar\":{\"outlinewidth\":0,\"ticks\":\"\"}},\"type\":\"scatter3d\"}],\"scattercarpet\":[{\"marker\":{\"colorbar\":{\"outlinewidth\":0,\"ticks\":\"\"}},\"type\":\"scattercarpet\"}],\"scattergeo\":[{\"marker\":{\"colorbar\":{\"outlinewidth\":0,\"ticks\":\"\"}},\"type\":\"scattergeo\"}],\"scattergl\":[{\"marker\":{\"colorbar\":{\"outlinewidth\":0,\"ticks\":\"\"}},\"type\":\"scattergl\"}],\"scattermapbox\":[{\"marker\":{\"colorbar\":{\"outlinewidth\":0,\"ticks\":\"\"}},\"type\":\"scattermapbox\"}],\"scatterpolar\":[{\"marker\":{\"colorbar\":{\"outlinewidth\":0,\"ticks\":\"\"}},\"type\":\"scatterpolar\"}],\"scatterpolargl\":[{\"marker\":{\"colorbar\":{\"outlinewidth\":0,\"ticks\":\"\"}},\"type\":\"scatterpolargl\"}],\"scatterternary\":[{\"marker\":{\"colorbar\":{\"outlinewidth\":0,\"ticks\":\"\"}},\"type\":\"scatterternary\"}],\"surface\":[{\"colorbar\":{\"outlinewidth\":0,\"ticks\":\"\"},\"colorscale\":[[0.0,\"#0d0887\"],[0.1111111111111111,\"#46039f\"],[0.2222222222222222,\"#7201a8\"],[0.3333333333333333,\"#9c179e\"],[0.4444444444444444,\"#bd3786\"],[0.5555555555555556,\"#d8576b\"],[0.6666666666666666,\"#ed7953\"],[0.7777777777777778,\"#fb9f3a\"],[0.8888888888888888,\"#fdca26\"],[1.0,\"#f0f921\"]],\"type\":\"surface\"}],\"table\":[{\"cells\":{\"fill\":{\"color\":\"#EBF0F8\"},\"line\":{\"color\":\"white\"}},\"header\":{\"fill\":{\"color\":\"#C8D4E3\"},\"line\":{\"color\":\"white\"}},\"type\":\"table\"}]},\"layout\":{\"annotationdefaults\":{\"arrowcolor\":\"#2a3f5f\",\"arrowhead\":0,\"arrowwidth\":1},\"autotypenumbers\":\"strict\",\"coloraxis\":{\"colorbar\":{\"outlinewidth\":0,\"ticks\":\"\"}},\"colorscale\":{\"diverging\":[[0,\"#8e0152\"],[0.1,\"#c51b7d\"],[0.2,\"#de77ae\"],[0.3,\"#f1b6da\"],[0.4,\"#fde0ef\"],[0.5,\"#f7f7f7\"],[0.6,\"#e6f5d0\"],[0.7,\"#b8e186\"],[0.8,\"#7fbc41\"],[0.9,\"#4d9221\"],[1,\"#276419\"]],\"sequential\":[[0.0,\"#0d0887\"],[0.1111111111111111,\"#46039f\"],[0.2222222222222222,\"#7201a8\"],[0.3333333333333333,\"#9c179e\"],[0.4444444444444444,\"#bd3786\"],[0.5555555555555556,\"#d8576b\"],[0.6666666666666666,\"#ed7953\"],[0.7777777777777778,\"#fb9f3a\"],[0.8888888888888888,\"#fdca26\"],[1.0,\"#f0f921\"]],\"sequentialminus\":[[0.0,\"#0d0887\"],[0.1111111111111111,\"#46039f\"],[0.2222222222222222,\"#7201a8\"],[0.3333333333333333,\"#9c179e\"],[0.4444444444444444,\"#bd3786\"],[0.5555555555555556,\"#d8576b\"],[0.6666666666666666,\"#ed7953\"],[0.7777777777777778,\"#fb9f3a\"],[0.8888888888888888,\"#fdca26\"],[1.0,\"#f0f921\"]]},\"colorway\":[\"#636efa\",\"#EF553B\",\"#00cc96\",\"#ab63fa\",\"#FFA15A\",\"#19d3f3\",\"#FF6692\",\"#B6E880\",\"#FF97FF\",\"#FECB52\"],\"font\":{\"color\":\"#2a3f5f\"},\"geo\":{\"bgcolor\":\"white\",\"lakecolor\":\"white\",\"landcolor\":\"#E5ECF6\",\"showlakes\":true,\"showland\":true,\"subunitcolor\":\"white\"},\"hoverlabel\":{\"align\":\"left\"},\"hovermode\":\"closest\",\"mapbox\":{\"style\":\"light\"},\"paper_bgcolor\":\"white\",\"plot_bgcolor\":\"#E5ECF6\",\"polar\":{\"angularaxis\":{\"gridcolor\":\"white\",\"linecolor\":\"white\",\"ticks\":\"\"},\"bgcolor\":\"#E5ECF6\",\"radialaxis\":{\"gridcolor\":\"white\",\"linecolor\":\"white\",\"ticks\":\"\"}},\"scene\":{\"xaxis\":{\"backgroundcolor\":\"#E5ECF6\",\"gridcolor\":\"white\",\"gridwidth\":2,\"linecolor\":\"white\",\"showbackground\":true,\"ticks\":\"\",\"zerolinecolor\":\"white\"},\"yaxis\":{\"backgroundcolor\":\"#E5ECF6\",\"gridcolor\":\"white\",\"gridwidth\":2,\"linecolor\":\"white\",\"showbackground\":true,\"ticks\":\"\",\"zerolinecolor\":\"white\"},\"zaxis\":{\"backgroundcolor\":\"#E5ECF6\",\"gridcolor\":\"white\",\"gridwidth\":2,\"linecolor\":\"white\",\"showbackground\":true,\"ticks\":\"\",\"zerolinecolor\":\"white\"}},\"shapedefaults\":{\"line\":{\"color\":\"#2a3f5f\"}},\"ternary\":{\"aaxis\":{\"gridcolor\":\"white\",\"linecolor\":\"white\",\"ticks\":\"\"},\"baxis\":{\"gridcolor\":\"white\",\"linecolor\":\"white\",\"ticks\":\"\"},\"bgcolor\":\"#E5ECF6\",\"caxis\":{\"gridcolor\":\"white\",\"linecolor\":\"white\",\"ticks\":\"\"}},\"title\":{\"x\":0.05},\"xaxis\":{\"automargin\":true,\"gridcolor\":\"white\",\"linecolor\":\"white\",\"ticks\":\"\",\"title\":{\"standoff\":15},\"zerolinecolor\":\"white\",\"zerolinewidth\":2},\"yaxis\":{\"automargin\":true,\"gridcolor\":\"white\",\"linecolor\":\"white\",\"ticks\":\"\",\"title\":{\"standoff\":15},\"zerolinecolor\":\"white\",\"zerolinewidth\":2}}},\"legend\":{\"tracegroupgap\":0},\"title\":{\"text\":\"Count of Client IDs by Cluster\"}},                        {\"responsive\": true}                    ).then(function(){\n",
       "                            \n",
       "var gd = document.getElementById('195d355a-129a-4df2-bf27-88efcbde0a07');\n",
       "var x = new MutationObserver(function (mutations, observer) {{\n",
       "        var display = window.getComputedStyle(gd).display;\n",
       "        if (!display || display === 'none') {{\n",
       "            console.log([gd, 'removed!']);\n",
       "            Plotly.purge(gd);\n",
       "            observer.disconnect();\n",
       "        }}\n",
       "}});\n",
       "\n",
       "// Listen for the removal of the full notebook cells\n",
       "var notebookContainer = gd.closest('#notebook-container');\n",
       "if (notebookContainer) {{\n",
       "    x.observe(notebookContainer, {childList: true});\n",
       "}}\n",
       "\n",
       "// Listen for the clearing of the current output cell\n",
       "var outputEl = gd.closest('.output');\n",
       "if (outputEl) {{\n",
       "    x.observe(outputEl, {childList: true});\n",
       "}}\n",
       "\n",
       "                        })                };                });            </script>        </div>"
      ]
     },
     "metadata": {},
     "output_type": "display_data"
    }
   ],
   "source": [
    "# Plot the pie chart\n",
    "fig = px.pie(grouped, values='client_id', names=grouped.index, title='Count of Client IDs by Cluster')\n",
    "fig.show()"
   ]
  },
  {
   "cell_type": "markdown",
   "metadata": {},
   "source": [
    "### Clusters weights"
   ]
  },
  {
   "cell_type": "code",
   "execution_count": 334,
   "metadata": {},
   "outputs": [],
   "source": [
    "# Get weight of each feature for each cluster\n",
    "cluster_weights = pd.DataFrame(kmeans.cluster_centers_, columns=X.columns)\n",
    "cluster_weights.index.name = 'Cluster'"
   ]
  },
  {
   "cell_type": "code",
   "execution_count": 335,
   "metadata": {},
   "outputs": [
    {
     "data": {
      "text/html": [
       "<div>\n",
       "<style scoped>\n",
       "    .dataframe tbody tr th:only-of-type {\n",
       "        vertical-align: middle;\n",
       "    }\n",
       "\n",
       "    .dataframe tbody tr th {\n",
       "        vertical-align: top;\n",
       "    }\n",
       "\n",
       "    .dataframe thead th {\n",
       "        text-align: right;\n",
       "    }\n",
       "</style>\n",
       "<table border=\"1\" class=\"dataframe\">\n",
       "  <thead>\n",
       "    <tr style=\"text-align: right;\">\n",
       "      <th></th>\n",
       "      <th>DistinctCountOrders</th>\n",
       "      <th>AverageNumItemsInOrder</th>\n",
       "      <th>RevenueClient</th>\n",
       "      <th>cnt_purchased_orders</th>\n",
       "      <th>AvgOrderSumPurchased</th>\n",
       "      <th>AvgNumItemsOrderPurchased</th>\n",
       "      <th>RevenueClientPurchased</th>\n",
       "      <th>PurchasedItems</th>\n",
       "      <th>AvgMarginPurchased</th>\n",
       "      <th>SharePurchasedOrders</th>\n",
       "      <th>...</th>\n",
       "      <th>КГТ</th>\n",
       "      <th>ОДЕЖДА</th>\n",
       "      <th>ППКП</th>\n",
       "      <th>CENTRAL</th>\n",
       "      <th>FAR EAST</th>\n",
       "      <th>NORTH</th>\n",
       "      <th>PRIVOLZIE</th>\n",
       "      <th>SIBERIA</th>\n",
       "      <th>SOUTHERN</th>\n",
       "      <th>URAL</th>\n",
       "    </tr>\n",
       "  </thead>\n",
       "  <tbody>\n",
       "    <tr>\n",
       "      <th>0</th>\n",
       "      <td>0.145031</td>\n",
       "      <td>0.224220</td>\n",
       "      <td>0.230453</td>\n",
       "      <td>-0.193163</td>\n",
       "      <td>-0.212894</td>\n",
       "      <td>0.039840</td>\n",
       "      <td>-0.096193</td>\n",
       "      <td>0.051260</td>\n",
       "      <td>0.082905</td>\n",
       "      <td>-0.298333</td>\n",
       "      <td>...</td>\n",
       "      <td>-1.089789</td>\n",
       "      <td>3.342490</td>\n",
       "      <td>-1.091375</td>\n",
       "      <td>0.177634</td>\n",
       "      <td>0.0</td>\n",
       "      <td>0.0</td>\n",
       "      <td>0.0</td>\n",
       "      <td>0.0</td>\n",
       "      <td>0.0</td>\n",
       "      <td>0.0</td>\n",
       "    </tr>\n",
       "    <tr>\n",
       "      <th>1</th>\n",
       "      <td>0.188976</td>\n",
       "      <td>0.171821</td>\n",
       "      <td>0.233854</td>\n",
       "      <td>0.040448</td>\n",
       "      <td>0.114107</td>\n",
       "      <td>0.076253</td>\n",
       "      <td>0.126995</td>\n",
       "      <td>0.103504</td>\n",
       "      <td>0.098645</td>\n",
       "      <td>-0.043467</td>\n",
       "      <td>...</td>\n",
       "      <td>0.287641</td>\n",
       "      <td>0.285386</td>\n",
       "      <td>0.348289</td>\n",
       "      <td>0.008744</td>\n",
       "      <td>-0.0</td>\n",
       "      <td>-0.0</td>\n",
       "      <td>-0.0</td>\n",
       "      <td>-0.0</td>\n",
       "      <td>-0.0</td>\n",
       "      <td>-0.0</td>\n",
       "    </tr>\n",
       "    <tr>\n",
       "      <th>2</th>\n",
       "      <td>0.014838</td>\n",
       "      <td>-0.125185</td>\n",
       "      <td>0.211412</td>\n",
       "      <td>0.026201</td>\n",
       "      <td>0.150854</td>\n",
       "      <td>-0.059519</td>\n",
       "      <td>0.147106</td>\n",
       "      <td>-0.043282</td>\n",
       "      <td>0.177516</td>\n",
       "      <td>0.020306</td>\n",
       "      <td>...</td>\n",
       "      <td>0.574822</td>\n",
       "      <td>-0.121149</td>\n",
       "      <td>-0.141098</td>\n",
       "      <td>-0.030585</td>\n",
       "      <td>0.0</td>\n",
       "      <td>0.0</td>\n",
       "      <td>0.0</td>\n",
       "      <td>0.0</td>\n",
       "      <td>0.0</td>\n",
       "      <td>0.0</td>\n",
       "    </tr>\n",
       "    <tr>\n",
       "      <th>3</th>\n",
       "      <td>-0.167878</td>\n",
       "      <td>-0.397212</td>\n",
       "      <td>0.188569</td>\n",
       "      <td>-0.060292</td>\n",
       "      <td>0.084815</td>\n",
       "      <td>-0.202648</td>\n",
       "      <td>0.097209</td>\n",
       "      <td>-0.202028</td>\n",
       "      <td>0.249186</td>\n",
       "      <td>0.002939</td>\n",
       "      <td>...</td>\n",
       "      <td>0.425169</td>\n",
       "      <td>0.435089</td>\n",
       "      <td>-1.063977</td>\n",
       "      <td>-0.016232</td>\n",
       "      <td>-0.0</td>\n",
       "      <td>-0.0</td>\n",
       "      <td>-0.0</td>\n",
       "      <td>-0.0</td>\n",
       "      <td>-0.0</td>\n",
       "      <td>-0.0</td>\n",
       "    </tr>\n",
       "  </tbody>\n",
       "</table>\n",
       "<p>4 rows × 35 columns</p>\n",
       "</div>"
      ],
      "text/plain": [
       "   DistinctCountOrders  AverageNumItemsInOrder  RevenueClient  \\\n",
       "0             0.145031                0.224220       0.230453   \n",
       "1             0.188976                0.171821       0.233854   \n",
       "2             0.014838               -0.125185       0.211412   \n",
       "3            -0.167878               -0.397212       0.188569   \n",
       "\n",
       "   cnt_purchased_orders  AvgOrderSumPurchased  AvgNumItemsOrderPurchased  \\\n",
       "0             -0.193163             -0.212894                   0.039840   \n",
       "1              0.040448              0.114107                   0.076253   \n",
       "2              0.026201              0.150854                  -0.059519   \n",
       "3             -0.060292              0.084815                  -0.202648   \n",
       "\n",
       "   RevenueClientPurchased  PurchasedItems  AvgMarginPurchased  \\\n",
       "0               -0.096193        0.051260            0.082905   \n",
       "1                0.126995        0.103504            0.098645   \n",
       "2                0.147106       -0.043282            0.177516   \n",
       "3                0.097209       -0.202028            0.249186   \n",
       "\n",
       "   SharePurchasedOrders  ...       КГТ    ОДЕЖДА      ППКП   CENTRAL  \\\n",
       "0             -0.298333  ... -1.089789  3.342490 -1.091375  0.177634   \n",
       "1             -0.043467  ...  0.287641  0.285386  0.348289  0.008744   \n",
       "2              0.020306  ...  0.574822 -0.121149 -0.141098 -0.030585   \n",
       "3              0.002939  ...  0.425169  0.435089 -1.063977 -0.016232   \n",
       "\n",
       "   FAR EAST  NORTH  PRIVOLZIE  SIBERIA  SOUTHERN  URAL  \n",
       "0       0.0    0.0        0.0      0.0       0.0   0.0  \n",
       "1      -0.0   -0.0       -0.0     -0.0      -0.0  -0.0  \n",
       "2       0.0    0.0        0.0      0.0       0.0   0.0  \n",
       "3      -0.0   -0.0       -0.0     -0.0      -0.0  -0.0  \n",
       "\n",
       "[4 rows x 35 columns]"
      ]
     },
     "execution_count": 335,
     "metadata": {},
     "output_type": "execute_result"
    }
   ],
   "source": [
    "# Calculate feature weights for each cluster\n",
    "cluster_weights = pd.DataFrame(np.zeros((len(kmeans.cluster_centers_), X.shape[1])), columns=X.columns)\n",
    "for i, centroid in enumerate(kmeans.cluster_centers_):\n",
    "    # Calculate the relative weight of each feature for each cluster\n",
    "    cluster_weights.iloc[i, :] = centroid / sum(centroid)\n",
    "\n",
    "# Print results\n",
    "\n",
    "cluster_weights"
   ]
  },
  {
   "cell_type": "code",
   "execution_count": 336,
   "metadata": {},
   "outputs": [],
   "source": [
    "cluster_weights.to_excel('cl_w.xlsx')"
   ]
  },
  {
   "cell_type": "markdown",
   "metadata": {},
   "source": [
    "### Cluster main features"
   ]
  },
  {
   "cell_type": "code",
   "execution_count": 337,
   "metadata": {},
   "outputs": [],
   "source": [
    "res = data_initial.merge(results, on ='client_id')"
   ]
  },
  {
   "cell_type": "code",
   "execution_count": 338,
   "metadata": {},
   "outputs": [
    {
     "name": "stdout",
     "output_type": "stream",
     "text": [
      "<class 'pandas.core.frame.DataFrame'>\n",
      "Int64Index: 177343 entries, 0 to 177342\n",
      "Data columns (total 37 columns):\n",
      " #   Column                     Non-Null Count   Dtype  \n",
      "---  ------                     --------------   -----  \n",
      " 0   client_id                  177343 non-null  object \n",
      " 1   DistinctCountOrders        177343 non-null  float64\n",
      " 2   AverageNumItemsInOrder     177343 non-null  float64\n",
      " 3   RevenueClient              177343 non-null  float64\n",
      " 4   cnt_purchased_orders       177343 non-null  float64\n",
      " 5   AvgOrderSumPurchased       94150 non-null   float64\n",
      " 6   AvgNumItemsOrderPurchased  94150 non-null   float64\n",
      " 7   RevenueClientPurchased     94150 non-null   float64\n",
      " 8   PurchasedItems             94150 non-null   float64\n",
      " 9   AvgMarginPurchased         93895 non-null   float64\n",
      " 10  SharePurchasedOrders       177343 non-null  float64\n",
      " 11  ДЕТСКОЕ ПИТАНИЕ            177343 non-null  float64\n",
      " 12  ЖЕНСКИЕ ШТУЧКИ             177343 non-null  float64\n",
      " 13  ИГРУШКИ                    177343 non-null  float64\n",
      " 14  КАНЦТОВАРЫ, КНИГИ, ДИСКИ   177343 non-null  float64\n",
      " 15  КОСМЕТИКА/ГИГИЕНА          177343 non-null  float64\n",
      " 16  КРУПНОГАБАРИТНЫЙ ТОВАР     177343 non-null  float64\n",
      " 17  ОБУВЬ                      177343 non-null  float64\n",
      " 18  ПОДГУЗНИКИ                 177343 non-null  float64\n",
      " 19  СОПУТСТВУЮЩИЕ ТОВАРЫ       177343 non-null  float64\n",
      " 20  ТЕКСТИЛЬ, ТРИКОТАЖ         177343 non-null  float64\n",
      " 21  ТЕХНИКА И ТОВАРЫ ДЛЯ ДОМА  177343 non-null  float64\n",
      " 22  ТОВАРЫ ДЛЯ ЖИВОТНЫХ        177343 non-null  float64\n",
      " 23  ТОВАРЫ ДЛЯ КОРМЛЕНИЯ       177343 non-null  float64\n",
      " 24  ИГРУШКИ.1                  177343 non-null  float64\n",
      " 25  ИНОЕ                       177343 non-null  float64\n",
      " 26  КГТ                        177343 non-null  float64\n",
      " 27  ОДЕЖДА                     177343 non-null  float64\n",
      " 28  ППКП                       177343 non-null  float64\n",
      " 29  CENTRAL                    177343 non-null  float64\n",
      " 30  FAR EAST                   177343 non-null  float64\n",
      " 31  NORTH                      177343 non-null  float64\n",
      " 32  PRIVOLZIE                  177343 non-null  float64\n",
      " 33  SIBERIA                    177343 non-null  float64\n",
      " 34  SOUTHERN                   177343 non-null  float64\n",
      " 35  URAL                       177343 non-null  float64\n",
      " 36  Cluster                    177343 non-null  int32  \n",
      "dtypes: float64(35), int32(1), object(1)\n",
      "memory usage: 50.7+ MB\n"
     ]
    }
   ],
   "source": [
    "res.info()"
   ]
  },
  {
   "cell_type": "code",
   "execution_count": 345,
   "metadata": {},
   "outputs": [
    {
     "data": {
      "text/html": [
       "<div>\n",
       "<style scoped>\n",
       "    .dataframe tbody tr th:only-of-type {\n",
       "        vertical-align: middle;\n",
       "    }\n",
       "\n",
       "    .dataframe tbody tr th {\n",
       "        vertical-align: top;\n",
       "    }\n",
       "\n",
       "    .dataframe thead th {\n",
       "        text-align: right;\n",
       "    }\n",
       "</style>\n",
       "<table border=\"1\" class=\"dataframe\">\n",
       "  <thead>\n",
       "    <tr style=\"text-align: right;\">\n",
       "      <th></th>\n",
       "      <th>Cluster</th>\n",
       "      <th>avg_pers_child_food</th>\n",
       "      <th>avg_pers_female</th>\n",
       "      <th>avg_pers_toys</th>\n",
       "      <th>avg_pers_office</th>\n",
       "      <th>avg_pers_cosmetics</th>\n",
       "      <th>avg_pers_large</th>\n",
       "      <th>avg_pers_shoes</th>\n",
       "      <th>avg_pers_pampers</th>\n",
       "      <th>avg_pers_additional</th>\n",
       "      <th>avg_pers_textile</th>\n",
       "      <th>avg_pers_for_home</th>\n",
       "      <th>avg_pers_for_animals</th>\n",
       "      <th>avg_pers_for_feeding</th>\n",
       "    </tr>\n",
       "  </thead>\n",
       "  <tbody>\n",
       "    <tr>\n",
       "      <th>0</th>\n",
       "      <td>0</td>\n",
       "      <td>0.0</td>\n",
       "      <td>0.0</td>\n",
       "      <td>3037.251644</td>\n",
       "      <td>0.0</td>\n",
       "      <td>0.0</td>\n",
       "      <td>36.578861</td>\n",
       "      <td>0.0</td>\n",
       "      <td>0.0</td>\n",
       "      <td>0.0</td>\n",
       "      <td>2077.574340</td>\n",
       "      <td>0.0</td>\n",
       "      <td>0.0</td>\n",
       "      <td>0.0</td>\n",
       "    </tr>\n",
       "    <tr>\n",
       "      <th>1</th>\n",
       "      <td>1</td>\n",
       "      <td>0.0</td>\n",
       "      <td>0.0</td>\n",
       "      <td>37413.332520</td>\n",
       "      <td>0.0</td>\n",
       "      <td>0.0</td>\n",
       "      <td>4.496822</td>\n",
       "      <td>0.0</td>\n",
       "      <td>0.0</td>\n",
       "      <td>0.0</td>\n",
       "      <td>38.978119</td>\n",
       "      <td>0.0</td>\n",
       "      <td>0.0</td>\n",
       "      <td>0.0</td>\n",
       "    </tr>\n",
       "    <tr>\n",
       "      <th>2</th>\n",
       "      <td>2</td>\n",
       "      <td>0.0</td>\n",
       "      <td>0.0</td>\n",
       "      <td>3293.730774</td>\n",
       "      <td>0.0</td>\n",
       "      <td>0.0</td>\n",
       "      <td>2069.865625</td>\n",
       "      <td>0.0</td>\n",
       "      <td>0.0</td>\n",
       "      <td>0.0</td>\n",
       "      <td>395.067420</td>\n",
       "      <td>0.0</td>\n",
       "      <td>0.0</td>\n",
       "      <td>0.0</td>\n",
       "    </tr>\n",
       "    <tr>\n",
       "      <th>3</th>\n",
       "      <td>3</td>\n",
       "      <td>0.0</td>\n",
       "      <td>0.0</td>\n",
       "      <td>1903.280789</td>\n",
       "      <td>0.0</td>\n",
       "      <td>0.0</td>\n",
       "      <td>41.528955</td>\n",
       "      <td>0.0</td>\n",
       "      <td>0.0</td>\n",
       "      <td>0.0</td>\n",
       "      <td>238.924795</td>\n",
       "      <td>0.0</td>\n",
       "      <td>0.0</td>\n",
       "      <td>0.0</td>\n",
       "    </tr>\n",
       "  </tbody>\n",
       "</table>\n",
       "</div>"
      ],
      "text/plain": [
       "   Cluster  avg_pers_child_food  avg_pers_female  avg_pers_toys  \\\n",
       "0        0                  0.0              0.0    3037.251644   \n",
       "1        1                  0.0              0.0   37413.332520   \n",
       "2        2                  0.0              0.0    3293.730774   \n",
       "3        3                  0.0              0.0    1903.280789   \n",
       "\n",
       "   avg_pers_office  avg_pers_cosmetics  avg_pers_large  avg_pers_shoes  \\\n",
       "0              0.0                 0.0       36.578861             0.0   \n",
       "1              0.0                 0.0        4.496822             0.0   \n",
       "2              0.0                 0.0     2069.865625             0.0   \n",
       "3              0.0                 0.0       41.528955             0.0   \n",
       "\n",
       "   avg_pers_pampers  avg_pers_additional  avg_pers_textile  avg_pers_for_home  \\\n",
       "0               0.0                  0.0       2077.574340                0.0   \n",
       "1               0.0                  0.0         38.978119                0.0   \n",
       "2               0.0                  0.0        395.067420                0.0   \n",
       "3               0.0                  0.0        238.924795                0.0   \n",
       "\n",
       "   avg_pers_for_animals  avg_pers_for_feeding  \n",
       "0                   0.0                   0.0  \n",
       "1                   0.0                   0.0  \n",
       "2                   0.0                   0.0  \n",
       "3                   0.0                   0.0  "
      ]
     },
     "execution_count": 345,
     "metadata": {},
     "output_type": "execute_result"
    }
   ],
   "source": [
    "que = \"\"\"\n",
    "select \n",
    "    Cluster,\n",
    "    avg(DistinctCountOrders) as avg_DistinctCountOrders,\n",
    "    avg(AverageNumItemsInOrder) as avg_AverageNumItemsInOrder,\n",
    "    avg(RevenueClient) as avg_RevenueClient,\n",
    "    avg(PurchasedItems) as avg_PurchasedItems,\n",
    "    avg(SharePurchasedOrders) as avg_SharePurchasedOrders,\n",
    "    avg(AvgOrderSumPurchased) as avg_AvgOrderSumPurchased,\n",
    "    avg(\"ДЕТСКОЕ ПИТАНИЕ\") as avg_pers_child_food,\n",
    "    avg(\"ЖЕНСКИЕ ШТУЧКИ\") as avg_pers_female,\n",
    "    avg(\"ИГРУШКИ\") as avg_pers_toys,\n",
    "    avg(\"КАНЦТОВАРЫ, КНИГИ, ДИСКИ\") as avg_pers_office,\n",
    "    avg(\"КОСМЕТИКА/ГИГИЕНА\") as avg_pers_cosmetics,\n",
    "    avg(\"КРУПНОГАБАРИТНЫЙ ТОВАР\") as avg_pers_large,\n",
    "    avg(\"ОБУВЬ\") as avg_pers_shoes,\n",
    "    avg(\"ПОДГУЗНИКИ\") as avg_pers_pampers,\n",
    "    avg(\"СОПУТСТВУЮЩИЕ ТОВАРЫ\") as avg_pers_additional,\n",
    "    avg(\"ТЕКСТИЛЬ, ТРИКОТАЖ\") as avg_pers_textile,\n",
    "    avg(\"ТЕХНИКА И ТОВАРЫ ДЛЯ ДОМА\") as avg_pers_for_home,\n",
    "    avg(\"ТОВАРЫ ДЛЯ ЖИВОТНЫХ\") as avg_pers_for_animals,\n",
    "    avg(\"ТОВАРЫ ДЛЯ КОРМЛЕНИЯ\") as avg_pers_for_feeding\n",
    "from res\n",
    "group by 1\n",
    "order by 1\n",
    "\"\"\"\n",
    "piv = sqldf.run(que)\n",
    "piv"
   ]
  },
  {
   "cell_type": "code",
   "execution_count": 346,
   "metadata": {},
   "outputs": [],
   "source": [
    "piv.to_excel('clust_desc_we.xlsx')"
   ]
  },
  {
   "cell_type": "markdown",
   "metadata": {},
   "source": [
    "### TSNE"
   ]
  },
  {
   "cell_type": "code",
   "execution_count": 283,
   "metadata": {},
   "outputs": [],
   "source": [
    "#import tsne\n",
    "from sklearn.manifold import TSNE"
   ]
  },
  {
   "cell_type": "code",
   "execution_count": 284,
   "metadata": {},
   "outputs": [],
   "source": [
    "df = data.copy()"
   ]
  },
  {
   "cell_type": "code",
   "execution_count": 285,
   "metadata": {},
   "outputs": [],
   "source": [
    "df = df.merge(results, on = 'client_id')"
   ]
  },
  {
   "cell_type": "code",
   "execution_count": 287,
   "metadata": {},
   "outputs": [],
   "source": [
    "df_corr = df[[col for col in df.select_dtypes(include='number').columns if df[col].nunique() > 2]]"
   ]
  },
  {
   "cell_type": "code",
   "execution_count": 288,
   "metadata": {},
   "outputs": [],
   "source": [
    "#select only numeric columns with no missing values\n",
    "X_tnse= df_corr.select_dtypes(include='number').dropna(axis=1)\n",
    "#X_tnse = X_tnse[:1000]"
   ]
  },
  {
   "cell_type": "code",
   "execution_count": 289,
   "metadata": {},
   "outputs": [],
   "source": [
    "#tsne\n",
    "tsne = TSNE(n_components=2, random_state=42)\n",
    "tsne_representation = tsne.fit_transform(X_tnse)"
   ]
  },
  {
   "cell_type": "code",
   "execution_count": 290,
   "metadata": {},
   "outputs": [],
   "source": [
    "colors = ['red', 'green', 'blue', 'yellow']"
   ]
  },
  {
   "cell_type": "code",
   "execution_count": 291,
   "metadata": {},
   "outputs": [],
   "source": [
    "X_tnse['Cluster'] = df['Cluster']"
   ]
  },
  {
   "cell_type": "code",
   "execution_count": 293,
   "metadata": {},
   "outputs": [],
   "source": [
    "#pca\n",
    "from sklearn.decomposition import PCA\n",
    "pca = PCA(n_components=2, random_state=42)\n",
    "pca_representation = pca.fit_transform(X_tnse.select_dtypes(include='number').dropna(axis=1))"
   ]
  },
  {
   "cell_type": "code",
   "execution_count": 294,
   "metadata": {},
   "outputs": [
    {
     "data": {
      "image/png": "[encoded data removed]",
      "text/plain": [
       "<Figure size 720x720 with 1 Axes>"
      ]
     },
     "metadata": {
      "needs_background": "light"
     },
     "output_type": "display_data"
    }
   ],
   "source": [
    "#plot\n",
    "ax, fig = plt.subplots(figsize=(10, 10))\n",
    "sns.scatterplot(x=pca_representation[:, 0], y=pca_representation[:, 1], hue=X_tnse['Cluster'], palette = colors)\n",
    "plt.title('PCA projection')\n",
    "#plt.legend(colors.keys(), loc='upper right', title='Cluster')\n",
    "plt.show()"
   ]
  }
 ],
 "metadata": {
  "colab": {
   "collapsed_sections": [
    "7shdQkDjpTb7",
    "iqbXqnsRolvM",
    "LeNAQkg00WXZ",
    "AmUJmsJAOKQD"
   ],
   "provenance": []
  },
  "kernelspec": {
   "display_name": "Python 3 (ipykernel)",
   "language": "python",
   "name": "python3"
  },
  "language_info": {
   "codemirror_mode": {
    "name": "ipython",
    "version": 3
   },
   "file_extension": ".py",
   "mimetype": "text/x-python",
   "name": "python",
   "nbconvert_exporter": "python",
   "pygments_lexer": "ipython3",
   "version": "3.9.5"
  },
  "widgets": {
   "application/vnd.jupyter.widget-state+json": {
    "04425b92e10946aeb7d3365a608946ea": {
     "model_module": "@jupyter-widgets/controls",
     "model_module_version": "1.5.0",
     "model_name": "HTMLModel",
     "state": {
      "_dom_classes": [],
      "_model_module": "@jupyter-widgets/controls",
      "_model_module_version": "1.5.0",
      "_model_name": "HTMLModel",
      "_view_count": null,
      "_view_module": "@jupyter-widgets/controls",
      "_view_module_version": "1.5.0",
      "_view_name": "HTMLView",
      "description": "",
      "description_tooltip": null,
      "layout": "IPY_MODEL_54348c31f02f44db9ceeaedef8ee057e",
      "placeholder": "​",
      "style": "IPY_MODEL_769ab5e6b55d4fb2bb9e354ae2503696",
      "value": "100%"
     }
    },
    "049ec479dc34445ba19315febd7fb4a3": {
     "model_module": "@jupyter-widgets/base",
     "model_module_version": "1.2.0",
     "model_name": "LayoutModel",
     "state": {
      "_model_module": "@jupyter-widgets/base",
      "_model_module_version": "1.2.0",
      "_model_name": "LayoutModel",
      "_view_count": null,
      "_view_module": "@jupyter-widgets/base",
      "_view_module_version": "1.2.0",
      "_view_name": "LayoutView",
      "align_content": null,
      "align_items": null,
      "align_self": null,
      "border": null,
      "bottom": null,
      "display": null,
      "flex": null,
      "flex_flow": null,
      "grid_area": null,
      "grid_auto_columns": null,
      "grid_auto_flow": null,
      "grid_auto_rows": null,
      "grid_column": null,
      "grid_gap": null,
      "grid_row": null,
      "grid_template_areas": null,
      "grid_template_columns": null,
      "grid_template_rows": null,
      "height": null,
      "justify_content": null,
      "justify_items": null,
      "left": null,
      "margin": null,
      "max_height": null,
      "max_width": null,
      "min_height": null,
      "min_width": null,
      "object_fit": null,
      "object_position": null,
      "order": null,
      "overflow": null,
      "overflow_x": null,
      "overflow_y": null,
      "padding": null,
      "right": null,
      "top": null,
      "visibility": null,
      "width": null
     }
    },
    "07ebd1d134d64f628d6aad55f2ed7d0b": {
     "model_module": "@jupyter-widgets/controls",
     "model_module_version": "1.5.0",
     "model_name": "HBoxModel",
     "state": {
      "_dom_classes": [],
      "_model_module": "@jupyter-widgets/controls",
      "_model_module_version": "1.5.0",
      "_model_name": "HBoxModel",
      "_view_count": null,
      "_view_module": "@jupyter-widgets/controls",
      "_view_module_version": "1.5.0",
      "_view_name": "HBoxView",
      "box_style": "",
      "children": [
       "IPY_MODEL_04425b92e10946aeb7d3365a608946ea",
       "IPY_MODEL_c7cfbc29c2f24ce28afc3664118ec5b2",
       "IPY_MODEL_ea57888a78d94fb3934c16a096ad204e"
      ],
      "layout": "IPY_MODEL_0faec1e0a8b845a19a2a493c8c5f98d8"
     }
    },
    "0dc34c8973b94b55917fdfde5afd6e67": {
     "model_module": "@jupyter-widgets/controls",
     "model_module_version": "1.5.0",
     "model_name": "HBoxModel",
     "state": {
      "_dom_classes": [],
      "_model_module": "@jupyter-widgets/controls",
      "_model_module_version": "1.5.0",
      "_model_name": "HBoxModel",
      "_view_count": null,
      "_view_module": "@jupyter-widgets/controls",
      "_view_module_version": "1.5.0",
      "_view_name": "HBoxView",
      "box_style": "",
      "children": [
       "IPY_MODEL_cbe40cf61d8f4c22900e45dce864e112",
       "IPY_MODEL_8b9050dc15ea4bf59f7e0140932c6d75",
       "IPY_MODEL_c3b7b8f3180e4413ac5b3196431765ba"
      ],
      "layout": "IPY_MODEL_2104a31fe90d48e6bfb0d270a14e42aa"
     }
    },
    "0e172406159640af89793328c069c257": {
     "model_module": "@jupyter-widgets/base",
     "model_module_version": "1.2.0",
     "model_name": "LayoutModel",
     "state": {
      "_model_module": "@jupyter-widgets/base",
      "_model_module_version": "1.2.0",
      "_model_name": "LayoutModel",
      "_view_count": null,
      "_view_module": "@jupyter-widgets/base",
      "_view_module_version": "1.2.0",
      "_view_name": "LayoutView",
      "align_content": null,
      "align_items": null,
      "align_self": null,
      "border": null,
      "bottom": null,
      "display": null,
      "flex": null,
      "flex_flow": null,
      "grid_area": null,
      "grid_auto_columns": null,
      "grid_auto_flow": null,
      "grid_auto_rows": null,
      "grid_column": null,
      "grid_gap": null,
      "grid_row": null,
      "grid_template_areas": null,
      "grid_template_columns": null,
      "grid_template_rows": null,
      "height": null,
      "justify_content": null,
      "justify_items": null,
      "left": null,
      "margin": null,
      "max_height": null,
      "max_width": null,
      "min_height": null,
      "min_width": null,
      "object_fit": null,
      "object_position": null,
      "order": null,
      "overflow": null,
      "overflow_x": null,
      "overflow_y": null,
      "padding": null,
      "right": null,
      "top": null,
      "visibility": null,
      "width": null
     }
    },
    "0faec1e0a8b845a19a2a493c8c5f98d8": {
     "model_module": "@jupyter-widgets/base",
     "model_module_version": "1.2.0",
     "model_name": "LayoutModel",
     "state": {
      "_model_module": "@jupyter-widgets/base",
      "_model_module_version": "1.2.0",
      "_model_name": "LayoutModel",
      "_view_count": null,
      "_view_module": "@jupyter-widgets/base",
      "_view_module_version": "1.2.0",
      "_view_name": "LayoutView",
      "align_content": null,
      "align_items": null,
      "align_self": null,
      "border": null,
      "bottom": null,
      "display": null,
      "flex": null,
      "flex_flow": null,
      "grid_area": null,
      "grid_auto_columns": null,
      "grid_auto_flow": null,
      "grid_auto_rows": null,
      "grid_column": null,
      "grid_gap": null,
      "grid_row": null,
      "grid_template_areas": null,
      "grid_template_columns": null,
      "grid_template_rows": null,
      "height": null,
      "justify_content": null,
      "justify_items": null,
      "left": null,
      "margin": null,
      "max_height": null,
      "max_width": null,
      "min_height": null,
      "min_width": null,
      "object_fit": null,
      "object_position": null,
      "order": null,
      "overflow": null,
      "overflow_x": null,
      "overflow_y": null,
      "padding": null,
      "right": null,
      "top": null,
      "visibility": null,
      "width": null
     }
    },
    "1062641d693d4c439c5225cd5430e991": {
     "model_module": "@jupyter-widgets/controls",
     "model_module_version": "1.5.0",
     "model_name": "DescriptionStyleModel",
     "state": {
      "_model_module": "@jupyter-widgets/controls",
      "_model_module_version": "1.5.0",
      "_model_name": "DescriptionStyleModel",
      "_view_count": null,
      "_view_module": "@jupyter-widgets/base",
      "_view_module_version": "1.2.0",
      "_view_name": "StyleView",
      "description_width": ""
     }
    },
    "1486f8bddfa9470fbd1dfeb6bca5af53": {
     "model_module": "@jupyter-widgets/controls",
     "model_module_version": "1.5.0",
     "model_name": "HBoxModel",
     "state": {
      "_dom_classes": [],
      "_model_module": "@jupyter-widgets/controls",
      "_model_module_version": "1.5.0",
      "_model_name": "HBoxModel",
      "_view_count": null,
      "_view_module": "@jupyter-widgets/controls",
      "_view_module_version": "1.5.0",
      "_view_name": "HBoxView",
      "box_style": "",
      "children": [
       "IPY_MODEL_6e1f328f45e84bda8a6a97b2d3c021dc",
       "IPY_MODEL_5148a12705a046b68c14ec2b658529a0",
       "IPY_MODEL_b23e99476edc4966acf067ff740cdcbc"
      ],
      "layout": "IPY_MODEL_0e172406159640af89793328c069c257"
     }
    },
    "210096fa29104efc852acb46f544aada": {
     "model_module": "@jupyter-widgets/base",
     "model_module_version": "1.2.0",
     "model_name": "LayoutModel",
     "state": {
      "_model_module": "@jupyter-widgets/base",
      "_model_module_version": "1.2.0",
      "_model_name": "LayoutModel",
      "_view_count": null,
      "_view_module": "@jupyter-widgets/base",
      "_view_module_version": "1.2.0",
      "_view_name": "LayoutView",
      "align_content": null,
      "align_items": null,
      "align_self": null,
      "border": null,
      "bottom": null,
      "display": null,
      "flex": null,
      "flex_flow": null,
      "grid_area": null,
      "grid_auto_columns": null,
      "grid_auto_flow": null,
      "grid_auto_rows": null,
      "grid_column": null,
      "grid_gap": null,
      "grid_row": null,
      "grid_template_areas": null,
      "grid_template_columns": null,
      "grid_template_rows": null,
      "height": null,
      "justify_content": null,
      "justify_items": null,
      "left": null,
      "margin": null,
      "max_height": null,
      "max_width": null,
      "min_height": null,
      "min_width": null,
      "object_fit": null,
      "object_position": null,
      "order": null,
      "overflow": null,
      "overflow_x": null,
      "overflow_y": null,
      "padding": null,
      "right": null,
      "top": null,
      "visibility": null,
      "width": null
     }
    },
    "2104a31fe90d48e6bfb0d270a14e42aa": {
     "model_module": "@jupyter-widgets/base",
     "model_module_version": "1.2.0",
     "model_name": "LayoutModel",
     "state": {
      "_model_module": "@jupyter-widgets/base",
      "_model_module_version": "1.2.0",
      "_model_name": "LayoutModel",
      "_view_count": null,
      "_view_module": "@jupyter-widgets/base",
      "_view_module_version": "1.2.0",
      "_view_name": "LayoutView",
      "align_content": null,
      "align_items": null,
      "align_self": null,
      "border": null,
      "bottom": null,
      "display": null,
      "flex": null,
      "flex_flow": null,
      "grid_area": null,
      "grid_auto_columns": null,
      "grid_auto_flow": null,
      "grid_auto_rows": null,
      "grid_column": null,
      "grid_gap": null,
      "grid_row": null,
      "grid_template_areas": null,
      "grid_template_columns": null,
      "grid_template_rows": null,
      "height": null,
      "justify_content": null,
      "justify_items": null,
      "left": null,
      "margin": null,
      "max_height": null,
      "max_width": null,
      "min_height": null,
      "min_width": null,
      "object_fit": null,
      "object_position": null,
      "order": null,
      "overflow": null,
      "overflow_x": null,
      "overflow_y": null,
      "padding": null,
      "right": null,
      "top": null,
      "visibility": null,
      "width": null
     }
    },
    "2502889f03f54ca686a4aa0d9e7a1458": {
     "model_module": "@jupyter-widgets/base",
     "model_module_version": "1.2.0",
     "model_name": "LayoutModel",
     "state": {
      "_model_module": "@jupyter-widgets/base",
      "_model_module_version": "1.2.0",
      "_model_name": "LayoutModel",
      "_view_count": null,
      "_view_module": "@jupyter-widgets/base",
      "_view_module_version": "1.2.0",
      "_view_name": "LayoutView",
      "align_content": null,
      "align_items": null,
      "align_self": null,
      "border": null,
      "bottom": null,
      "display": null,
      "flex": null,
      "flex_flow": null,
      "grid_area": null,
      "grid_auto_columns": null,
      "grid_auto_flow": null,
      "grid_auto_rows": null,
      "grid_column": null,
      "grid_gap": null,
      "grid_row": null,
      "grid_template_areas": null,
      "grid_template_columns": null,
      "grid_template_rows": null,
      "height": null,
      "justify_content": null,
      "justify_items": null,
      "left": null,
      "margin": null,
      "max_height": null,
      "max_width": null,
      "min_height": null,
      "min_width": null,
      "object_fit": null,
      "object_position": null,
      "order": null,
      "overflow": null,
      "overflow_x": null,
      "overflow_y": null,
      "padding": null,
      "right": null,
      "top": null,
      "visibility": null,
      "width": null
     }
    },
    "29d2deb8b9ad4045ad4e615053957410": {
     "model_module": "@jupyter-widgets/base",
     "model_module_version": "1.2.0",
     "model_name": "LayoutModel",
     "state": {
      "_model_module": "@jupyter-widgets/base",
      "_model_module_version": "1.2.0",
      "_model_name": "LayoutModel",
      "_view_count": null,
      "_view_module": "@jupyter-widgets/base",
      "_view_module_version": "1.2.0",
      "_view_name": "LayoutView",
      "align_content": null,
      "align_items": null,
      "align_self": null,
      "border": null,
      "bottom": null,
      "display": null,
      "flex": null,
      "flex_flow": null,
      "grid_area": null,
      "grid_auto_columns": null,
      "grid_auto_flow": null,
      "grid_auto_rows": null,
      "grid_column": null,
      "grid_gap": null,
      "grid_row": null,
      "grid_template_areas": null,
      "grid_template_columns": null,
      "grid_template_rows": null,
      "height": null,
      "justify_content": null,
      "justify_items": null,
      "left": null,
      "margin": null,
      "max_height": null,
      "max_width": null,
      "min_height": null,
      "min_width": null,
      "object_fit": null,
      "object_position": null,
      "order": null,
      "overflow": null,
      "overflow_x": null,
      "overflow_y": null,
      "padding": null,
      "right": null,
      "top": null,
      "visibility": null,
      "width": null
     }
    },
    "306614519dd34027a3c613db659676d9": {
     "model_module": "@jupyter-widgets/base",
     "model_module_version": "1.2.0",
     "model_name": "LayoutModel",
     "state": {
      "_model_module": "@jupyter-widgets/base",
      "_model_module_version": "1.2.0",
      "_model_name": "LayoutModel",
      "_view_count": null,
      "_view_module": "@jupyter-widgets/base",
      "_view_module_version": "1.2.0",
      "_view_name": "LayoutView",
      "align_content": null,
      "align_items": null,
      "align_self": null,
      "border": null,
      "bottom": null,
      "display": null,
      "flex": null,
      "flex_flow": null,
      "grid_area": null,
      "grid_auto_columns": null,
      "grid_auto_flow": null,
      "grid_auto_rows": null,
      "grid_column": null,
      "grid_gap": null,
      "grid_row": null,
      "grid_template_areas": null,
      "grid_template_columns": null,
      "grid_template_rows": null,
      "height": null,
      "justify_content": null,
      "justify_items": null,
      "left": null,
      "margin": null,
      "max_height": null,
      "max_width": null,
      "min_height": null,
      "min_width": null,
      "object_fit": null,
      "object_position": null,
      "order": null,
      "overflow": null,
      "overflow_x": null,
      "overflow_y": null,
      "padding": null,
      "right": null,
      "top": null,
      "visibility": null,
      "width": null
     }
    },
    "312174df7a0947a0927a4e0bced050ed": {
     "model_module": "@jupyter-widgets/controls",
     "model_module_version": "1.5.0",
     "model_name": "DescriptionStyleModel",
     "state": {
      "_model_module": "@jupyter-widgets/controls",
      "_model_module_version": "1.5.0",
      "_model_name": "DescriptionStyleModel",
      "_view_count": null,
      "_view_module": "@jupyter-widgets/base",
      "_view_module_version": "1.2.0",
      "_view_name": "StyleView",
      "description_width": ""
     }
    },
    "393733b7bc16448aa30aeba34a5de468": {
     "model_module": "@jupyter-widgets/controls",
     "model_module_version": "1.5.0",
     "model_name": "HTMLModel",
     "state": {
      "_dom_classes": [],
      "_model_module": "@jupyter-widgets/controls",
      "_model_module_version": "1.5.0",
      "_model_name": "HTMLModel",
      "_view_count": null,
      "_view_module": "@jupyter-widgets/controls",
      "_view_module_version": "1.5.0",
      "_view_name": "HTMLView",
      "description": "",
      "description_tooltip": null,
      "layout": "IPY_MODEL_bf4358f368704c659fe27c29974c18f2",
      "placeholder": "​",
      "style": "IPY_MODEL_312174df7a0947a0927a4e0bced050ed",
      "value": " 5/5 [00:01&lt;00:00,  4.32it/s]"
     }
    },
    "3d19e3a3d10c4d4283ebe1af46bbcc26": {
     "model_module": "@jupyter-widgets/base",
     "model_module_version": "1.2.0",
     "model_name": "LayoutModel",
     "state": {
      "_model_module": "@jupyter-widgets/base",
      "_model_module_version": "1.2.0",
      "_model_name": "LayoutModel",
      "_view_count": null,
      "_view_module": "@jupyter-widgets/base",
      "_view_module_version": "1.2.0",
      "_view_name": "LayoutView",
      "align_content": null,
      "align_items": null,
      "align_self": null,
      "border": null,
      "bottom": null,
      "display": null,
      "flex": null,
      "flex_flow": null,
      "grid_area": null,
      "grid_auto_columns": null,
      "grid_auto_flow": null,
      "grid_auto_rows": null,
      "grid_column": null,
      "grid_gap": null,
      "grid_row": null,
      "grid_template_areas": null,
      "grid_template_columns": null,
      "grid_template_rows": null,
      "height": null,
      "justify_content": null,
      "justify_items": null,
      "left": null,
      "margin": null,
      "max_height": null,
      "max_width": null,
      "min_height": null,
      "min_width": null,
      "object_fit": null,
      "object_position": null,
      "order": null,
      "overflow": null,
      "overflow_x": null,
      "overflow_y": null,
      "padding": null,
      "right": null,
      "top": null,
      "visibility": null,
      "width": null
     }
    },
    "4b9cab537d05488aa1ef45f0e97cc197": {
     "model_module": "@jupyter-widgets/controls",
     "model_module_version": "1.5.0",
     "model_name": "DescriptionStyleModel",
     "state": {
      "_model_module": "@jupyter-widgets/controls",
      "_model_module_version": "1.5.0",
      "_model_name": "DescriptionStyleModel",
      "_view_count": null,
      "_view_module": "@jupyter-widgets/base",
      "_view_module_version": "1.2.0",
      "_view_name": "StyleView",
      "description_width": ""
     }
    },
    "4d42ba48c7ac4f8cb343b3a13fa4e6d6": {
     "model_module": "@jupyter-widgets/controls",
     "model_module_version": "1.5.0",
     "model_name": "ProgressStyleModel",
     "state": {
      "_model_module": "@jupyter-widgets/controls",
      "_model_module_version": "1.5.0",
      "_model_name": "ProgressStyleModel",
      "_view_count": null,
      "_view_module": "@jupyter-widgets/base",
      "_view_module_version": "1.2.0",
      "_view_name": "StyleView",
      "bar_color": null,
      "description_width": ""
     }
    },
    "5148a12705a046b68c14ec2b658529a0": {
     "model_module": "@jupyter-widgets/controls",
     "model_module_version": "1.5.0",
     "model_name": "FloatProgressModel",
     "state": {
      "_dom_classes": [],
      "_model_module": "@jupyter-widgets/controls",
      "_model_module_version": "1.5.0",
      "_model_name": "FloatProgressModel",
      "_view_count": null,
      "_view_module": "@jupyter-widgets/controls",
      "_view_module_version": "1.5.0",
      "_view_name": "ProgressView",
      "bar_style": "success",
      "description": "",
      "description_tooltip": null,
      "layout": "IPY_MODEL_8627060c603a45e88f297fc90378387f",
      "max": 3,
      "min": 0,
      "orientation": "horizontal",
      "style": "IPY_MODEL_758d1ac1c288450da04d124e17faab57",
      "value": 3
     }
    },
    "54348c31f02f44db9ceeaedef8ee057e": {
     "model_module": "@jupyter-widgets/base",
     "model_module_version": "1.2.0",
     "model_name": "LayoutModel",
     "state": {
      "_model_module": "@jupyter-widgets/base",
      "_model_module_version": "1.2.0",
      "_model_name": "LayoutModel",
      "_view_count": null,
      "_view_module": "@jupyter-widgets/base",
      "_view_module_version": "1.2.0",
      "_view_name": "LayoutView",
      "align_content": null,
      "align_items": null,
      "align_self": null,
      "border": null,
      "bottom": null,
      "display": null,
      "flex": null,
      "flex_flow": null,
      "grid_area": null,
      "grid_auto_columns": null,
      "grid_auto_flow": null,
      "grid_auto_rows": null,
      "grid_column": null,
      "grid_gap": null,
      "grid_row": null,
      "grid_template_areas": null,
      "grid_template_columns": null,
      "grid_template_rows": null,
      "height": null,
      "justify_content": null,
      "justify_items": null,
      "left": null,
      "margin": null,
      "max_height": null,
      "max_width": null,
      "min_height": null,
      "min_width": null,
      "object_fit": null,
      "object_position": null,
      "order": null,
      "overflow": null,
      "overflow_x": null,
      "overflow_y": null,
      "padding": null,
      "right": null,
      "top": null,
      "visibility": null,
      "width": null
     }
    },
    "5df94447815547d9974dd82f6bf096c0": {
     "model_module": "@jupyter-widgets/base",
     "model_module_version": "1.2.0",
     "model_name": "LayoutModel",
     "state": {
      "_model_module": "@jupyter-widgets/base",
      "_model_module_version": "1.2.0",
      "_model_name": "LayoutModel",
      "_view_count": null,
      "_view_module": "@jupyter-widgets/base",
      "_view_module_version": "1.2.0",
      "_view_name": "LayoutView",
      "align_content": null,
      "align_items": null,
      "align_self": null,
      "border": null,
      "bottom": null,
      "display": null,
      "flex": null,
      "flex_flow": null,
      "grid_area": null,
      "grid_auto_columns": null,
      "grid_auto_flow": null,
      "grid_auto_rows": null,
      "grid_column": null,
      "grid_gap": null,
      "grid_row": null,
      "grid_template_areas": null,
      "grid_template_columns": null,
      "grid_template_rows": null,
      "height": null,
      "justify_content": null,
      "justify_items": null,
      "left": null,
      "margin": null,
      "max_height": null,
      "max_width": null,
      "min_height": null,
      "min_width": null,
      "object_fit": null,
      "object_position": null,
      "order": null,
      "overflow": null,
      "overflow_x": null,
      "overflow_y": null,
      "padding": null,
      "right": null,
      "top": null,
      "visibility": null,
      "width": null
     }
    },
    "5ebc5254c8264eb5876f0c896953ed1d": {
     "model_module": "@jupyter-widgets/base",
     "model_module_version": "1.2.0",
     "model_name": "LayoutModel",
     "state": {
      "_model_module": "@jupyter-widgets/base",
      "_model_module_version": "1.2.0",
      "_model_name": "LayoutModel",
      "_view_count": null,
      "_view_module": "@jupyter-widgets/base",
      "_view_module_version": "1.2.0",
      "_view_name": "LayoutView",
      "align_content": null,
      "align_items": null,
      "align_self": null,
      "border": null,
      "bottom": null,
      "display": null,
      "flex": null,
      "flex_flow": null,
      "grid_area": null,
      "grid_auto_columns": null,
      "grid_auto_flow": null,
      "grid_auto_rows": null,
      "grid_column": null,
      "grid_gap": null,
      "grid_row": null,
      "grid_template_areas": null,
      "grid_template_columns": null,
      "grid_template_rows": null,
      "height": null,
      "justify_content": null,
      "justify_items": null,
      "left": null,
      "margin": null,
      "max_height": null,
      "max_width": null,
      "min_height": null,
      "min_width": null,
      "object_fit": null,
      "object_position": null,
      "order": null,
      "overflow": null,
      "overflow_x": null,
      "overflow_y": null,
      "padding": null,
      "right": null,
      "top": null,
      "visibility": null,
      "width": null
     }
    },
    "6c6a4bc4c36945f89e7321b2911726be": {
     "model_module": "@jupyter-widgets/controls",
     "model_module_version": "1.5.0",
     "model_name": "ProgressStyleModel",
     "state": {
      "_model_module": "@jupyter-widgets/controls",
      "_model_module_version": "1.5.0",
      "_model_name": "ProgressStyleModel",
      "_view_count": null,
      "_view_module": "@jupyter-widgets/base",
      "_view_module_version": "1.2.0",
      "_view_name": "StyleView",
      "bar_color": null,
      "description_width": ""
     }
    },
    "6e1f328f45e84bda8a6a97b2d3c021dc": {
     "model_module": "@jupyter-widgets/controls",
     "model_module_version": "1.5.0",
     "model_name": "HTMLModel",
     "state": {
      "_dom_classes": [],
      "_model_module": "@jupyter-widgets/controls",
      "_model_module_version": "1.5.0",
      "_model_name": "HTMLModel",
      "_view_count": null,
      "_view_module": "@jupyter-widgets/controls",
      "_view_module_version": "1.5.0",
      "_view_name": "HTMLView",
      "description": "",
      "description_tooltip": null,
      "layout": "IPY_MODEL_210096fa29104efc852acb46f544aada",
      "placeholder": "​",
      "style": "IPY_MODEL_bd769900f0944e65a2fe353f112ce019",
      "value": "type: 100%"
     }
    },
    "758d1ac1c288450da04d124e17faab57": {
     "model_module": "@jupyter-widgets/controls",
     "model_module_version": "1.5.0",
     "model_name": "ProgressStyleModel",
     "state": {
      "_model_module": "@jupyter-widgets/controls",
      "_model_module_version": "1.5.0",
      "_model_name": "ProgressStyleModel",
      "_view_count": null,
      "_view_module": "@jupyter-widgets/base",
      "_view_module_version": "1.2.0",
      "_view_name": "StyleView",
      "bar_color": null,
      "description_width": ""
     }
    },
    "769ab5e6b55d4fb2bb9e354ae2503696": {
     "model_module": "@jupyter-widgets/controls",
     "model_module_version": "1.5.0",
     "model_name": "DescriptionStyleModel",
     "state": {
      "_model_module": "@jupyter-widgets/controls",
      "_model_module_version": "1.5.0",
      "_model_name": "DescriptionStyleModel",
      "_view_count": null,
      "_view_module": "@jupyter-widgets/base",
      "_view_module_version": "1.2.0",
      "_view_name": "StyleView",
      "description_width": ""
     }
    },
    "8627060c603a45e88f297fc90378387f": {
     "model_module": "@jupyter-widgets/base",
     "model_module_version": "1.2.0",
     "model_name": "LayoutModel",
     "state": {
      "_model_module": "@jupyter-widgets/base",
      "_model_module_version": "1.2.0",
      "_model_name": "LayoutModel",
      "_view_count": null,
      "_view_module": "@jupyter-widgets/base",
      "_view_module_version": "1.2.0",
      "_view_name": "LayoutView",
      "align_content": null,
      "align_items": null,
      "align_self": null,
      "border": null,
      "bottom": null,
      "display": null,
      "flex": null,
      "flex_flow": null,
      "grid_area": null,
      "grid_auto_columns": null,
      "grid_auto_flow": null,
      "grid_auto_rows": null,
      "grid_column": null,
      "grid_gap": null,
      "grid_row": null,
      "grid_template_areas": null,
      "grid_template_columns": null,
      "grid_template_rows": null,
      "height": null,
      "justify_content": null,
      "justify_items": null,
      "left": null,
      "margin": null,
      "max_height": null,
      "max_width": null,
      "min_height": null,
      "min_width": null,
      "object_fit": null,
      "object_position": null,
      "order": null,
      "overflow": null,
      "overflow_x": null,
      "overflow_y": null,
      "padding": null,
      "right": null,
      "top": null,
      "visibility": null,
      "width": null
     }
    },
    "8923d0d0a7354cc88d94cef0651b01a6": {
     "model_module": "@jupyter-widgets/controls",
     "model_module_version": "1.5.0",
     "model_name": "DescriptionStyleModel",
     "state": {
      "_model_module": "@jupyter-widgets/controls",
      "_model_module_version": "1.5.0",
      "_model_name": "DescriptionStyleModel",
      "_view_count": null,
      "_view_module": "@jupyter-widgets/base",
      "_view_module_version": "1.2.0",
      "_view_name": "StyleView",
      "description_width": ""
     }
    },
    "8b9050dc15ea4bf59f7e0140932c6d75": {
     "model_module": "@jupyter-widgets/controls",
     "model_module_version": "1.5.0",
     "model_name": "FloatProgressModel",
     "state": {
      "_dom_classes": [],
      "_model_module": "@jupyter-widgets/controls",
      "_model_module_version": "1.5.0",
      "_model_name": "FloatProgressModel",
      "_view_count": null,
      "_view_module": "@jupyter-widgets/controls",
      "_view_module_version": "1.5.0",
      "_view_name": "ProgressView",
      "bar_style": "success",
      "description": "",
      "description_tooltip": null,
      "layout": "IPY_MODEL_049ec479dc34445ba19315febd7fb4a3",
      "max": 5,
      "min": 0,
      "orientation": "horizontal",
      "style": "IPY_MODEL_6c6a4bc4c36945f89e7321b2911726be",
      "value": 5
     }
    },
    "9bbac9c48b46491e8ff282acbdb9237f": {
     "model_module": "@jupyter-widgets/controls",
     "model_module_version": "1.5.0",
     "model_name": "DescriptionStyleModel",
     "state": {
      "_model_module": "@jupyter-widgets/controls",
      "_model_module_version": "1.5.0",
      "_model_name": "DescriptionStyleModel",
      "_view_count": null,
      "_view_module": "@jupyter-widgets/base",
      "_view_module_version": "1.2.0",
      "_view_name": "StyleView",
      "description_width": ""
     }
    },
    "9d50ab07c7d0444dbc848d7e63a66e2b": {
     "model_module": "@jupyter-widgets/controls",
     "model_module_version": "1.5.0",
     "model_name": "ProgressStyleModel",
     "state": {
      "_model_module": "@jupyter-widgets/controls",
      "_model_module_version": "1.5.0",
      "_model_name": "ProgressStyleModel",
      "_view_count": null,
      "_view_module": "@jupyter-widgets/base",
      "_view_module_version": "1.2.0",
      "_view_name": "StyleView",
      "bar_color": null,
      "description_width": ""
     }
    },
    "b23e99476edc4966acf067ff740cdcbc": {
     "model_module": "@jupyter-widgets/controls",
     "model_module_version": "1.5.0",
     "model_name": "HTMLModel",
     "state": {
      "_dom_classes": [],
      "_model_module": "@jupyter-widgets/controls",
      "_model_module_version": "1.5.0",
      "_model_name": "HTMLModel",
      "_view_count": null,
      "_view_module": "@jupyter-widgets/controls",
      "_view_module_version": "1.5.0",
      "_view_name": "HTMLView",
      "description": "",
      "description_tooltip": null,
      "layout": "IPY_MODEL_306614519dd34027a3c613db659676d9",
      "placeholder": "​",
      "style": "IPY_MODEL_9bbac9c48b46491e8ff282acbdb9237f",
      "value": " 3/3 [00:00&lt;00:00,  8.72it/s]"
     }
    },
    "bd769900f0944e65a2fe353f112ce019": {
     "model_module": "@jupyter-widgets/controls",
     "model_module_version": "1.5.0",
     "model_name": "DescriptionStyleModel",
     "state": {
      "_model_module": "@jupyter-widgets/controls",
      "_model_module_version": "1.5.0",
      "_model_name": "DescriptionStyleModel",
      "_view_count": null,
      "_view_module": "@jupyter-widgets/base",
      "_view_module_version": "1.2.0",
      "_view_name": "StyleView",
      "description_width": ""
     }
    },
    "bf4358f368704c659fe27c29974c18f2": {
     "model_module": "@jupyter-widgets/base",
     "model_module_version": "1.2.0",
     "model_name": "LayoutModel",
     "state": {
      "_model_module": "@jupyter-widgets/base",
      "_model_module_version": "1.2.0",
      "_model_name": "LayoutModel",
      "_view_count": null,
      "_view_module": "@jupyter-widgets/base",
      "_view_module_version": "1.2.0",
      "_view_name": "LayoutView",
      "align_content": null,
      "align_items": null,
      "align_self": null,
      "border": null,
      "bottom": null,
      "display": null,
      "flex": null,
      "flex_flow": null,
      "grid_area": null,
      "grid_auto_columns": null,
      "grid_auto_flow": null,
      "grid_auto_rows": null,
      "grid_column": null,
      "grid_gap": null,
      "grid_row": null,
      "grid_template_areas": null,
      "grid_template_columns": null,
      "grid_template_rows": null,
      "height": null,
      "justify_content": null,
      "justify_items": null,
      "left": null,
      "margin": null,
      "max_height": null,
      "max_width": null,
      "min_height": null,
      "min_width": null,
      "object_fit": null,
      "object_position": null,
      "order": null,
      "overflow": null,
      "overflow_x": null,
      "overflow_y": null,
      "padding": null,
      "right": null,
      "top": null,
      "visibility": null,
      "width": null
     }
    },
    "c3b7b8f3180e4413ac5b3196431765ba": {
     "model_module": "@jupyter-widgets/controls",
     "model_module_version": "1.5.0",
     "model_name": "HTMLModel",
     "state": {
      "_dom_classes": [],
      "_model_module": "@jupyter-widgets/controls",
      "_model_module_version": "1.5.0",
      "_model_name": "HTMLModel",
      "_view_count": null,
      "_view_module": "@jupyter-widgets/controls",
      "_view_module_version": "1.5.0",
      "_view_name": "HTMLView",
      "description": "",
      "description_tooltip": null,
      "layout": "IPY_MODEL_e19a99ac85184a3fbc1ad9a134ebc9d9",
      "placeholder": "​",
      "style": "IPY_MODEL_f6301fa9b0e44a9ea1ac473372601348",
      "value": " 5/5 [00:02&lt;00:00,  2.27it/s]"
     }
    },
    "c7cfbc29c2f24ce28afc3664118ec5b2": {
     "model_module": "@jupyter-widgets/controls",
     "model_module_version": "1.5.0",
     "model_name": "FloatProgressModel",
     "state": {
      "_dom_classes": [],
      "_model_module": "@jupyter-widgets/controls",
      "_model_module_version": "1.5.0",
      "_model_name": "FloatProgressModel",
      "_view_count": null,
      "_view_module": "@jupyter-widgets/controls",
      "_view_module_version": "1.5.0",
      "_view_name": "ProgressView",
      "bar_style": "success",
      "description": "",
      "description_tooltip": null,
      "layout": "IPY_MODEL_3d19e3a3d10c4d4283ebe1af46bbcc26",
      "max": 136,
      "min": 0,
      "orientation": "horizontal",
      "style": "IPY_MODEL_9d50ab07c7d0444dbc848d7e63a66e2b",
      "value": 136
     }
    },
    "cba9ca6281bf4de3bff3d1751b43218a": {
     "model_module": "@jupyter-widgets/base",
     "model_module_version": "1.2.0",
     "model_name": "LayoutModel",
     "state": {
      "_model_module": "@jupyter-widgets/base",
      "_model_module_version": "1.2.0",
      "_model_name": "LayoutModel",
      "_view_count": null,
      "_view_module": "@jupyter-widgets/base",
      "_view_module_version": "1.2.0",
      "_view_name": "LayoutView",
      "align_content": null,
      "align_items": null,
      "align_self": null,
      "border": null,
      "bottom": null,
      "display": null,
      "flex": null,
      "flex_flow": null,
      "grid_area": null,
      "grid_auto_columns": null,
      "grid_auto_flow": null,
      "grid_auto_rows": null,
      "grid_column": null,
      "grid_gap": null,
      "grid_row": null,
      "grid_template_areas": null,
      "grid_template_columns": null,
      "grid_template_rows": null,
      "height": null,
      "justify_content": null,
      "justify_items": null,
      "left": null,
      "margin": null,
      "max_height": null,
      "max_width": null,
      "min_height": null,
      "min_width": null,
      "object_fit": null,
      "object_position": null,
      "order": null,
      "overflow": null,
      "overflow_x": null,
      "overflow_y": null,
      "padding": null,
      "right": null,
      "top": null,
      "visibility": null,
      "width": null
     }
    },
    "cbe40cf61d8f4c22900e45dce864e112": {
     "model_module": "@jupyter-widgets/controls",
     "model_module_version": "1.5.0",
     "model_name": "HTMLModel",
     "state": {
      "_dom_classes": [],
      "_model_module": "@jupyter-widgets/controls",
      "_model_module_version": "1.5.0",
      "_model_name": "HTMLModel",
      "_view_count": null,
      "_view_module": "@jupyter-widgets/controls",
      "_view_module_version": "1.5.0",
      "_view_name": "HTMLView",
      "description": "",
      "description_tooltip": null,
      "layout": "IPY_MODEL_29d2deb8b9ad4045ad4e615053957410",
      "placeholder": "​",
      "style": "IPY_MODEL_8923d0d0a7354cc88d94cef0651b01a6",
      "value": "type: 100%"
     }
    },
    "d77551e7e9b64d889d554f2b373c8b2d": {
     "model_module": "@jupyter-widgets/controls",
     "model_module_version": "1.5.0",
     "model_name": "FloatProgressModel",
     "state": {
      "_dom_classes": [],
      "_model_module": "@jupyter-widgets/controls",
      "_model_module_version": "1.5.0",
      "_model_name": "FloatProgressModel",
      "_view_count": null,
      "_view_module": "@jupyter-widgets/controls",
      "_view_module_version": "1.5.0",
      "_view_name": "ProgressView",
      "bar_style": "success",
      "description": "",
      "description_tooltip": null,
      "layout": "IPY_MODEL_2502889f03f54ca686a4aa0d9e7a1458",
      "max": 5,
      "min": 0,
      "orientation": "horizontal",
      "style": "IPY_MODEL_4d42ba48c7ac4f8cb343b3a13fa4e6d6",
      "value": 5
     }
    },
    "df9d7d0478d5467f8ab84338f186ec7e": {
     "model_module": "@jupyter-widgets/controls",
     "model_module_version": "1.5.0",
     "model_name": "HBoxModel",
     "state": {
      "_dom_classes": [],
      "_model_module": "@jupyter-widgets/controls",
      "_model_module_version": "1.5.0",
      "_model_name": "HBoxModel",
      "_view_count": null,
      "_view_module": "@jupyter-widgets/controls",
      "_view_module_version": "1.5.0",
      "_view_name": "HBoxView",
      "box_style": "",
      "children": [
       "IPY_MODEL_e09cafbcbb4d4c158bf8e33bb3e4728a",
       "IPY_MODEL_d77551e7e9b64d889d554f2b373c8b2d",
       "IPY_MODEL_393733b7bc16448aa30aeba34a5de468"
      ],
      "layout": "IPY_MODEL_5df94447815547d9974dd82f6bf096c0"
     }
    },
    "e09cafbcbb4d4c158bf8e33bb3e4728a": {
     "model_module": "@jupyter-widgets/controls",
     "model_module_version": "1.5.0",
     "model_name": "HTMLModel",
     "state": {
      "_dom_classes": [],
      "_model_module": "@jupyter-widgets/controls",
      "_model_module_version": "1.5.0",
      "_model_name": "HTMLModel",
      "_view_count": null,
      "_view_module": "@jupyter-widgets/controls",
      "_view_module_version": "1.5.0",
      "_view_name": "HTMLView",
      "description": "",
      "description_tooltip": null,
      "layout": "IPY_MODEL_5ebc5254c8264eb5876f0c896953ed1d",
      "placeholder": "​",
      "style": "IPY_MODEL_4b9cab537d05488aa1ef45f0e97cc197",
      "value": "type: 100%"
     }
    },
    "e19a99ac85184a3fbc1ad9a134ebc9d9": {
     "model_module": "@jupyter-widgets/base",
     "model_module_version": "1.2.0",
     "model_name": "LayoutModel",
     "state": {
      "_model_module": "@jupyter-widgets/base",
      "_model_module_version": "1.2.0",
      "_model_name": "LayoutModel",
      "_view_count": null,
      "_view_module": "@jupyter-widgets/base",
      "_view_module_version": "1.2.0",
      "_view_name": "LayoutView",
      "align_content": null,
      "align_items": null,
      "align_self": null,
      "border": null,
      "bottom": null,
      "display": null,
      "flex": null,
      "flex_flow": null,
      "grid_area": null,
      "grid_auto_columns": null,
      "grid_auto_flow": null,
      "grid_auto_rows": null,
      "grid_column": null,
      "grid_gap": null,
      "grid_row": null,
      "grid_template_areas": null,
      "grid_template_columns": null,
      "grid_template_rows": null,
      "height": null,
      "justify_content": null,
      "justify_items": null,
      "left": null,
      "margin": null,
      "max_height": null,
      "max_width": null,
      "min_height": null,
      "min_width": null,
      "object_fit": null,
      "object_position": null,
      "order": null,
      "overflow": null,
      "overflow_x": null,
      "overflow_y": null,
      "padding": null,
      "right": null,
      "top": null,
      "visibility": null,
      "width": null
     }
    },
    "ea57888a78d94fb3934c16a096ad204e": {
     "model_module": "@jupyter-widgets/controls",
     "model_module_version": "1.5.0",
     "model_name": "HTMLModel",
     "state": {
      "_dom_classes": [],
      "_model_module": "@jupyter-widgets/controls",
      "_model_module_version": "1.5.0",
      "_model_name": "HTMLModel",
      "_view_count": null,
      "_view_module": "@jupyter-widgets/controls",
      "_view_module_version": "1.5.0",
      "_view_name": "HTMLView",
      "description": "",
      "description_tooltip": null,
      "layout": "IPY_MODEL_cba9ca6281bf4de3bff3d1751b43218a",
      "placeholder": "​",
      "style": "IPY_MODEL_1062641d693d4c439c5225cd5430e991",
      "value": " 136/136 [00:02&lt;00:00, 64.23it/s]"
     }
    },
    "f6301fa9b0e44a9ea1ac473372601348": {
     "model_module": "@jupyter-widgets/controls",
     "model_module_version": "1.5.0",
     "model_name": "DescriptionStyleModel",
     "state": {
      "_model_module": "@jupyter-widgets/controls",
      "_model_module_version": "1.5.0",
      "_model_name": "DescriptionStyleModel",
      "_view_count": null,
      "_view_module": "@jupyter-widgets/base",
      "_view_module_version": "1.2.0",
      "_view_name": "StyleView",
      "description_width": ""
     }
    }
   }
  }
 },
 "nbformat": 4,
 "nbformat_minor": 1
}
